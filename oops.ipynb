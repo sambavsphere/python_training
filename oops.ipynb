{
 "cells": [
  {
   "cell_type": "code",
   "execution_count": 1,
   "metadata": {
    "collapsed": true
   },
   "outputs": [],
   "source": [
    "def add(a,b):\n",
    "    c=20\n",
    "    return a+b\n",
    "def mul(a,b):\n",
    "    \n",
    "    return a*b"
   ]
  },
  {
   "cell_type": "code",
   "execution_count": 2,
   "metadata": {
    "collapsed": false
   },
   "outputs": [
    {
     "name": "stdout",
     "output_type": "stream",
     "text": [
      "30\n",
      "200\n"
     ]
    }
   ],
   "source": [
    "a=10\n",
    "b=20\n",
    "print add(a,b)\n",
    "print mul(a,b)"
   ]
  },
  {
   "cell_type": "code",
   "execution_count": 4,
   "metadata": {
    "collapsed": false
   },
   "outputs": [
    {
     "ename": "NameError",
     "evalue": "name 'set_emp' is not defined",
     "output_type": "error",
     "traceback": [
      "\u001b[0;31m---------------------------------------------------------------------------\u001b[0m",
      "\u001b[0;31mNameError\u001b[0m                                 Traceback (most recent call last)",
      "\u001b[0;32m<ipython-input-4-d613587d3f00>\u001b[0m in \u001b[0;36m<module>\u001b[0;34m()\u001b[0m\n\u001b[1;32m      3\u001b[0m         \u001b[1;32mprint\u001b[0m \u001b[0mdata\u001b[0m\u001b[1;33m\u001b[0m\u001b[0m\n\u001b[1;32m      4\u001b[0m \u001b[1;33m\u001b[0m\u001b[0m\n\u001b[0;32m----> 5\u001b[0;31m \u001b[0mset_emp\u001b[0m\u001b[1;33m(\u001b[0m\u001b[1;34m\"emp_name\"\u001b[0m\u001b[1;33m,\u001b[0m\u001b[1;36m123\u001b[0m\u001b[1;33m)\u001b[0m\u001b[1;33m\u001b[0m\u001b[0m\n\u001b[0m",
      "\u001b[0;31mNameError\u001b[0m: name 'set_emp' is not defined"
     ]
    }
   ],
   "source": [
    "class Emp:\n",
    "    def set_emp(*data):\n",
    "        print data\n",
    "\n",
    "set_emp(\"emp_name\",123)        "
   ]
  },
  {
   "cell_type": "code",
   "execution_count": 5,
   "metadata": {
    "collapsed": false
   },
   "outputs": [
    {
     "ename": "TypeError",
     "evalue": "unbound method set_emp() must be called with Emp instance as first argument (got str instance instead)",
     "output_type": "error",
     "traceback": [
      "\u001b[0;31m---------------------------------------------------------------------------\u001b[0m",
      "\u001b[0;31mTypeError\u001b[0m                                 Traceback (most recent call last)",
      "\u001b[0;32m<ipython-input-5-37aa96b9d304>\u001b[0m in \u001b[0;36m<module>\u001b[0;34m()\u001b[0m\n\u001b[1;32m      3\u001b[0m         \u001b[1;32mprint\u001b[0m \u001b[0mdata\u001b[0m\u001b[1;33m\u001b[0m\u001b[0m\n\u001b[1;32m      4\u001b[0m \u001b[1;33m\u001b[0m\u001b[0m\n\u001b[0;32m----> 5\u001b[0;31m \u001b[0mEmp\u001b[0m\u001b[1;33m.\u001b[0m\u001b[0mset_emp\u001b[0m\u001b[1;33m(\u001b[0m\u001b[1;34m\"emp_name\"\u001b[0m\u001b[1;33m,\u001b[0m\u001b[1;36m123\u001b[0m\u001b[1;33m)\u001b[0m\u001b[1;33m\u001b[0m\u001b[0m\n\u001b[0m",
      "\u001b[0;31mTypeError\u001b[0m: unbound method set_emp() must be called with Emp instance as first argument (got str instance instead)"
     ]
    }
   ],
   "source": [
    "class Emp:\n",
    "    def set_emp(*data):\n",
    "        print data\n",
    "\n",
    "Emp.set_emp(\"emp_name\",123)        "
   ]
  },
  {
   "cell_type": "code",
   "execution_count": 6,
   "metadata": {
    "collapsed": false
   },
   "outputs": [
    {
     "name": "stdout",
     "output_type": "stream",
     "text": [
      "(<__main__.Emp instance at 0x0000000003E02708>, 'emp_name', 123)\n"
     ]
    }
   ],
   "source": [
    "class Emp:\n",
    "    def set_emp(*data):\n",
    "        print data\n",
    "emp_ins = Emp()\n",
    "emp_ins.set_emp(\"emp_name\",123)        "
   ]
  },
  {
   "cell_type": "code",
   "execution_count": 7,
   "metadata": {
    "collapsed": false
   },
   "outputs": [
    {
     "name": "stdout",
     "output_type": "stream",
     "text": [
      "(10, 20)\n",
      "(10, 20, 30, 40)\n"
     ]
    }
   ],
   "source": [
    "def fun(*a):\n",
    "    print a\n",
    "fun(10,20)\n",
    "fun(10,20,30,40)"
   ]
  },
  {
   "cell_type": "code",
   "execution_count": 8,
   "metadata": {
    "collapsed": false
   },
   "outputs": [
    {
     "name": "stdout",
     "output_type": "stream",
     "text": [
      "(<__main__.Emp instance at 0x0000000003E02CC8>, 'emp_name', 123)\n"
     ]
    },
    {
     "ename": "NameError",
     "evalue": "global name 'oper1' is not defined",
     "output_type": "error",
     "traceback": [
      "\u001b[0;31m---------------------------------------------------------------------------\u001b[0m",
      "\u001b[0;31mNameError\u001b[0m                                 Traceback (most recent call last)",
      "\u001b[0;32m<ipython-input-8-5bac1cfcf44d>\u001b[0m in \u001b[0;36m<module>\u001b[0;34m()\u001b[0m\n\u001b[1;32m     10\u001b[0m \u001b[1;33m\u001b[0m\u001b[0m\n\u001b[1;32m     11\u001b[0m \u001b[0memp_ins\u001b[0m \u001b[1;33m=\u001b[0m \u001b[0mEmp\u001b[0m\u001b[1;33m(\u001b[0m\u001b[1;33m)\u001b[0m\u001b[1;33m\u001b[0m\u001b[0m\n\u001b[0;32m---> 12\u001b[0;31m \u001b[0memp_ins\u001b[0m\u001b[1;33m.\u001b[0m\u001b[0moperations\u001b[0m\u001b[1;33m(\u001b[0m\u001b[1;34m\"emp_name\"\u001b[0m\u001b[1;33m,\u001b[0m\u001b[1;36m123\u001b[0m\u001b[1;33m)\u001b[0m\u001b[1;33m\u001b[0m\u001b[0m\n\u001b[0m",
      "\u001b[0;32m<ipython-input-8-5bac1cfcf44d>\u001b[0m in \u001b[0;36moperations\u001b[0;34m(*a)\u001b[0m\n\u001b[1;32m      6\u001b[0m     \u001b[1;32mdef\u001b[0m \u001b[0moperations\u001b[0m\u001b[1;33m(\u001b[0m\u001b[1;33m*\u001b[0m\u001b[0ma\u001b[0m\u001b[1;33m)\u001b[0m\u001b[1;33m:\u001b[0m\u001b[1;33m\u001b[0m\u001b[0m\n\u001b[1;32m      7\u001b[0m         \u001b[1;32mprint\u001b[0m \u001b[0ma\u001b[0m\u001b[1;33m\u001b[0m\u001b[0m\n\u001b[0;32m----> 8\u001b[0;31m         \u001b[0moper1\u001b[0m\u001b[1;33m(\u001b[0m\u001b[1;33m)\u001b[0m\u001b[1;33m\u001b[0m\u001b[0m\n\u001b[0m\u001b[1;32m      9\u001b[0m         \u001b[0moper2\u001b[0m\u001b[1;33m(\u001b[0m\u001b[1;33m)\u001b[0m\u001b[1;33m\u001b[0m\u001b[0m\n\u001b[1;32m     10\u001b[0m \u001b[1;33m\u001b[0m\u001b[0m\n",
      "\u001b[0;31mNameError\u001b[0m: global name 'oper1' is not defined"
     ]
    }
   ],
   "source": [
    "class Emp:\n",
    "    def oper1(*a):\n",
    "        print \"oper1\"\n",
    "    def oper2(*a):\n",
    "        print \"oper2\"\n",
    "    def operations(*a):\n",
    "        print a\n",
    "        oper1()\n",
    "        oper2()\n",
    "        \n",
    "emp_ins = Emp()\n",
    "emp_ins.operations(\"emp_name\",123)        "
   ]
  },
  {
   "cell_type": "code",
   "execution_count": 11,
   "metadata": {
    "collapsed": false
   },
   "outputs": [
    {
     "ename": "NameError",
     "evalue": "global name 'name' is not defined",
     "output_type": "error",
     "traceback": [
      "\u001b[0;31m---------------------------------------------------------------------------\u001b[0m",
      "\u001b[0;31mNameError\u001b[0m                                 Traceback (most recent call last)",
      "\u001b[0;32m<ipython-input-11-8bcf50239fe8>\u001b[0m in \u001b[0;36m<module>\u001b[0;34m()\u001b[0m\n\u001b[1;32m      6\u001b[0m         \u001b[1;32mprint\u001b[0m \u001b[0me_id\u001b[0m\u001b[1;33m\u001b[0m\u001b[0m\n\u001b[1;32m      7\u001b[0m \u001b[0memp_ins\u001b[0m \u001b[1;33m=\u001b[0m \u001b[0mEmp\u001b[0m\u001b[1;33m(\u001b[0m\u001b[1;33m)\u001b[0m\u001b[1;33m\u001b[0m\u001b[0m\n\u001b[0;32m----> 8\u001b[0;31m \u001b[0memp_ins\u001b[0m\u001b[1;33m.\u001b[0m\u001b[0mset_data\u001b[0m\u001b[1;33m(\u001b[0m\u001b[1;34m\"emp\"\u001b[0m\u001b[1;33m,\u001b[0m\u001b[1;36m123\u001b[0m\u001b[1;33m)\u001b[0m\u001b[1;33m\u001b[0m\u001b[0m\n\u001b[0m",
      "\u001b[0;32m<ipython-input-11-8bcf50239fe8>\u001b[0m in \u001b[0;36mset_data\u001b[0;34m(s, *a)\u001b[0m\n\u001b[1;32m      3\u001b[0m     \u001b[0me_id\u001b[0m\u001b[1;33m=\u001b[0m\u001b[1;36m123\u001b[0m\u001b[1;33m\u001b[0m\u001b[0m\n\u001b[1;32m      4\u001b[0m     \u001b[1;32mdef\u001b[0m \u001b[0mset_data\u001b[0m\u001b[1;33m(\u001b[0m\u001b[0ms\u001b[0m\u001b[1;33m,\u001b[0m\u001b[1;33m*\u001b[0m\u001b[0ma\u001b[0m\u001b[1;33m)\u001b[0m\u001b[1;33m:\u001b[0m\u001b[1;33m\u001b[0m\u001b[0m\n\u001b[0;32m----> 5\u001b[0;31m         \u001b[1;32mprint\u001b[0m \u001b[0mname\u001b[0m\u001b[1;33m\u001b[0m\u001b[0m\n\u001b[0m\u001b[1;32m      6\u001b[0m         \u001b[1;32mprint\u001b[0m \u001b[0me_id\u001b[0m\u001b[1;33m\u001b[0m\u001b[0m\n\u001b[1;32m      7\u001b[0m \u001b[0memp_ins\u001b[0m \u001b[1;33m=\u001b[0m \u001b[0mEmp\u001b[0m\u001b[1;33m(\u001b[0m\u001b[1;33m)\u001b[0m\u001b[1;33m\u001b[0m\u001b[0m\n",
      "\u001b[0;31mNameError\u001b[0m: global name 'name' is not defined"
     ]
    }
   ],
   "source": [
    "class Emp:\n",
    "    name=\"Anil\"\n",
    "    e_id=123\n",
    "    def set_data(s,*a):\n",
    "        print name\n",
    "        print e_id\n",
    "emp_ins = Emp()\n",
    "emp_ins.set_data(\"emp\",123)\n"
   ]
  },
  {
   "cell_type": "code",
   "execution_count": 16,
   "metadata": {
    "collapsed": false
   },
   "outputs": [
    {
     "name": "stdout",
     "output_type": "stream",
     "text": [
      "Anil\n",
      "Ashok\n",
      "123\n"
     ]
    }
   ],
   "source": [
    "class Emp:\n",
    "    name=\"Anil\"\n",
    "    e_id=123\n",
    "    def set_data(s,*a):\n",
    "        print s\n",
    "        print s.name\n",
    "        print s.e_id\n",
    "emp_ins = Emp()\n",
    "print emp_ins.name\n",
    "emp_ins.name=\"Ashok\"\n",
    "emp_ins.set_data()\n"
   ]
  },
  {
   "cell_type": "code",
   "execution_count": 17,
   "metadata": {
    "collapsed": false
   },
   "outputs": [
    {
     "name": "stdout",
     "output_type": "stream",
     "text": [
      "Anil\n",
      "<__main__.Emp instance at 0x0000000003EA36C8>\n",
      "()\n",
      "Ashok\n",
      "123\n"
     ]
    }
   ],
   "source": [
    "class Emp:\n",
    "    name=\"Anil\"\n",
    "    e_id=123\n",
    "    def set_data(s,*a):\n",
    "        print s\n",
    "        print a\n",
    "        print s.name\n",
    "        print s.e_id\n",
    "emp_ins = Emp()\n",
    "print emp_ins.name\n",
    "emp_ins.name=\"Ashok\"\n",
    "emp_ins.set_data()\n"
   ]
  },
  {
   "cell_type": "code",
   "execution_count": 19,
   "metadata": {
    "collapsed": false
   },
   "outputs": [
    {
     "data": {
      "text/plain": [
       "('Anil', 123)"
      ]
     },
     "execution_count": 19,
     "metadata": {},
     "output_type": "execute_result"
    }
   ],
   "source": [
    "class Emp:   \n",
    "    def set_data(s,*a):\n",
    "        s.name=a[0]\n",
    "        s.e_id=a[1]\n",
    "    def get_data(s1):\n",
    "        return s1.name, s1.e_id\n",
    "        \n",
    "emp_ins = Emp()\n",
    "emp_ins.set_data(\"Anil\",123)\n",
    "emp_ins.get_data()\n"
   ]
  },
  {
   "cell_type": "code",
   "execution_count": 21,
   "metadata": {
    "collapsed": false
   },
   "outputs": [
    {
     "name": "stdout",
     "output_type": "stream",
     "text": [
      "('Anil', 123)\n",
      "('emp2', 2)\n"
     ]
    }
   ],
   "source": [
    "class Emp:   \n",
    "    def set_data(s,*a):\n",
    "        s.name=a[0]\n",
    "        s.e_id=a[1]\n",
    "    def get_data(s1):\n",
    "        return s1.name, s1.e_id\n",
    "        \n",
    "emp_ins = Emp()\n",
    "emp_ins.set_data(\"Anil\",123)\n",
    "print emp_ins.get_data()\n",
    "emp2 = Emp()\n",
    "emp2.set_data(\"emp2\",2)\n",
    "print emp2.get_data()"
   ]
  },
  {
   "cell_type": "code",
   "execution_count": 22,
   "metadata": {
    "collapsed": false
   },
   "outputs": [
    {
     "name": "stdout",
     "output_type": "stream",
     "text": [
      "this is constructor\n"
     ]
    }
   ],
   "source": [
    "class Emp: \n",
    "    # def __new__(cls)\n",
    "    def __init__(s,*a):\n",
    "        print \"this is constructor\"\n",
    "        '''\n",
    "        s.name=a[0]\n",
    "        s.e_id=a[1]\n",
    "        '''  \n",
    "    def get_data(s1):\n",
    "        return s1.name, s1.e_id      \n",
    "emp_ins = Emp()"
   ]
  },
  {
   "cell_type": "code",
   "execution_count": 23,
   "metadata": {
    "collapsed": true
   },
   "outputs": [],
   "source": [
    "class Emp: \n",
    "    # def __new__(cls)\n",
    "    def __init__(s,*a):\n",
    "        s.name=a[0]\n",
    "        s.e_id=a[1]\n",
    "    def get_data(s1):\n",
    "        return s1.name, s1.e_id      \n",
    "emp_ins = Emp('Anil',123)"
   ]
  },
  {
   "cell_type": "code",
   "execution_count": 24,
   "metadata": {
    "collapsed": false
   },
   "outputs": [
    {
     "data": {
      "text/plain": [
       "('Anil', 123)"
      ]
     },
     "execution_count": 24,
     "metadata": {},
     "output_type": "execute_result"
    }
   ],
   "source": [
    "emp_ins.get_data()"
   ]
  },
  {
   "cell_type": "code",
   "execution_count": 26,
   "metadata": {
    "collapsed": false
   },
   "outputs": [
    {
     "data": {
      "text/plain": [
       "('Ashok', 123)"
      ]
     },
     "execution_count": 26,
     "metadata": {},
     "output_type": "execute_result"
    }
   ],
   "source": [
    "class Emp: \n",
    "    # def __new__(cls)\n",
    "    def __init__(s,*a):\n",
    "        s.name=a[0]\n",
    "        s.e_id=a[1]\n",
    "    def get_data(s1):\n",
    "        return s1.name, s1.e_id      \n",
    "emp_ins = Emp('Anil',123)\n",
    "emp_ins.name=\"Ashok\"\n",
    "emp_ins.get_data()"
   ]
  },
  {
   "cell_type": "code",
   "execution_count": 32,
   "metadata": {
    "collapsed": false
   },
   "outputs": [
    {
     "name": "stdout",
     "output_type": "stream",
     "text": [
      "op1 in c1\n"
     ]
    },
    {
     "ename": "AttributeError",
     "evalue": "c1 instance has no attribute '__sec'",
     "output_type": "error",
     "traceback": [
      "\u001b[0;31m---------------------------------------------------------------------------\u001b[0m",
      "\u001b[0;31mAttributeError\u001b[0m                            Traceback (most recent call last)",
      "\u001b[0;32m<ipython-input-32-684bb7329b42>\u001b[0m in \u001b[0;36m<module>\u001b[0;34m()\u001b[0m\n\u001b[1;32m      8\u001b[0m \u001b[0mo1\u001b[0m \u001b[1;33m=\u001b[0m \u001b[0mc1\u001b[0m\u001b[1;33m(\u001b[0m\u001b[1;33m)\u001b[0m\u001b[1;33m\u001b[0m\u001b[0m\n\u001b[1;32m      9\u001b[0m \u001b[0mo1\u001b[0m\u001b[1;33m.\u001b[0m\u001b[0mop1\u001b[0m\u001b[1;33m(\u001b[0m\u001b[1;33m)\u001b[0m\u001b[1;33m\u001b[0m\u001b[0m\n\u001b[0;32m---> 10\u001b[0;31m \u001b[0mo1\u001b[0m\u001b[1;33m.\u001b[0m\u001b[0m__sec\u001b[0m\u001b[1;33m(\u001b[0m\u001b[1;33m)\u001b[0m\u001b[1;33m\u001b[0m\u001b[0m\n\u001b[0m",
      "\u001b[0;31mAttributeError\u001b[0m: c1 instance has no attribute '__sec'"
     ]
    }
   ],
   "source": [
    "class c1:\n",
    "    def op1(self):\n",
    "        print \"op1 in c1\"\n",
    "    def op2(self):\n",
    "        print \"op2 in c1\"\n",
    "    def __sec(self):\n",
    "        print \"secured method\"\n",
    "o1 = c1()\n",
    "o1.op1()\n",
    "o1.__sec()"
   ]
  },
  {
   "cell_type": "code",
   "execution_count": 33,
   "metadata": {
    "collapsed": false
   },
   "outputs": [
    {
     "name": "stdout",
     "output_type": "stream",
     "text": [
      "op1 in c1\n",
      "secured method\n"
     ]
    },
    {
     "ename": "AttributeError",
     "evalue": "c1 instance has no attribute '__sec'",
     "output_type": "error",
     "traceback": [
      "\u001b[0;31m---------------------------------------------------------------------------\u001b[0m",
      "\u001b[0;31mAttributeError\u001b[0m                            Traceback (most recent call last)",
      "\u001b[0;32m<ipython-input-33-85783b657350>\u001b[0m in \u001b[0;36m<module>\u001b[0;34m()\u001b[0m\n\u001b[1;32m      9\u001b[0m \u001b[0mo1\u001b[0m \u001b[1;33m=\u001b[0m \u001b[0mc1\u001b[0m\u001b[1;33m(\u001b[0m\u001b[1;33m)\u001b[0m\u001b[1;33m\u001b[0m\u001b[0m\n\u001b[1;32m     10\u001b[0m \u001b[0mo1\u001b[0m\u001b[1;33m.\u001b[0m\u001b[0mop1\u001b[0m\u001b[1;33m(\u001b[0m\u001b[1;33m)\u001b[0m\u001b[1;33m\u001b[0m\u001b[0m\n\u001b[0;32m---> 11\u001b[0;31m \u001b[0mo1\u001b[0m\u001b[1;33m.\u001b[0m\u001b[0m__sec\u001b[0m\u001b[1;33m(\u001b[0m\u001b[1;33m)\u001b[0m\u001b[1;33m\u001b[0m\u001b[0m\n\u001b[0m",
      "\u001b[0;31mAttributeError\u001b[0m: c1 instance has no attribute '__sec'"
     ]
    }
   ],
   "source": [
    "class c1:\n",
    "    def op1(self):\n",
    "        print \"op1 in c1\"\n",
    "        self.__sec()\n",
    "    def op2(self):\n",
    "        print \"op2 in c1\"\n",
    "    def __sec(self):\n",
    "        print \"secured method\"\n",
    "o1 = c1()\n",
    "o1.op1()\n",
    "o1.__sec()"
   ]
  },
  {
   "cell_type": "code",
   "execution_count": 34,
   "metadata": {
    "collapsed": false
   },
   "outputs": [
    {
     "name": "stdout",
     "output_type": "stream",
     "text": [
      "op1 in c1\n",
      "secured method\n",
      "op2 in c1\n"
     ]
    }
   ],
   "source": [
    "class c1:\n",
    "    def op1(self):\n",
    "        print \"op1 in c1\"\n",
    "        self.__sec()\n",
    "    def op2(self):\n",
    "        print \"op2 in c1\"\n",
    "    def __sec(self):\n",
    "        print \"secured method\"\n",
    "class c2:\n",
    "    def operations(self):\n",
    "        o1=c1()\n",
    "        o1.op1()\n",
    "        o1.op2()\n",
    "    \n",
    "o2 = c2()\n",
    "o2.operations()"
   ]
  },
  {
   "cell_type": "code",
   "execution_count": 35,
   "metadata": {
    "collapsed": false
   },
   "outputs": [
    {
     "ename": "AttributeError",
     "evalue": "c2 instance has no attribute 'op1'",
     "output_type": "error",
     "traceback": [
      "\u001b[0;31m---------------------------------------------------------------------------\u001b[0m",
      "\u001b[0;31mAttributeError\u001b[0m                            Traceback (most recent call last)",
      "\u001b[0;32m<ipython-input-35-1001e7dfaee3>\u001b[0m in \u001b[0;36m<module>\u001b[0;34m()\u001b[0m\n\u001b[1;32m     13\u001b[0m \u001b[1;33m\u001b[0m\u001b[0m\n\u001b[1;32m     14\u001b[0m \u001b[0mo2\u001b[0m \u001b[1;33m=\u001b[0m \u001b[0mc2\u001b[0m\u001b[1;33m(\u001b[0m\u001b[1;33m)\u001b[0m\u001b[1;33m\u001b[0m\u001b[0m\n\u001b[0;32m---> 15\u001b[0;31m \u001b[0mo2\u001b[0m\u001b[1;33m.\u001b[0m\u001b[0moperations\u001b[0m\u001b[1;33m(\u001b[0m\u001b[1;33m)\u001b[0m\u001b[1;33m\u001b[0m\u001b[0m\n\u001b[0m",
      "\u001b[0;32m<ipython-input-35-1001e7dfaee3>\u001b[0m in \u001b[0;36moperations\u001b[0;34m(self)\u001b[0m\n\u001b[1;32m      9\u001b[0m \u001b[1;32mclass\u001b[0m \u001b[0mc2\u001b[0m\u001b[1;33m:\u001b[0m\u001b[1;33m\u001b[0m\u001b[0m\n\u001b[1;32m     10\u001b[0m     \u001b[1;32mdef\u001b[0m \u001b[0moperations\u001b[0m\u001b[1;33m(\u001b[0m\u001b[0mself\u001b[0m\u001b[1;33m)\u001b[0m\u001b[1;33m:\u001b[0m\u001b[1;33m\u001b[0m\u001b[0m\n\u001b[0;32m---> 11\u001b[0;31m         \u001b[0mself\u001b[0m\u001b[1;33m.\u001b[0m\u001b[0mop1\u001b[0m\u001b[1;33m(\u001b[0m\u001b[1;33m)\u001b[0m\u001b[1;33m\u001b[0m\u001b[0m\n\u001b[0m\u001b[1;32m     12\u001b[0m         \u001b[0mself\u001b[0m\u001b[1;33m.\u001b[0m\u001b[0mop2\u001b[0m\u001b[1;33m(\u001b[0m\u001b[1;33m)\u001b[0m\u001b[1;33m\u001b[0m\u001b[0m\n\u001b[1;32m     13\u001b[0m \u001b[1;33m\u001b[0m\u001b[0m\n",
      "\u001b[0;31mAttributeError\u001b[0m: c2 instance has no attribute 'op1'"
     ]
    }
   ],
   "source": [
    "class c1:\n",
    "    def op1(self):\n",
    "        print \"op1 in c1\"\n",
    "        self.__sec()\n",
    "    def op2(self):\n",
    "        print \"op2 in c1\"\n",
    "    def __sec(self):\n",
    "        print \"secured method\"\n",
    "class c2:\n",
    "    def operations(self):\n",
    "        self.op1()\n",
    "        self.op2()\n",
    "    \n",
    "o2 = c2()\n",
    "o2.operations()"
   ]
  },
  {
   "cell_type": "code",
   "execution_count": 36,
   "metadata": {
    "collapsed": false
   },
   "outputs": [
    {
     "name": "stdout",
     "output_type": "stream",
     "text": [
      "op1 in c1\n",
      "secured method\n",
      "op2 in c1\n"
     ]
    }
   ],
   "source": [
    "class c1:\n",
    "    def op1(self):\n",
    "        print \"op1 in c1\"\n",
    "        self.__sec()\n",
    "    def op2(self):\n",
    "        print \"op2 in c1\"\n",
    "    def __sec(self):\n",
    "        print \"secured method\"\n",
    "class c2(c1):\n",
    "    def operations(self):\n",
    "        self.op1()\n",
    "        self.op2()\n",
    "    \n",
    "o2 = c2()\n",
    "o2.operations()"
   ]
  },
  {
   "cell_type": "code",
   "execution_count": 37,
   "metadata": {
    "collapsed": false
   },
   "outputs": [
    {
     "name": "stdout",
     "output_type": "stream",
     "text": [
      "op1 in c2\n",
      "op2 in c1\n"
     ]
    }
   ],
   "source": [
    "class c1:\n",
    "    def op1(self):\n",
    "        print \"op1 in c1\"\n",
    "        self.__sec()\n",
    "    def op2(self):\n",
    "        print \"op2 in c1\"\n",
    "    def __sec(self):\n",
    "        print \"secured method\"\n",
    "class c2(c1):\n",
    "    def operations(self):\n",
    "        self.op1()\n",
    "        self.op2()\n",
    "    def op1(self):\n",
    "        print \"op1 in c2\"\n",
    "    \n",
    "o2 = c2()\n",
    "o2.operations()"
   ]
  },
  {
   "cell_type": "code",
   "execution_count": 38,
   "metadata": {
    "collapsed": false
   },
   "outputs": [
    {
     "name": "stdout",
     "output_type": "stream",
     "text": [
      "op1 in c2\n",
      "op2 in c1\n"
     ]
    },
    {
     "ename": "AttributeError",
     "evalue": "c2 instance has no attribute '_c2__sec'",
     "output_type": "error",
     "traceback": [
      "\u001b[0;31m---------------------------------------------------------------------------\u001b[0m",
      "\u001b[0;31mAttributeError\u001b[0m                            Traceback (most recent call last)",
      "\u001b[0;32m<ipython-input-38-c20a6af63c2e>\u001b[0m in \u001b[0;36m<module>\u001b[0;34m()\u001b[0m\n\u001b[1;32m     16\u001b[0m \u001b[1;33m\u001b[0m\u001b[0m\n\u001b[1;32m     17\u001b[0m \u001b[0mo2\u001b[0m \u001b[1;33m=\u001b[0m \u001b[0mc2\u001b[0m\u001b[1;33m(\u001b[0m\u001b[1;33m)\u001b[0m\u001b[1;33m\u001b[0m\u001b[0m\n\u001b[0;32m---> 18\u001b[0;31m \u001b[0mo2\u001b[0m\u001b[1;33m.\u001b[0m\u001b[0moperations\u001b[0m\u001b[1;33m(\u001b[0m\u001b[1;33m)\u001b[0m\u001b[1;33m\u001b[0m\u001b[0m\n\u001b[0m",
      "\u001b[0;32m<ipython-input-38-c20a6af63c2e>\u001b[0m in \u001b[0;36moperations\u001b[0;34m(self)\u001b[0m\n\u001b[1;32m     11\u001b[0m         \u001b[0mself\u001b[0m\u001b[1;33m.\u001b[0m\u001b[0mop1\u001b[0m\u001b[1;33m(\u001b[0m\u001b[1;33m)\u001b[0m\u001b[1;33m\u001b[0m\u001b[0m\n\u001b[1;32m     12\u001b[0m         \u001b[0mself\u001b[0m\u001b[1;33m.\u001b[0m\u001b[0mop2\u001b[0m\u001b[1;33m(\u001b[0m\u001b[1;33m)\u001b[0m\u001b[1;33m\u001b[0m\u001b[0m\n\u001b[0;32m---> 13\u001b[0;31m         \u001b[0mself\u001b[0m\u001b[1;33m.\u001b[0m\u001b[0m__sec\u001b[0m\u001b[1;33m(\u001b[0m\u001b[1;33m)\u001b[0m\u001b[1;33m\u001b[0m\u001b[0m\n\u001b[0m\u001b[1;32m     14\u001b[0m     \u001b[1;32mdef\u001b[0m \u001b[0mop1\u001b[0m\u001b[1;33m(\u001b[0m\u001b[0mself\u001b[0m\u001b[1;33m)\u001b[0m\u001b[1;33m:\u001b[0m\u001b[1;33m\u001b[0m\u001b[0m\n\u001b[1;32m     15\u001b[0m         \u001b[1;32mprint\u001b[0m \u001b[1;34m\"op1 in c2\"\u001b[0m\u001b[1;33m\u001b[0m\u001b[0m\n",
      "\u001b[0;31mAttributeError\u001b[0m: c2 instance has no attribute '_c2__sec'"
     ]
    }
   ],
   "source": [
    "class c1:\n",
    "    def op1(self):\n",
    "        print \"op1 in c1\"\n",
    "        self.__sec()\n",
    "    def op2(self):\n",
    "        print \"op2 in c1\"\n",
    "    def __sec(self):\n",
    "        print \"secured method\"\n",
    "class c2(c1):\n",
    "    def operations(self):\n",
    "        self.op1()\n",
    "        self.op2()\n",
    "        self.__sec()\n",
    "    def op1(self):\n",
    "        print \"op1 in c2\"\n",
    "    \n",
    "o2 = c2()\n",
    "o2.operations()"
   ]
  },
  {
   "cell_type": "code",
   "execution_count": 41,
   "metadata": {
    "collapsed": false
   },
   "outputs": [
    {
     "name": "stdout",
     "output_type": "stream",
     "text": [
      "op1 in c1\n",
      "secured method in c1\n",
      "op2 in c1\n",
      "op3 in c3\n"
     ]
    }
   ],
   "source": [
    "class c1:\n",
    "    def op1(self):\n",
    "        print \"op1 in c1\"\n",
    "        self.__sec()\n",
    "    def op2(self):\n",
    "        print \"op2 in c1\"\n",
    "    def __sec(self):\n",
    "        print \"secured method in c1\"\n",
    "class c3:\n",
    "    def op1(self):\n",
    "        print \"op1 in c3\"\n",
    "        self.__sec()\n",
    "    def op2(self):\n",
    "        print \"op2 in c3\"\n",
    "    def __sec(self):\n",
    "        print \"secured method in c3\"\n",
    "    def op3(self):\n",
    "        print \"op3 in c3\"\n",
    "class c2(c1,c3):\n",
    "    def operations(self):\n",
    "        self.op1()\n",
    "        self.op2()\n",
    "        self.op3()\n",
    "        \n",
    "    \n",
    "o2 = c2()\n",
    "o2.operations()"
   ]
  },
  {
   "cell_type": "code",
   "execution_count": null,
   "metadata": {
    "collapsed": true
   },
   "outputs": [],
   "source": [
    "class c1:\n",
    "    def op1(self,a):\n",
    "        print \"first\"\n",
    "        print a\n",
    "    def op1(self,a,b):\n",
    "        print \"second\"\n",
    "        print a,b\n",
    "o1=c1()\n",
    "o1.op1(12)\n",
    "        "
   ]
  },
  {
   "cell_type": "code",
   "execution_count": 42,
   "metadata": {
    "collapsed": false
   },
   "outputs": [
    {
     "name": "stdout",
     "output_type": "stream",
     "text": [
      "sdfsdf\n"
     ]
    }
   ],
   "source": [
    "def fun():\n",
    "    print \"sdfsdf\"\n",
    "a=fun\n",
    "a()"
   ]
  },
  {
   "cell_type": "code",
   "execution_count": 43,
   "metadata": {
    "collapsed": true
   },
   "outputs": [],
   "source": [
    "a=10,20\n",
    "a=10,20,30"
   ]
  },
  {
   "cell_type": "code",
   "execution_count": 44,
   "metadata": {
    "collapsed": false
   },
   "outputs": [
    {
     "data": {
      "text/plain": [
       "(10, 20, 30)"
      ]
     },
     "execution_count": 44,
     "metadata": {},
     "output_type": "execute_result"
    }
   ],
   "source": [
    "a"
   ]
  },
  {
   "cell_type": "code",
   "execution_count": 45,
   "metadata": {
    "collapsed": false
   },
   "outputs": [
    {
     "ename": "TypeError",
     "evalue": "op1() takes exactly 3 arguments (2 given)",
     "output_type": "error",
     "traceback": [
      "\u001b[0;31m---------------------------------------------------------------------------\u001b[0m",
      "\u001b[0;31mTypeError\u001b[0m                                 Traceback (most recent call last)",
      "\u001b[0;32m<ipython-input-45-b367f3a72e09>\u001b[0m in \u001b[0;36m<module>\u001b[0;34m()\u001b[0m\n\u001b[1;32m      7\u001b[0m         \u001b[1;32mprint\u001b[0m \u001b[0ma\u001b[0m\u001b[1;33m,\u001b[0m\u001b[0mb\u001b[0m\u001b[1;33m\u001b[0m\u001b[0m\n\u001b[1;32m      8\u001b[0m \u001b[0mo1\u001b[0m\u001b[1;33m=\u001b[0m\u001b[0mc1\u001b[0m\u001b[1;33m(\u001b[0m\u001b[1;33m)\u001b[0m\u001b[1;33m\u001b[0m\u001b[0m\n\u001b[0;32m----> 9\u001b[0;31m \u001b[0mo1\u001b[0m\u001b[1;33m.\u001b[0m\u001b[0mop1\u001b[0m\u001b[1;33m(\u001b[0m\u001b[1;36m12\u001b[0m\u001b[1;33m)\u001b[0m\u001b[1;33m\u001b[0m\u001b[0m\n\u001b[0m\u001b[1;32m     10\u001b[0m \u001b[1;33m\u001b[0m\u001b[0m\n",
      "\u001b[0;31mTypeError\u001b[0m: op1() takes exactly 3 arguments (2 given)"
     ]
    }
   ],
   "source": [
    "class c1:\n",
    "    def op1(self,a):\n",
    "        print \"first\"\n",
    "        print a\n",
    "    def op1(self,a,b):\n",
    "        print \"second\"\n",
    "        print a,b\n",
    "o1=c1()\n",
    "o1.op1(12)\n",
    "        "
   ]
  },
  {
   "cell_type": "code",
   "execution_count": 46,
   "metadata": {
    "collapsed": false
   },
   "outputs": [
    {
     "name": "stdout",
     "output_type": "stream",
     "text": [
      "second\n",
      "12\n"
     ]
    }
   ],
   "source": [
    "class c1:\n",
    "    def op1(self,a,b):\n",
    "        print \"first\"\n",
    "        print a,b\n",
    "    def op1(self,a):\n",
    "        print \"second\"\n",
    "        print a\n",
    "    \n",
    "o1=c1()\n",
    "o1.op1(12)\n",
    "        "
   ]
  },
  {
   "cell_type": "code",
   "execution_count": 47,
   "metadata": {
    "collapsed": false
   },
   "outputs": [
    {
     "name": "stdout",
     "output_type": "stream",
     "text": [
      "(12,)\n",
      "(10, 203)\n",
      "(10, 20, 30, 40)\n"
     ]
    }
   ],
   "source": [
    "class c1:\n",
    "    def op1(self,*a):\n",
    "        print a \n",
    "o1=c1()\n",
    "o1.op1(12)\n",
    "o1.op1(10,203)\n",
    "o1.op1(10,20,30,40)\n",
    "        "
   ]
  },
  {
   "cell_type": "code",
   "execution_count": 48,
   "metadata": {
    "collapsed": true
   },
   "outputs": [],
   "source": [
    "# operator overloading?"
   ]
  },
  {
   "cell_type": "code",
   "execution_count": 49,
   "metadata": {
    "collapsed": false
   },
   "outputs": [
    {
     "name": "stdout",
     "output_type": "stream",
     "text": [
      "30\n",
      "str1str2\n",
      "(4+6j)\n",
      "[1, 2, 3, 4, 5, 6, 7, 8]\n",
      "(10, 20, 40, 50)\n"
     ]
    }
   ],
   "source": [
    "print 10+20\n",
    "print \"str1\"+\"str2\"\n",
    "print 1+2j+3+4j\n",
    "print [1,2,3,4]+[5,6,7,8]\n",
    "print (10,20)+(40,50)"
   ]
  },
  {
   "cell_type": "code",
   "execution_count": 50,
   "metadata": {
    "collapsed": false
   },
   "outputs": [
    {
     "ename": "TypeError",
     "evalue": "unsupported operand type(s) for +: 'instance' and 'instance'",
     "output_type": "error",
     "traceback": [
      "\u001b[0;31m---------------------------------------------------------------------------\u001b[0m",
      "\u001b[0;31mTypeError\u001b[0m                                 Traceback (most recent call last)",
      "\u001b[0;32m<ipython-input-50-2db1e9958892>\u001b[0m in \u001b[0;36m<module>\u001b[0;34m()\u001b[0m\n\u001b[1;32m      5\u001b[0m \u001b[0mo1\u001b[0m\u001b[1;33m=\u001b[0m\u001b[0mc1\u001b[0m\u001b[1;33m(\u001b[0m\u001b[1;36m10\u001b[0m\u001b[1;33m,\u001b[0m\u001b[1;36m20\u001b[0m\u001b[1;33m)\u001b[0m\u001b[1;33m\u001b[0m\u001b[0m\n\u001b[1;32m      6\u001b[0m \u001b[0mo2\u001b[0m\u001b[1;33m=\u001b[0m\u001b[0mc1\u001b[0m\u001b[1;33m(\u001b[0m\u001b[1;36m100\u001b[0m\u001b[1;33m,\u001b[0m\u001b[1;36m200\u001b[0m\u001b[1;33m)\u001b[0m\u001b[1;33m\u001b[0m\u001b[0m\n\u001b[0;32m----> 7\u001b[0;31m \u001b[1;32mprint\u001b[0m \u001b[0mo1\u001b[0m\u001b[1;33m+\u001b[0m\u001b[0mo2\u001b[0m\u001b[1;33m\u001b[0m\u001b[0m\n\u001b[0m",
      "\u001b[0;31mTypeError\u001b[0m: unsupported operand type(s) for +: 'instance' and 'instance'"
     ]
    }
   ],
   "source": [
    "class c1:\n",
    "    def __init__(self,a,b):\n",
    "        self.a=a\n",
    "        self.b=b\n",
    "o1=c1(10,20)\n",
    "o2=c1(100,200)\n",
    "print o1+o2"
   ]
  },
  {
   "cell_type": "raw",
   "metadata": {},
   "source": [
    "print "
   ]
  },
  {
   "cell_type": "code",
   "execution_count": 51,
   "metadata": {
    "collapsed": false
   },
   "outputs": [
    {
     "ename": "TypeError",
     "evalue": "cannot concatenate 'str' and 'int' objects",
     "output_type": "error",
     "traceback": [
      "\u001b[0;31m---------------------------------------------------------------------------\u001b[0m",
      "\u001b[0;31mTypeError\u001b[0m                                 Traceback (most recent call last)",
      "\u001b[0;32m<ipython-input-51-f53c322f5e72>\u001b[0m in \u001b[0;36m<module>\u001b[0;34m()\u001b[0m\n\u001b[0;32m----> 1\u001b[0;31m \u001b[1;32mprint\u001b[0m \u001b[1;34m\"str\"\u001b[0m\u001b[1;33m+\u001b[0m\u001b[1;36m10\u001b[0m\u001b[1;33m\u001b[0m\u001b[0m\n\u001b[0m",
      "\u001b[0;31mTypeError\u001b[0m: cannot concatenate 'str' and 'int' objects"
     ]
    }
   ],
   "source": [
    "print \"str\"+10"
   ]
  },
  {
   "cell_type": "code",
   "execution_count": 52,
   "metadata": {
    "collapsed": false
   },
   "outputs": [
    {
     "ename": "TypeError",
     "evalue": "unsupported operand type(s) for +: 'dict' and 'dict'",
     "output_type": "error",
     "traceback": [
      "\u001b[0;31m---------------------------------------------------------------------------\u001b[0m",
      "\u001b[0;31mTypeError\u001b[0m                                 Traceback (most recent call last)",
      "\u001b[0;32m<ipython-input-52-67ca0641d186>\u001b[0m in \u001b[0;36m<module>\u001b[0;34m()\u001b[0m\n\u001b[0;32m----> 1\u001b[0;31m \u001b[1;32mprint\u001b[0m \u001b[1;33m{\u001b[0m\u001b[1;36m1\u001b[0m\u001b[1;33m:\u001b[0m\u001b[1;36m1\u001b[0m\u001b[1;33m}\u001b[0m\u001b[1;33m+\u001b[0m\u001b[1;33m{\u001b[0m\u001b[1;36m2\u001b[0m\u001b[1;33m:\u001b[0m\u001b[1;36m2\u001b[0m\u001b[1;33m}\u001b[0m\u001b[1;33m\u001b[0m\u001b[0m\n\u001b[0m",
      "\u001b[0;31mTypeError\u001b[0m: unsupported operand type(s) for +: 'dict' and 'dict'"
     ]
    }
   ],
   "source": [
    "print {1:1}+{2:2}"
   ]
  },
  {
   "cell_type": "code",
   "execution_count": 53,
   "metadata": {
    "collapsed": false
   },
   "outputs": [
    {
     "name": "stdout",
     "output_type": "stream",
     "text": [
      "providing definition soon\n"
     ]
    }
   ],
   "source": [
    "class c1:\n",
    "    def __init__(self,a,b):\n",
    "        self.a=a\n",
    "        self.b=b\n",
    "    def __add__(self1,self2):\n",
    "        return \"providing definition soon\"\n",
    "o1=c1(10,20)\n",
    "o2=c1(100,200)\n",
    "print o1+o2"
   ]
  },
  {
   "cell_type": "code",
   "execution_count": 54,
   "metadata": {
    "collapsed": false
   },
   "outputs": [
    {
     "name": "stdout",
     "output_type": "stream",
     "text": [
      "(110, 220)\n"
     ]
    }
   ],
   "source": [
    "class c1:\n",
    "    def __init__(self,a,b):\n",
    "        self.a=a\n",
    "        self.b=b\n",
    "    def __add__(self1,self2):\n",
    "        return self1.a+self2.a, self1.b+self2.b\n",
    "o1=c1(10,20)\n",
    "o2=c1(100,200)\n",
    "print o1+o2"
   ]
  },
  {
   "cell_type": "code",
   "execution_count": 55,
   "metadata": {
    "collapsed": false
   },
   "outputs": [
    {
     "name": "stdout",
     "output_type": "stream",
     "text": [
      "init2\n"
     ]
    }
   ],
   "source": [
    "class c1:\n",
    "    def __init__(self):\n",
    "        print \"init1\"\n",
    "class c2(c1):\n",
    "    def __init__(self):\n",
    "        print \"init2\"\n",
    "o2 = c2()"
   ]
  },
  {
   "cell_type": "code",
   "execution_count": 57,
   "metadata": {
    "collapsed": false
   },
   "outputs": [
    {
     "name": "stdout",
     "output_type": "stream",
     "text": [
      "dict addition\n"
     ]
    }
   ],
   "source": [
    "class my_dict(dict):\n",
    "    def __init__(self,data):\n",
    "        super(my_dict,self).__init__(data)\n",
    "        \n",
    "    def __add__(d1,d2):\n",
    "        return \"dict addtion\"\n",
    "m1 = my_dict({1:1})\n",
    "m2=my_dict({10:\"23\"})\n",
    "print m1+m2"
   ]
  },
  {
   "cell_type": "code",
   "execution_count": 59,
   "metadata": {
    "collapsed": false
   },
   "outputs": [
    {
     "name": "stdout",
     "output_type": "stream",
     "text": [
      "{'price': 33}\n"
     ]
    }
   ],
   "source": [
    "class my_dict(dict):\n",
    "    def __init__(self,data):\n",
    "        super(my_dict,self).__init__(data)\n",
    "        \n",
    "    def __add__(d1,d2):\n",
    "        d={}\n",
    "        for i in d1.keys():\n",
    "            d.update({i:d1[i]+d2[i]})\n",
    "        return d\n",
    "m1 = my_dict({\"price\":10})\n",
    "m2=my_dict({'price':23})\n",
    "print m1+m2"
   ]
  },
  {
   "cell_type": "code",
   "execution_count": null,
   "metadata": {
    "collapsed": true
   },
   "outputs": [],
   "source": [
    "class my_dict(dict):\n",
    "    def __init__(self,data):\n",
    "        self.__init__(data)\n",
    "        \n",
    "    def __add__(d1,d2):\n",
    "        d={}\n",
    "        for i in d1.keys():\n",
    "            d.update({i:d1[i]+d2[i]})\n",
    "        return d\n",
    "m1 = my_dict({\"price\":10})\n",
    "m2=my_dict({'price':23})\n",
    "print m1+m2"
   ]
  }
 ],
 "metadata": {
  "anaconda-cloud": {},
  "kernelspec": {
   "display_name": "Python [default]",
   "language": "python",
   "name": "python2"
  },
  "language_info": {
   "codemirror_mode": {
    "name": "ipython",
    "version": 2
   },
   "file_extension": ".py",
   "mimetype": "text/x-python",
   "name": "python",
   "nbconvert_exporter": "python",
   "pygments_lexer": "ipython2",
   "version": "2.7.12"
  }
 },
 "nbformat": 4,
 "nbformat_minor": 1
}
