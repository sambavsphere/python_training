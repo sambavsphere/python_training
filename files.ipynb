{
 "cells": [
  {
   "cell_type": "code",
   "execution_count": 1,
   "metadata": {
    "collapsed": true
   },
   "outputs": [],
   "source": [
    "f=open(\"f1.txt\",'w')"
   ]
  },
  {
   "cell_type": "code",
   "execution_count": 2,
   "metadata": {
    "collapsed": true
   },
   "outputs": [],
   "source": [
    "f.write(\"Some data\")"
   ]
  },
  {
   "cell_type": "code",
   "execution_count": 3,
   "metadata": {
    "collapsed": true
   },
   "outputs": [],
   "source": [
    "f.close()"
   ]
  },
  {
   "cell_type": "code",
   "execution_count": 4,
   "metadata": {
    "collapsed": true
   },
   "outputs": [],
   "source": [
    "f=open(\"f1.txt\",'w')"
   ]
  },
  {
   "cell_type": "code",
   "execution_count": 5,
   "metadata": {
    "collapsed": true
   },
   "outputs": [],
   "source": [
    "f=open(\"f1.txt\",'w')\n",
    "f.close()"
   ]
  },
  {
   "cell_type": "code",
   "execution_count": 6,
   "metadata": {
    "collapsed": false
   },
   "outputs": [
    {
     "name": "stdout",
     "output_type": "stream",
     "text": [
      "java programing langauge is pure object oriented progrming language\n"
     ]
    }
   ],
   "source": [
    "f=open('f1.txt','r')\n",
    "data = f.read()\n",
    "print data"
   ]
  },
  {
   "cell_type": "code",
   "execution_count": 7,
   "metadata": {
    "collapsed": true
   },
   "outputs": [],
   "source": [
    "mod_data = data.replace('java','python')"
   ]
  },
  {
   "cell_type": "code",
   "execution_count": 8,
   "metadata": {
    "collapsed": false
   },
   "outputs": [
    {
     "data": {
      "text/plain": [
       "'python programing langauge is pure object oriented progrming language'"
      ]
     },
     "execution_count": 8,
     "metadata": {},
     "output_type": "execute_result"
    }
   ],
   "source": [
    "mod_data"
   ]
  },
  {
   "cell_type": "code",
   "execution_count": 9,
   "metadata": {
    "collapsed": true
   },
   "outputs": [],
   "source": [
    "f=open('f1.txt','w')\n",
    "f.write(mod_data)\n",
    "f.close()"
   ]
  },
  {
   "cell_type": "code",
   "execution_count": 11,
   "metadata": {
    "collapsed": true
   },
   "outputs": [],
   "source": [
    "f=open('f1.txt','w')\n",
    "f.write(\"Some content\")\n",
    "f.flush()\n",
    "f.write(\"some more content\")"
   ]
  },
  {
   "cell_type": "code",
   "execution_count": 12,
   "metadata": {
    "collapsed": false
   },
   "outputs": [
    {
     "ename": "ValueError",
     "evalue": "I/O operation on closed file",
     "output_type": "error",
     "traceback": [
      "\u001b[0;31m---------------------------------------------------------------------------\u001b[0m",
      "\u001b[0;31mValueError\u001b[0m                                Traceback (most recent call last)",
      "\u001b[0;32m<ipython-input-12-eb054af21436>\u001b[0m in \u001b[0;36m<module>\u001b[0;34m()\u001b[0m\n\u001b[1;32m      2\u001b[0m \u001b[0mf\u001b[0m\u001b[1;33m.\u001b[0m\u001b[0mwrite\u001b[0m\u001b[1;33m(\u001b[0m\u001b[1;34m\"Some content\"\u001b[0m\u001b[1;33m)\u001b[0m\u001b[1;33m\u001b[0m\u001b[0m\n\u001b[1;32m      3\u001b[0m \u001b[0mf\u001b[0m\u001b[1;33m.\u001b[0m\u001b[0mclose\u001b[0m\u001b[1;33m(\u001b[0m\u001b[1;33m)\u001b[0m\u001b[1;33m\u001b[0m\u001b[0m\n\u001b[0;32m----> 4\u001b[0;31m \u001b[0mf\u001b[0m\u001b[1;33m.\u001b[0m\u001b[0mwrite\u001b[0m\u001b[1;33m(\u001b[0m\u001b[1;34m\"some more content\"\u001b[0m\u001b[1;33m)\u001b[0m\u001b[1;33m\u001b[0m\u001b[0m\n\u001b[0m",
      "\u001b[0;31mValueError\u001b[0m: I/O operation on closed file"
     ]
    }
   ],
   "source": [
    "f=open('f1.txt','w')\n",
    "f.write(\"Some content\")\n",
    "f.close()\n",
    "f.write(\"some more content\")"
   ]
  },
  {
   "cell_type": "code",
   "execution_count": 13,
   "metadata": {
    "collapsed": true
   },
   "outputs": [],
   "source": [
    "f=open('f1.txt','w')\n",
    "f.write(\"Some content\")\n",
    "f.flush()\n",
    "f.write(\"some more content\")"
   ]
  },
  {
   "cell_type": "code",
   "execution_count": 14,
   "metadata": {
    "collapsed": true
   },
   "outputs": [],
   "source": [
    "l=['python','java','c','cpp','php']"
   ]
  },
  {
   "cell_type": "code",
   "execution_count": 15,
   "metadata": {
    "collapsed": false
   },
   "outputs": [
    {
     "ename": "TypeError",
     "evalue": "expected a string or other character buffer object",
     "output_type": "error",
     "traceback": [
      "\u001b[0;31m---------------------------------------------------------------------------\u001b[0m",
      "\u001b[0;31mTypeError\u001b[0m                                 Traceback (most recent call last)",
      "\u001b[0;32m<ipython-input-15-52a525a08eb6>\u001b[0m in \u001b[0;36m<module>\u001b[0;34m()\u001b[0m\n\u001b[1;32m      1\u001b[0m \u001b[0mf\u001b[0m\u001b[1;33m=\u001b[0m\u001b[0mopen\u001b[0m\u001b[1;33m(\u001b[0m\u001b[1;34m'f1.txt'\u001b[0m\u001b[1;33m,\u001b[0m\u001b[1;34m'w'\u001b[0m\u001b[1;33m)\u001b[0m\u001b[1;33m\u001b[0m\u001b[0m\n\u001b[0;32m----> 2\u001b[0;31m \u001b[0mf\u001b[0m\u001b[1;33m.\u001b[0m\u001b[0mwrite\u001b[0m\u001b[1;33m(\u001b[0m\u001b[0ml\u001b[0m\u001b[1;33m)\u001b[0m\u001b[1;33m\u001b[0m\u001b[0m\n\u001b[0m\u001b[1;32m      3\u001b[0m \u001b[0mf\u001b[0m\u001b[1;33m.\u001b[0m\u001b[0mclose\u001b[0m\u001b[1;33m(\u001b[0m\u001b[1;33m)\u001b[0m\u001b[1;33m\u001b[0m\u001b[0m\n",
      "\u001b[0;31mTypeError\u001b[0m: expected a string or other character buffer object"
     ]
    }
   ],
   "source": [
    "f=open('f1.txt','w')\n",
    "f.write(l)\n",
    "f.close()"
   ]
  },
  {
   "cell_type": "code",
   "execution_count": null,
   "metadata": {
    "collapsed": true
   },
   "outputs": [],
   "source": []
  },
  {
   "cell_type": "code",
   "execution_count": 16,
   "metadata": {
    "collapsed": true
   },
   "outputs": [],
   "source": [
    "f=open('f1.txt','w')\n",
    "f.write(\",\".join(l))\n",
    "f.close()\n"
   ]
  },
  {
   "cell_type": "code",
   "execution_count": 17,
   "metadata": {
    "collapsed": true
   },
   "outputs": [],
   "source": [
    "f=open('f1.txt','w')\n",
    "f.write(\"\\n\".join(l))\n",
    "f.close()\n"
   ]
  },
  {
   "cell_type": "code",
   "execution_count": 18,
   "metadata": {
    "collapsed": true
   },
   "outputs": [],
   "source": [
    "f=open('f1.txt','w')\n",
    "f.writelines(l)\n",
    "f.close()\n"
   ]
  },
  {
   "cell_type": "code",
   "execution_count": 19,
   "metadata": {
    "collapsed": false
   },
   "outputs": [
    {
     "name": "stdout",
     "output_type": "stream",
     "text": [
      "Python is a general-purpose interpreted, interactive, \n",
      "object-oriented, and high-level programming language. \n",
      "It was created by Guido van Rossum during 1985- 1990. \n",
      "Like Perl, Python source code is also available under the GNU General Public License (GPL). \n",
      "This tutorial gives enough understanding on Python programming language.\n"
     ]
    }
   ],
   "source": [
    "f=open('f1.txt')\n",
    "data = f.read()\n",
    "f.close()\n",
    "print data\n"
   ]
  },
  {
   "cell_type": "code",
   "execution_count": 20,
   "metadata": {
    "collapsed": false
   },
   "outputs": [
    {
     "name": "stdout",
     "output_type": "stream",
     "text": [
      "first time read data:  Python is a general-purpose interpreted, interactive, \n",
      "object-oriented, and high-level programming language. \n",
      "It was created by Guido van Rossum during 1985- 1990. \n",
      "Like Perl, Python source code is also available under the GNU General Public License (GPL). \n",
      "This tutorial gives enough understanding on Python programming language.\n",
      "second time read data:  \n"
     ]
    }
   ],
   "source": [
    "f=open('f1.txt')\n",
    "data = f.read()\n",
    "print \"first time read data: \",data\n",
    "data1 = f.read()\n",
    "print \"second time read data: \",data1\n",
    "f.close()"
   ]
  },
  {
   "cell_type": "code",
   "execution_count": 21,
   "metadata": {
    "collapsed": false
   },
   "outputs": [
    {
     "name": "stdout",
     "output_type": "stream",
     "text": [
      "first time read data:  Python is a general-purpose interpreted, interactive, \n",
      "object-oriented, and high-level programming language. \n",
      "It was created by Guido van Rossum during 1985- 1990. \n",
      "Like Perl, Python source code is also available under the GNU General Public License (GPL). \n",
      "This tutorial gives enough understanding on Python programming language.\n",
      "second time read data:  Python is a general-purpose interpreted, interactive, \n",
      "object-oriented, and high-level programming language. \n",
      "It was created by Guido van Rossum during 1985- 1990. \n",
      "Like Perl, Python source code is also available under the GNU General Public License (GPL). \n",
      "This tutorial gives enough understanding on Python programming language.\n"
     ]
    }
   ],
   "source": [
    "f=open('f1.txt')\n",
    "data = f.read()\n",
    "print \"first time read data: \",data\n",
    "f.seek(0)\n",
    "data1 = f.read()\n",
    "print \"second time read data: \",data1\n",
    "f.close()"
   ]
  },
  {
   "cell_type": "code",
   "execution_count": 22,
   "metadata": {
    "collapsed": false
   },
   "outputs": [
    {
     "name": "stdout",
     "output_type": "stream",
     "text": [
      "first time read data:  Python is a general-purpose interpreted, interactive, \n",
      "object-oriented, and high-level programming language. \n",
      "It was created by Guido van Rossum during 1985- 1990. \n",
      "Like Perl, Python source code is also available under the GNU General Public License (GPL). \n",
      "This tutorial gives enough understanding on Python programming language.\n",
      "second time read data:  a general-purpose interpreted, interactive, \n",
      "object-oriented, and high-level programming language. \n",
      "It was created by Guido van Rossum during 1985- 1990. \n",
      "Like Perl, Python source code is also available under the GNU General Public License (GPL). \n",
      "This tutorial gives enough understanding on Python programming language.\n"
     ]
    }
   ],
   "source": [
    "f=open('f1.txt')\n",
    "data = f.read()\n",
    "print \"first time read data: \",data\n",
    "f.seek(10)\n",
    "data1 = f.read()\n",
    "print \"second time read data: \",data1\n",
    "f.close()"
   ]
  },
  {
   "cell_type": "code",
   "execution_count": 23,
   "metadata": {
    "collapsed": false
   },
   "outputs": [
    {
     "name": "stdout",
     "output_type": "stream",
     "text": [
      "first time read data:  Python is a general-purpose interpreted, interactive, \n",
      "object-oriented, and high-level programming language. \n",
      "It was created by Guido van Rossum during 1985- 1990. \n",
      "Like Perl, Python source code is also available under the GNU General Public License (GPL). \n",
      "This tutorial gives enough understanding on Python programming language.\n",
      "second time read data:  Python is a general-purpose interpreted, interactive, \n",
      "object-oriented, and high-level programming language. \n",
      "It was created by Guido van Rossum during 1985- 1990. \n",
      "Like Perl, Python source code is also available under the GNU General Public License (GPL). \n",
      "This tutorial gives enough understanding on Python programming language.\n"
     ]
    }
   ],
   "source": [
    "f=open('f1.txt')\n",
    "data = f.read()\n",
    "print \"first time read data: \",data\n",
    "f.close()\n",
    "f=open('f1.txt')\n",
    "data1 = f.read()\n",
    "print \"second time read data: \",data1\n",
    "f.close()"
   ]
  },
  {
   "cell_type": "code",
   "execution_count": 24,
   "metadata": {
    "collapsed": false
   },
   "outputs": [
    {
     "name": "stdout",
     "output_type": "stream",
     "text": [
      "first time read data:  purpose interpreted, interactive, \n",
      "object-oriented, and high-level programming language. \n",
      "It was created by Guido van Rossum during 1985- 1990. \n",
      "Like Perl, Python source code is also available under the GNU General Public License (GPL). \n",
      "This tutorial gives enough understanding on Python programming language.\n"
     ]
    }
   ],
   "source": [
    "f=open('f1.txt')\n",
    "f.seek(20)\n",
    "data = f.read()\n",
    "print \"first time read data: \",data\n",
    "f.close()\n"
   ]
  },
  {
   "cell_type": "code",
   "execution_count": 25,
   "metadata": {
    "collapsed": false
   },
   "outputs": [
    {
     "name": "stdout",
     "output_type": "stream",
     "text": [
      "Python is a general-purpose interpreted, interactive, \n",
      "\n",
      "object-oriented, and high-level programming language. \n",
      "\n"
     ]
    }
   ],
   "source": [
    "f=open('f1.txt')\n",
    "print f.readline()\n",
    "print f.readline()\n"
   ]
  },
  {
   "cell_type": "code",
   "execution_count": 26,
   "metadata": {
    "collapsed": false
   },
   "outputs": [
    {
     "name": "stdout",
     "output_type": "stream",
     "text": [
      "['It was created by Guido van Rossum during 1985- 1990. \\n', 'Like Perl, Python source code is also available under the GNU General Public License (GPL). \\n', 'This tutorial gives enough understanding on Python programming language.']\n"
     ]
    }
   ],
   "source": [
    "print f.readlines()"
   ]
  },
  {
   "cell_type": "code",
   "execution_count": 27,
   "metadata": {
    "collapsed": false
   },
   "outputs": [
    {
     "name": "stdout",
     "output_type": "stream",
     "text": [
      "['Python is a general-purpose interpreted, interactive, \\n', 'object-oriented, and high-level programming language. \\n', 'It was created by Guido van Rossum during 1985- 1990. \\n', 'Like Perl, Python source code is also available under the GNU General Public License (GPL). \\n', 'This tutorial gives enough understanding on Python programming language.']\n"
     ]
    }
   ],
   "source": [
    "f=open('f1.txt')\n",
    "print f.readlines()\n"
   ]
  },
  {
   "cell_type": "code",
   "execution_count": 28,
   "metadata": {
    "collapsed": false
   },
   "outputs": [
    {
     "name": "stdout",
     "output_type": "stream",
     "text": [
      "Python is a general-purpose interpreted, interactive, \n",
      "\n",
      "object-oriented, and high-level programming language. \n",
      "\n",
      "['It was created by Guido van Rossum during 1985- 1990. \\n', 'Like Perl, Python source code is also available under the GNU General Public License (GPL). \\n', 'This tutorial gives enough understanding on Python programming language.']\n"
     ]
    }
   ],
   "source": [
    "f=open('f1.txt')\n",
    "print f.readline()\n",
    "print f.readline()\n",
    "print f.readlines()\n"
   ]
  },
  {
   "cell_type": "code",
   "execution_count": 29,
   "metadata": {
    "collapsed": false
   },
   "outputs": [
    {
     "name": "stdout",
     "output_type": "stream",
     "text": [
      "['Python is a general-purpose interpreted, interactive, \\n', 'object-oriented, and high-level programming language. \\n', 'It was created by Guido van Rossum during 1985- 1990. \\n', 'Like Perl, Python source code is also available under the GNU General Public License (GPL). \\n', 'This tutorial gives enough understanding on Python programming language.']\n",
      "[]\n"
     ]
    }
   ],
   "source": [
    "f=open('f1.txt')\n",
    "print f.readlines()\n",
    "print f.readlines()\n"
   ]
  },
  {
   "cell_type": "code",
   "execution_count": 30,
   "metadata": {
    "collapsed": false
   },
   "outputs": [
    {
     "data": {
      "text/plain": [
       "'Python is a general-purpose interpreted, interactive, \\nobject-oriented, and high-level programming language. \\nIt was created by Guido van Rossum during 1985- 1990. \\nLike Perl, Python source code is also available under the GNU General Public License (GPL). \\nThis tutorial gives enough understanding on Python programming language.'"
      ]
     },
     "execution_count": 30,
     "metadata": {},
     "output_type": "execute_result"
    }
   ],
   "source": [
    "f=open('f1.txt')\n",
    "data = f.read()\n",
    "data"
   ]
  },
  {
   "cell_type": "code",
   "execution_count": 31,
   "metadata": {
    "collapsed": false
   },
   "outputs": [
    {
     "data": {
      "text/plain": [
       "['Python is a general-purpose interpreted, interactive, object-oriented, and high-level programming language. It was created by Guido van Rossum during 1985- 1990. Like Perl, Python source code is also available under the GNU General Public License (GPL). This tutorial gives enough understanding on Python programming language.']"
      ]
     },
     "execution_count": 31,
     "metadata": {},
     "output_type": "execute_result"
    }
   ],
   "source": [
    "f=open('f1.txt')\n",
    "data = f.readlines()\n",
    "data"
   ]
  },
  {
   "cell_type": "code",
   "execution_count": 32,
   "metadata": {
    "collapsed": false
   },
   "outputs": [
    {
     "name": "stdout",
     "output_type": "stream",
     "text": [
      "0\n",
      "326\n",
      "326\n",
      "326\n"
     ]
    }
   ],
   "source": [
    "f=open('f1.txt')\n",
    "print f.tell()\n",
    "f.readline()\n",
    "print f.tell()\n",
    "f.readline()\n",
    "print f.tell()\n",
    "f.readlines()\n",
    "print f.tell()\n"
   ]
  },
  {
   "cell_type": "code",
   "execution_count": 34,
   "metadata": {
    "collapsed": false
   },
   "outputs": [
    {
     "name": "stdout",
     "output_type": "stream",
     "text": [
      "����\u0000\u0010JFIF\u0000\u0001\u0002\u0001\u0000`\u0000`\u0000\u0000��\u0012�Exif\u0000\u0000MM\u0000*\u0000\u0000\u0000\b\u0000\u0007\u00012\u0000\u0002\u0000\u0000\u0000\u0014\u0000\u0000\u0000bGF\u0000\u0003\u0000\u0000\u0000\u0001\u0000\u0004\u0000\u0000GI\u0000\u0003\u0000\u0000\u0000\u0001\u0000?\u0000\u0000��\u0000\u0002\u0000\u0000\u0000\u0016\u0000\u0000\u0000v��\u0000\u0001\u0000\u0000\u0000\u001c",
      "\u0000\u0000\u0000\u0000�\u001c",
      "\u0000\u0007\u0000\u0000\u0007�\u0000\u0000\u0000\u0000�i\u0000\u0004\u0000\u0000\u0000\u0001\u0000\u0000\u0000�\u0000\u0000\u0000�2009:03:12 13:48:39\u0000Microsoft Corporation\u0000\u0000\u0005�\u0003\u0000\u0002\u0000\u0000\u0000\u0014\u0000\u0000\u0000ΐ\u0004\u0000\u0002\u0000\u0000\u0000\u0014\u0000\u0000\u0000⒑\u0000\u0002\u0000\u0000\u0000\u000302\u0000\u0000��\u0000\u0002\u0000\u0000\u0000\u000302\u0000\u0000�\u001c",
      "\u0000\u0007\u0000\u0000\u0007�\u0000\u0000\u0000\u0000\u0000\u0000\u0000\u00002008:02:07 11:33:11\u00002008:02:07 11:33:11\u0000\u0000\u0005\u0001\u0003\u0000\u0003\u0000\u0000\u0000\u0001\u0000\u0006\u0000\u0000\u0001\n"
     ]
    }
   ],
   "source": [
    "f=open('Tulips.jpg')\n",
    "data = f.read()\n",
    "print data"
   ]
  },
  {
   "cell_type": "code",
   "execution_count": 35,
   "metadata": {
    "collapsed": true
   },
   "outputs": [],
   "source": [
    "f=open('Tulips.jpg')\n",
    "data = f.read()\n",
    "f.close()\n",
    "f=open('t1.jpg','w')\n",
    "f.write(data)\n",
    "f.close()"
   ]
  },
  {
   "cell_type": "code",
   "execution_count": 36,
   "metadata": {
    "collapsed": true
   },
   "outputs": [],
   "source": [
    "f=open('Tulips.jpg','rb')\n",
    "data = f.read()\n",
    "f.close()\n",
    "f=open('t1.jpg','wb')\n",
    "f.write(data)\n",
    "f.close()"
   ]
  },
  {
   "cell_type": "code",
   "execution_count": 37,
   "metadata": {
    "collapsed": false
   },
   "outputs": [
    {
     "ename": "TypeError",
     "evalue": "expected a string or other character buffer object",
     "output_type": "error",
     "traceback": [
      "\u001b[0;31m---------------------------------------------------------------------------\u001b[0m",
      "\u001b[0;31mTypeError\u001b[0m                                 Traceback (most recent call last)",
      "\u001b[0;32m<ipython-input-37-801b40e2607d>\u001b[0m in \u001b[0;36m<module>\u001b[0;34m()\u001b[0m\n\u001b[1;32m      1\u001b[0m \u001b[0mf\u001b[0m\u001b[1;33m=\u001b[0m\u001b[0mopen\u001b[0m\u001b[1;33m(\u001b[0m\u001b[1;34m'f1.txt'\u001b[0m\u001b[1;33m,\u001b[0m\u001b[1;34m'w'\u001b[0m\u001b[1;33m)\u001b[0m\u001b[1;33m\u001b[0m\u001b[0m\n\u001b[0;32m----> 2\u001b[0;31m \u001b[0mf\u001b[0m\u001b[1;33m.\u001b[0m\u001b[0mwrite\u001b[0m\u001b[1;33m(\u001b[0m\u001b[1;36m1234567\u001b[0m\u001b[1;33m)\u001b[0m\u001b[1;33m\u001b[0m\u001b[0m\n\u001b[0m\u001b[1;32m      3\u001b[0m \u001b[0mf\u001b[0m\u001b[1;33m.\u001b[0m\u001b[0mclose\u001b[0m\u001b[1;33m(\u001b[0m\u001b[1;33m)\u001b[0m\u001b[1;33m\u001b[0m\u001b[0m\n",
      "\u001b[0;31mTypeError\u001b[0m: expected a string or other character buffer object"
     ]
    }
   ],
   "source": [
    "f=open('f1.txt','w')\n",
    "f.write(1234567)\n",
    "f.close()"
   ]
  },
  {
   "cell_type": "code",
   "execution_count": 38,
   "metadata": {
    "collapsed": true
   },
   "outputs": [],
   "source": [
    "f=open('f1.txt','w')\n",
    "f.write(str(1234567))\n",
    "f.close()"
   ]
  },
  {
   "cell_type": "code",
   "execution_count": 39,
   "metadata": {
    "collapsed": false
   },
   "outputs": [
    {
     "ename": "TypeError",
     "evalue": "expected a string or other character buffer object",
     "output_type": "error",
     "traceback": [
      "\u001b[0;31m---------------------------------------------------------------------------\u001b[0m",
      "\u001b[0;31mTypeError\u001b[0m                                 Traceback (most recent call last)",
      "\u001b[0;32m<ipython-input-39-fb46eb61c0fc>\u001b[0m in \u001b[0;36m<module>\u001b[0;34m()\u001b[0m\n\u001b[1;32m      1\u001b[0m \u001b[0ml\u001b[0m\u001b[1;33m=\u001b[0m\u001b[1;33m[\u001b[0m\u001b[1;36m10\u001b[0m\u001b[1;33m,\u001b[0m\u001b[1;36m20\u001b[0m\u001b[1;33m,\u001b[0m\u001b[1;36m30\u001b[0m\u001b[1;33m,\u001b[0m\u001b[1;36m40\u001b[0m\u001b[1;33m,\u001b[0m\u001b[1;36m50\u001b[0m\u001b[1;33m]\u001b[0m\u001b[1;33m\u001b[0m\u001b[0m\n\u001b[1;32m      2\u001b[0m \u001b[0mf\u001b[0m\u001b[1;33m=\u001b[0m\u001b[0mopen\u001b[0m\u001b[1;33m(\u001b[0m\u001b[1;34m'f1.txt'\u001b[0m\u001b[1;33m,\u001b[0m\u001b[1;34m'w'\u001b[0m\u001b[1;33m)\u001b[0m\u001b[1;33m\u001b[0m\u001b[0m\n\u001b[0;32m----> 3\u001b[0;31m \u001b[0mf\u001b[0m\u001b[1;33m.\u001b[0m\u001b[0mwrite\u001b[0m\u001b[1;33m(\u001b[0m\u001b[0ml\u001b[0m\u001b[1;33m)\u001b[0m\u001b[1;33m\u001b[0m\u001b[0m\n\u001b[0m\u001b[1;32m      4\u001b[0m \u001b[0mf\u001b[0m\u001b[1;33m.\u001b[0m\u001b[0mclose\u001b[0m\u001b[1;33m(\u001b[0m\u001b[1;33m)\u001b[0m\u001b[1;33m\u001b[0m\u001b[0m\n",
      "\u001b[0;31mTypeError\u001b[0m: expected a string or other character buffer object"
     ]
    }
   ],
   "source": [
    "l=[10,20,30,40,50]\n",
    "f=open('f1.txt','w')\n",
    "f.write(l)\n",
    "f.close()"
   ]
  },
  {
   "cell_type": "code",
   "execution_count": 41,
   "metadata": {
    "collapsed": false
   },
   "outputs": [],
   "source": [
    "l=[10,20,30,40,50]\n",
    "f=open('f1.txt','w')\n",
    "f.write(str(l))\n",
    "f.close()"
   ]
  },
  {
   "cell_type": "code",
   "execution_count": 42,
   "metadata": {
    "collapsed": false
   },
   "outputs": [
    {
     "name": "stdout",
     "output_type": "stream",
     "text": [
      "<type 'str'>\n"
     ]
    }
   ],
   "source": [
    "f=open('f1.txt')\n",
    "data = f.read()\n",
    "print type(data)"
   ]
  },
  {
   "cell_type": "code",
   "execution_count": 44,
   "metadata": {
    "collapsed": false
   },
   "outputs": [],
   "source": [
    "import pickle"
   ]
  },
  {
   "cell_type": "code",
   "execution_count": 45,
   "metadata": {
    "collapsed": true
   },
   "outputs": [],
   "source": [
    "data = [{'id':1,'name':'name1','sal':3},{'id':2,'name':'name2','sal':3},{'id':3,'name':'name3','sal':3}]"
   ]
  },
  {
   "cell_type": "code",
   "execution_count": 46,
   "metadata": {
    "collapsed": false
   },
   "outputs": [
    {
     "data": {
      "text/plain": [
       "[{'id': 1, 'name': 'name1', 'sal': 3},\n",
       " {'id': 2, 'name': 'name2', 'sal': 3},\n",
       " {'id': 3, 'name': 'name3', 'sal': 3}]"
      ]
     },
     "execution_count": 46,
     "metadata": {},
     "output_type": "execute_result"
    }
   ],
   "source": [
    "data"
   ]
  },
  {
   "cell_type": "code",
   "execution_count": 47,
   "metadata": {
    "collapsed": true
   },
   "outputs": [],
   "source": [
    "f=open('data.txt','w')\n",
    "data = [{'id':1,'name':'name1','sal':3},{'id':2,'name':'name2','sal':3},{'id':3,'name':'name3','sal':3}]\n",
    "import pickle\n",
    "pickle.dump(data,f)\n",
    "f.close()"
   ]
  },
  {
   "cell_type": "code",
   "execution_count": 48,
   "metadata": {
    "collapsed": false
   },
   "outputs": [
    {
     "name": "stdout",
     "output_type": "stream",
     "text": [
      "(lp0\n",
      "(dp1\n",
      "S'sal'\n",
      "p2\n",
      "I3\n",
      "sS'id'\n",
      "p3\n",
      "I1\n",
      "sS'name'\n",
      "p4\n",
      "S'name1'\n",
      "p5\n",
      "sa(dp6\n",
      "g2\n",
      "I3\n",
      "sg3\n",
      "I2\n",
      "sg4\n",
      "S'name2'\n",
      "p7\n",
      "sa(dp8\n",
      "g2\n",
      "I3\n",
      "sg3\n",
      "I3\n",
      "sg4\n",
      "S'name3'\n",
      "p9\n",
      "sa.\n"
     ]
    }
   ],
   "source": [
    "f=open('data.txt')\n",
    "data = f.read()\n",
    "print data"
   ]
  },
  {
   "cell_type": "code",
   "execution_count": 49,
   "metadata": {
    "collapsed": true
   },
   "outputs": [],
   "source": [
    "f=open('data.txt')\n",
    "data = pickle.load(f)"
   ]
  },
  {
   "cell_type": "code",
   "execution_count": 50,
   "metadata": {
    "collapsed": false
   },
   "outputs": [
    {
     "data": {
      "text/plain": [
       "[{'id': 1, 'name': 'name1', 'sal': 3},\n",
       " {'id': 2, 'name': 'name2', 'sal': 3},\n",
       " {'id': 3, 'name': 'name3', 'sal': 3}]"
      ]
     },
     "execution_count": 50,
     "metadata": {},
     "output_type": "execute_result"
    }
   ],
   "source": [
    "data"
   ]
  },
  {
   "cell_type": "code",
   "execution_count": 51,
   "metadata": {
    "collapsed": false
   },
   "outputs": [
    {
     "data": {
      "text/plain": [
       "list"
      ]
     },
     "execution_count": 51,
     "metadata": {},
     "output_type": "execute_result"
    }
   ],
   "source": [
    "type(data)"
   ]
  },
  {
   "cell_type": "code",
   "execution_count": null,
   "metadata": {
    "collapsed": true
   },
   "outputs": [],
   "source": []
  }
 ],
 "metadata": {
  "kernelspec": {
   "display_name": "Python [default]",
   "language": "python",
   "name": "python2"
  },
  "language_info": {
   "codemirror_mode": {
    "name": "ipython",
    "version": 2
   },
   "file_extension": ".py",
   "mimetype": "text/x-python",
   "name": "python",
   "nbconvert_exporter": "python",
   "pygments_lexer": "ipython2",
   "version": "2.7.12"
  }
 },
 "nbformat": 4,
 "nbformat_minor": 1
}
