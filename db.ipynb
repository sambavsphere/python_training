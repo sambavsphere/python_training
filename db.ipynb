{
 "cells": [
  {
   "cell_type": "code",
   "execution_count": 1,
   "metadata": {
    "collapsed": false
   },
   "outputs": [
    {
     "data": {
      "text/plain": [
       "[1,\n",
       " 3,\n",
       " 5,\n",
       " 7,\n",
       " 9,\n",
       " 11,\n",
       " 13,\n",
       " 15,\n",
       " 17,\n",
       " 19,\n",
       " 21,\n",
       " 23,\n",
       " 25,\n",
       " 27,\n",
       " 29,\n",
       " 31,\n",
       " 33,\n",
       " 35,\n",
       " 37,\n",
       " 39,\n",
       " 41,\n",
       " 43,\n",
       " 45,\n",
       " 47,\n",
       " 49,\n",
       " 51,\n",
       " 53,\n",
       " 55,\n",
       " 57,\n",
       " 59,\n",
       " 61,\n",
       " 63,\n",
       " 65,\n",
       " 67,\n",
       " 69,\n",
       " 71,\n",
       " 73,\n",
       " 75,\n",
       " 77,\n",
       " 79,\n",
       " 81,\n",
       " 83,\n",
       " 85,\n",
       " 87,\n",
       " 89,\n",
       " 91,\n",
       " 93,\n",
       " 95,\n",
       " 97,\n",
       " 99]"
      ]
     },
     "execution_count": 1,
     "metadata": {},
     "output_type": "execute_result"
    }
   ],
   "source": [
    "range(1,100,2)"
   ]
  },
  {
   "cell_type": "code",
   "execution_count": 2,
   "metadata": {
    "collapsed": false
   },
   "outputs": [
    {
     "name": "stdout",
     "output_type": "stream",
     "text": [
      "Enter digits: 1,2,3,4\n",
      "Max of digits:  4\n",
      "Min of digits:  1\n",
      "sum of digits:  10\n",
      "Average of digits:  2\n"
     ]
    }
   ],
   "source": [
    "\n",
    "# Assignment 27 & 31 : Single digit from user and find max min sum average\n",
    "a = input(\"Enter digits: \")\n",
    "print \"Max of digits: \",max(a)\n",
    "print \"Min of digits: \",min(a)\n",
    "print \"sum of digits: \",sum(a)\n",
    "print \"Average of digits: \",(sum(a)/len(a))"
   ]
  },
  {
   "cell_type": "code",
   "execution_count": 3,
   "metadata": {
    "collapsed": false
   },
   "outputs": [
    {
     "name": "stdout",
     "output_type": "stream",
     "text": [
      "Enter digits: 1,2,3,4,-3\n",
      "<type 'tuple'>\n",
      "Max of digits:  4\n",
      "Min of digits:  -3\n",
      "sum of digits:  7\n",
      "Average of digits:  1\n"
     ]
    }
   ],
   "source": [
    "# Assignment 27 & 31 : Single digit from user and find max min sum average\n",
    "a = input(\"Enter digits: \")\n",
    "print type(a)\n",
    "print \"Max of digits: \",max(a)\n",
    "print \"Min of digits: \",min(a)\n",
    "print \"sum of digits: \",sum(a)\n",
    "print \"Average of digits: \",(sum(a)/len(a))"
   ]
  },
  {
   "cell_type": "code",
   "execution_count": 5,
   "metadata": {
    "collapsed": false
   },
   "outputs": [
    {
     "data": {
      "text/plain": [
       "'000001'"
      ]
     },
     "execution_count": 5,
     "metadata": {},
     "output_type": "execute_result"
    }
   ],
   "source": [
    "\"1\".zfill(6)"
   ]
  },
  {
   "cell_type": "code",
   "execution_count": 6,
   "metadata": {
    "collapsed": false
   },
   "outputs": [
    {
     "data": {
      "text/plain": [
       "'000100'"
      ]
     },
     "execution_count": 6,
     "metadata": {},
     "output_type": "execute_result"
    }
   ],
   "source": [
    "\"100\".zfill(6)"
   ]
  },
  {
   "cell_type": "code",
   "execution_count": 7,
   "metadata": {
    "collapsed": false
   },
   "outputs": [
    {
     "data": {
      "text/plain": [
       "'12345678'"
      ]
     },
     "execution_count": 7,
     "metadata": {},
     "output_type": "execute_result"
    }
   ],
   "source": [
    "\"12345678\".zfill(6)"
   ]
  },
  {
   "cell_type": "code",
   "execution_count": 11,
   "metadata": {
    "collapsed": false
   },
   "outputs": [
    {
     "name": "stdout",
     "output_type": "stream",
     "text": [
      "['emp1', 'emp2', 'emp3', 'emp4']\n",
      "emp1\n",
      "emp2\n",
      "emp3\n",
      "emp4\n"
     ]
    }
   ],
   "source": [
    "names = \"emp1,emp2,emp3,emp4\"\n",
    "print names.split(',')\n",
    "for i in names.split(','):\n",
    "    print i\n",
    "    "
   ]
  },
  {
   "cell_type": "code",
   "execution_count": 12,
   "metadata": {
    "collapsed": false
   },
   "outputs": [
    {
     "data": {
      "text/plain": [
       "{'e': 1, 'g': 2, 'l': 1, 'o': 2}"
      ]
     },
     "execution_count": 12,
     "metadata": {},
     "output_type": "execute_result"
    }
   ],
   "source": [
    "a=\"google\"\n",
    "{char:a.count(char) for char in a}"
   ]
  },
  {
   "cell_type": "code",
   "execution_count": 13,
   "metadata": {
    "collapsed": false
   },
   "outputs": [
    {
     "name": "stdout",
     "output_type": "stream",
     "text": [
      "['A', 'B', 'C', 'D', 'a', 'b', 'c', 'd']\n"
     ]
    }
   ],
   "source": [
    "# Assignment 38 : l=['a','A','b','B','d','D','c','C']  sort the list properly\n",
    "l=['a','A','b','B','d','D','c','C']\n",
    "l.sort()\n",
    "print l"
   ]
  },
  {
   "cell_type": "code",
   "execution_count": 15,
   "metadata": {
    "collapsed": true
   },
   "outputs": [],
   "source": [
    "l.sort(reverse=True)"
   ]
  },
  {
   "cell_type": "code",
   "execution_count": 16,
   "metadata": {
    "collapsed": false
   },
   "outputs": [
    {
     "data": {
      "text/plain": [
       "['d', 'c', 'b', 'a', 'D', 'C', 'B', 'A']"
      ]
     },
     "execution_count": 16,
     "metadata": {},
     "output_type": "execute_result"
    }
   ],
   "source": [
    "l"
   ]
  },
  {
   "cell_type": "code",
   "execution_count": 17,
   "metadata": {
    "collapsed": true
   },
   "outputs": [],
   "source": [
    "l.sort(key=lambda x:x.upper())"
   ]
  },
  {
   "cell_type": "code",
   "execution_count": 18,
   "metadata": {
    "collapsed": false
   },
   "outputs": [
    {
     "data": {
      "text/plain": [
       "['a', 'A', 'b', 'B', 'c', 'C', 'd', 'D']"
      ]
     },
     "execution_count": 18,
     "metadata": {},
     "output_type": "execute_result"
    }
   ],
   "source": [
    "l"
   ]
  },
  {
   "cell_type": "code",
   "execution_count": 19,
   "metadata": {
    "collapsed": false
   },
   "outputs": [
    {
     "ename": "TypeError",
     "evalue": "unsupported operand type(s) for &: 'list' and 'list'",
     "output_type": "error",
     "traceback": [
      "\u001b[0;31m---------------------------------------------------------------------------\u001b[0m",
      "\u001b[0;31mTypeError\u001b[0m                                 Traceback (most recent call last)",
      "\u001b[0;32m<ipython-input-19-b9d746d4e290>\u001b[0m in \u001b[0;36m<module>\u001b[0;34m()\u001b[0m\n\u001b[0;32m----> 1\u001b[0;31m \u001b[1;33m[\u001b[0m\u001b[1;36m1\u001b[0m\u001b[1;33m,\u001b[0m\u001b[1;36m2\u001b[0m\u001b[1;33m,\u001b[0m\u001b[1;36m3\u001b[0m\u001b[1;33m,\u001b[0m\u001b[1;36m4\u001b[0m\u001b[1;33m]\u001b[0m \u001b[1;33m&\u001b[0m \u001b[1;33m[\u001b[0m\u001b[1;36m5\u001b[0m\u001b[1;33m,\u001b[0m\u001b[1;36m6\u001b[0m\u001b[1;33m,\u001b[0m\u001b[1;36m7\u001b[0m\u001b[1;33m,\u001b[0m\u001b[1;36m8\u001b[0m\u001b[1;33m,\u001b[0m\u001b[1;36m1\u001b[0m\u001b[1;33m,\u001b[0m\u001b[1;36m2\u001b[0m\u001b[1;33m,\u001b[0m\u001b[1;36m3\u001b[0m\u001b[1;33m,\u001b[0m\u001b[1;36m4\u001b[0m\u001b[1;33m]\u001b[0m\u001b[1;33m\u001b[0m\u001b[0m\n\u001b[0m",
      "\u001b[0;31mTypeError\u001b[0m: unsupported operand type(s) for &: 'list' and 'list'"
     ]
    }
   ],
   "source": [
    "[1,2,3,4] & [5,6,7,8,1,2,3,4]"
   ]
  },
  {
   "cell_type": "code",
   "execution_count": 20,
   "metadata": {
    "collapsed": false
   },
   "outputs": [
    {
     "data": {
      "text/plain": [
       "[5, 6, 7, 8, 1, 2, 3, 4]"
      ]
     },
     "execution_count": 20,
     "metadata": {},
     "output_type": "execute_result"
    }
   ],
   "source": [
    "[1,2,3,4] and [5,6,7,8,1,2,3,4]"
   ]
  },
  {
   "cell_type": "code",
   "execution_count": 21,
   "metadata": {
    "collapsed": false
   },
   "outputs": [
    {
     "data": {
      "text/plain": [
       "[1, 2, 3, 4]"
      ]
     },
     "execution_count": 21,
     "metadata": {},
     "output_type": "execute_result"
    }
   ],
   "source": [
    "[1,2,3,4] or [5,6,7,8,1,2,3,4]"
   ]
  },
  {
   "cell_type": "code",
   "execution_count": 22,
   "metadata": {
    "collapsed": true
   },
   "outputs": [],
   "source": [
    "l=[1,2,3,4,5,6]\n",
    "l.remove(max(l))"
   ]
  },
  {
   "cell_type": "code",
   "execution_count": 23,
   "metadata": {
    "collapsed": false
   },
   "outputs": [
    {
     "data": {
      "text/plain": [
       "[1, 2, 3, 4, 5]"
      ]
     },
     "execution_count": 23,
     "metadata": {},
     "output_type": "execute_result"
    }
   ],
   "source": [
    "l"
   ]
  },
  {
   "cell_type": "code",
   "execution_count": 24,
   "metadata": {
    "collapsed": true
   },
   "outputs": [],
   "source": [
    "l.remove(max(l))"
   ]
  },
  {
   "cell_type": "code",
   "execution_count": 25,
   "metadata": {
    "collapsed": false
   },
   "outputs": [
    {
     "data": {
      "text/plain": [
       "[1, 2, 3, 4]"
      ]
     },
     "execution_count": 25,
     "metadata": {},
     "output_type": "execute_result"
    }
   ],
   "source": [
    "l"
   ]
  },
  {
   "cell_type": "code",
   "execution_count": 26,
   "metadata": {
    "collapsed": false
   },
   "outputs": [
    {
     "data": {
      "text/plain": [
       "4"
      ]
     },
     "execution_count": 26,
     "metadata": {},
     "output_type": "execute_result"
    }
   ],
   "source": [
    "max(l)"
   ]
  },
  {
   "cell_type": "code",
   "execution_count": 27,
   "metadata": {
    "collapsed": false
   },
   "outputs": [
    {
     "data": {
      "text/plain": [
       "['odd', 'Even', 'odd', 'Even', 'odd']"
      ]
     },
     "execution_count": 27,
     "metadata": {},
     "output_type": "execute_result"
    }
   ],
   "source": [
    "a = [1,2,3,4,5]\n",
    "['Even' if i%2==0 else \"odd\" for i in a]"
   ]
  },
  {
   "cell_type": "code",
   "execution_count": null,
   "metadata": {
    "collapsed": true
   },
   "outputs": [],
   "source": [
    "print map(int,['a','b'],[12,13])"
   ]
  },
  {
   "cell_type": "code",
   "execution_count": 28,
   "metadata": {
    "collapsed": false
   },
   "outputs": [
    {
     "data": {
      "text/plain": [
       "10"
      ]
     },
     "execution_count": 28,
     "metadata": {},
     "output_type": "execute_result"
    }
   ],
   "source": [
    "int('a',12)"
   ]
  },
  {
   "cell_type": "code",
   "execution_count": 29,
   "metadata": {
    "collapsed": false
   },
   "outputs": [
    {
     "data": {
      "text/plain": [
       "11"
      ]
     },
     "execution_count": 29,
     "metadata": {},
     "output_type": "execute_result"
    }
   ],
   "source": [
    "int('b',13)"
   ]
  },
  {
   "cell_type": "code",
   "execution_count": 30,
   "metadata": {
    "collapsed": false
   },
   "outputs": [
    {
     "ename": "ValueError",
     "evalue": "invalid literal for int() with base 10: 'a'",
     "output_type": "error",
     "traceback": [
      "\u001b[0;31m---------------------------------------------------------------------------\u001b[0m",
      "\u001b[0;31mValueError\u001b[0m                                Traceback (most recent call last)",
      "\u001b[0;32m<ipython-input-30-b3c3f4515dd4>\u001b[0m in \u001b[0;36m<module>\u001b[0;34m()\u001b[0m\n\u001b[0;32m----> 1\u001b[0;31m \u001b[0mint\u001b[0m\u001b[1;33m(\u001b[0m\u001b[1;34m'a'\u001b[0m\u001b[1;33m)\u001b[0m\u001b[1;33m\u001b[0m\u001b[0m\n\u001b[0m",
      "\u001b[0;31mValueError\u001b[0m: invalid literal for int() with base 10: 'a'"
     ]
    }
   ],
   "source": [
    "int('a')"
   ]
  },
  {
   "cell_type": "code",
   "execution_count": 31,
   "metadata": {
    "collapsed": true
   },
   "outputs": [],
   "source": [
    "int?"
   ]
  },
  {
   "cell_type": "code",
   "execution_count": 33,
   "metadata": {
    "collapsed": false
   },
   "outputs": [
    {
     "data": {
      "text/plain": [
       "11"
      ]
     },
     "execution_count": 33,
     "metadata": {},
     "output_type": "execute_result"
    }
   ],
   "source": [
    "int(\"b\",12)"
   ]
  },
  {
   "cell_type": "code",
   "execution_count": 34,
   "metadata": {
    "collapsed": false
   },
   "outputs": [
    {
     "ename": "ValueError",
     "evalue": "invalid literal for int() with base 10: 'a'",
     "output_type": "error",
     "traceback": [
      "\u001b[0;31m---------------------------------------------------------------------------\u001b[0m",
      "\u001b[0;31mValueError\u001b[0m                                Traceback (most recent call last)",
      "\u001b[0;32m<ipython-input-34-b3c3f4515dd4>\u001b[0m in \u001b[0;36m<module>\u001b[0;34m()\u001b[0m\n\u001b[0;32m----> 1\u001b[0;31m \u001b[0mint\u001b[0m\u001b[1;33m(\u001b[0m\u001b[1;34m'a'\u001b[0m\u001b[1;33m)\u001b[0m\u001b[1;33m\u001b[0m\u001b[0m\n\u001b[0m",
      "\u001b[0;31mValueError\u001b[0m: invalid literal for int() with base 10: 'a'"
     ]
    }
   ],
   "source": [
    "int('a')"
   ]
  },
  {
   "cell_type": "code",
   "execution_count": 35,
   "metadata": {
    "collapsed": false
   },
   "outputs": [
    {
     "data": {
      "text/plain": [
       "'pythn'"
      ]
     },
     "execution_count": 35,
     "metadata": {},
     "output_type": "execute_result"
    }
   ],
   "source": [
    "s=\"python\"\n",
    "s.replace('o','')"
   ]
  },
  {
   "cell_type": "code",
   "execution_count": 36,
   "metadata": {
    "collapsed": false
   },
   "outputs": [
    {
     "name": "stdout",
     "output_type": "stream",
     "text": [
      "0 is false\n"
     ]
    }
   ],
   "source": [
    "if 0:\n",
    "    print \"0 is true\"\n",
    "else:\n",
    "    print \"0 is false\""
   ]
  },
  {
   "cell_type": "code",
   "execution_count": 37,
   "metadata": {
    "collapsed": false
   },
   "outputs": [
    {
     "data": {
      "text/plain": [
       "False"
      ]
     },
     "execution_count": 37,
     "metadata": {},
     "output_type": "execute_result"
    }
   ],
   "source": [
    "bool(0)"
   ]
  },
  {
   "cell_type": "code",
   "execution_count": 38,
   "metadata": {
    "collapsed": false
   },
   "outputs": [
    {
     "name": "stdout",
     "output_type": "stream",
     "text": [
      "-10 is true\n"
     ]
    }
   ],
   "source": [
    "if -10:\n",
    "    print \"-10 is true\"\n",
    "else:\n",
    "    print \"-10 is false\""
   ]
  },
  {
   "cell_type": "code",
   "execution_count": 39,
   "metadata": {
    "collapsed": false
   },
   "outputs": [
    {
     "data": {
      "text/plain": [
       "True"
      ]
     },
     "execution_count": 39,
     "metadata": {},
     "output_type": "execute_result"
    }
   ],
   "source": [
    "bool(-10)"
   ]
  },
  {
   "cell_type": "code",
   "execution_count": 1,
   "metadata": {
    "collapsed": false
   },
   "outputs": [],
   "source": [
    "import psycopg2"
   ]
  },
  {
   "cell_type": "code",
   "execution_count": 16,
   "metadata": {
    "collapsed": false
   },
   "outputs": [],
   "source": [
    "con = psycopg2.connect(host=\"localhost\",user=\"postgres\",password=\"root\",port=5432,database=\"db1\")"
   ]
  },
  {
   "cell_type": "code",
   "execution_count": 17,
   "metadata": {
    "collapsed": true
   },
   "outputs": [],
   "source": [
    "cur = con.cursor()"
   ]
  },
  {
   "cell_type": "code",
   "execution_count": 11,
   "metadata": {
    "collapsed": false
   },
   "outputs": [],
   "source": [
    "query = \"create table persons(id int, name varchar(50))\"\n",
    "cur.execute(query)"
   ]
  },
  {
   "cell_type": "code",
   "execution_count": 12,
   "metadata": {
    "collapsed": true
   },
   "outputs": [],
   "source": [
    "con.commit()"
   ]
  },
  {
   "cell_type": "code",
   "execution_count": 18,
   "metadata": {
    "collapsed": false
   },
   "outputs": [],
   "source": [
    "query = \"insert into persons values(1,'name1')\"\n",
    "cur.execute(query)\n",
    "con.commit()"
   ]
  },
  {
   "cell_type": "code",
   "execution_count": 19,
   "metadata": {
    "collapsed": false
   },
   "outputs": [
    {
     "data": {
      "text/plain": [
       "[None,\n",
       " None,\n",
       " None,\n",
       " None,\n",
       " None,\n",
       " None,\n",
       " None,\n",
       " None,\n",
       " None,\n",
       " None,\n",
       " None,\n",
       " None,\n",
       " None,\n",
       " None,\n",
       " None,\n",
       " None,\n",
       " None,\n",
       " None,\n",
       " None,\n",
       " None,\n",
       " None,\n",
       " None,\n",
       " None,\n",
       " None,\n",
       " None,\n",
       " None,\n",
       " None,\n",
       " None,\n",
       " None,\n",
       " None,\n",
       " None,\n",
       " None,\n",
       " None,\n",
       " None,\n",
       " None,\n",
       " None,\n",
       " None,\n",
       " None,\n",
       " None,\n",
       " None,\n",
       " None,\n",
       " None,\n",
       " None,\n",
       " None,\n",
       " None,\n",
       " None,\n",
       " None,\n",
       " None,\n",
       " None,\n",
       " None,\n",
       " None,\n",
       " None,\n",
       " None,\n",
       " None,\n",
       " None,\n",
       " None,\n",
       " None,\n",
       " None,\n",
       " None,\n",
       " None,\n",
       " None,\n",
       " None,\n",
       " None,\n",
       " None,\n",
       " None,\n",
       " None,\n",
       " None,\n",
       " None,\n",
       " None,\n",
       " None,\n",
       " None,\n",
       " None,\n",
       " None,\n",
       " None,\n",
       " None,\n",
       " None,\n",
       " None,\n",
       " None,\n",
       " None,\n",
       " None,\n",
       " None,\n",
       " None,\n",
       " None,\n",
       " None,\n",
       " None,\n",
       " None,\n",
       " None,\n",
       " None,\n",
       " None,\n",
       " None,\n",
       " None,\n",
       " None,\n",
       " None,\n",
       " None,\n",
       " None,\n",
       " None,\n",
       " None,\n",
       " None,\n",
       " None,\n",
       " None]"
      ]
     },
     "execution_count": 19,
     "metadata": {},
     "output_type": "execute_result"
    }
   ],
   "source": [
    "[cur.execute(\"insert into persons values({0},'name{0}')\".format(i)) for i in range(1,101)]"
   ]
  },
  {
   "cell_type": "code",
   "execution_count": 20,
   "metadata": {
    "collapsed": true
   },
   "outputs": [],
   "source": [
    "con.commit()"
   ]
  },
  {
   "cell_type": "code",
   "execution_count": 21,
   "metadata": {
    "collapsed": true
   },
   "outputs": [],
   "source": [
    "query = \"select * from persons\"\n",
    "data= cur.execute(query)"
   ]
  },
  {
   "cell_type": "code",
   "execution_count": 22,
   "metadata": {
    "collapsed": true
   },
   "outputs": [],
   "source": [
    "data"
   ]
  },
  {
   "cell_type": "code",
   "execution_count": 23,
   "metadata": {
    "collapsed": false
   },
   "outputs": [
    {
     "name": "stdout",
     "output_type": "stream",
     "text": [
      "None\n"
     ]
    }
   ],
   "source": [
    "print data"
   ]
  },
  {
   "cell_type": "code",
   "execution_count": 24,
   "metadata": {
    "collapsed": false
   },
   "outputs": [
    {
     "data": {
      "text/plain": [
       "[(1, 'name1'),\n",
       " (1, 'name1'),\n",
       " (2, 'name2'),\n",
       " (3, 'name3'),\n",
       " (4, 'name4'),\n",
       " (5, 'name5'),\n",
       " (6, 'name6'),\n",
       " (7, 'name7'),\n",
       " (8, 'name8'),\n",
       " (9, 'name9'),\n",
       " (10, 'name10'),\n",
       " (11, 'name11'),\n",
       " (12, 'name12'),\n",
       " (13, 'name13'),\n",
       " (14, 'name14'),\n",
       " (15, 'name15'),\n",
       " (16, 'name16'),\n",
       " (17, 'name17'),\n",
       " (18, 'name18'),\n",
       " (19, 'name19'),\n",
       " (20, 'name20'),\n",
       " (21, 'name21'),\n",
       " (22, 'name22'),\n",
       " (23, 'name23'),\n",
       " (24, 'name24'),\n",
       " (25, 'name25'),\n",
       " (26, 'name26'),\n",
       " (27, 'name27'),\n",
       " (28, 'name28'),\n",
       " (29, 'name29'),\n",
       " (30, 'name30'),\n",
       " (31, 'name31'),\n",
       " (32, 'name32'),\n",
       " (33, 'name33'),\n",
       " (34, 'name34'),\n",
       " (35, 'name35'),\n",
       " (36, 'name36'),\n",
       " (37, 'name37'),\n",
       " (38, 'name38'),\n",
       " (39, 'name39'),\n",
       " (40, 'name40'),\n",
       " (41, 'name41'),\n",
       " (42, 'name42'),\n",
       " (43, 'name43'),\n",
       " (44, 'name44'),\n",
       " (45, 'name45'),\n",
       " (46, 'name46'),\n",
       " (47, 'name47'),\n",
       " (48, 'name48'),\n",
       " (49, 'name49'),\n",
       " (50, 'name50'),\n",
       " (51, 'name51'),\n",
       " (52, 'name52'),\n",
       " (53, 'name53'),\n",
       " (54, 'name54'),\n",
       " (55, 'name55'),\n",
       " (56, 'name56'),\n",
       " (57, 'name57'),\n",
       " (58, 'name58'),\n",
       " (59, 'name59'),\n",
       " (60, 'name60'),\n",
       " (61, 'name61'),\n",
       " (62, 'name62'),\n",
       " (63, 'name63'),\n",
       " (64, 'name64'),\n",
       " (65, 'name65'),\n",
       " (66, 'name66'),\n",
       " (67, 'name67'),\n",
       " (68, 'name68'),\n",
       " (69, 'name69'),\n",
       " (70, 'name70'),\n",
       " (71, 'name71'),\n",
       " (72, 'name72'),\n",
       " (73, 'name73'),\n",
       " (74, 'name74'),\n",
       " (75, 'name75'),\n",
       " (76, 'name76'),\n",
       " (77, 'name77'),\n",
       " (78, 'name78'),\n",
       " (79, 'name79'),\n",
       " (80, 'name80'),\n",
       " (81, 'name81'),\n",
       " (82, 'name82'),\n",
       " (83, 'name83'),\n",
       " (84, 'name84'),\n",
       " (85, 'name85'),\n",
       " (86, 'name86'),\n",
       " (87, 'name87'),\n",
       " (88, 'name88'),\n",
       " (89, 'name89'),\n",
       " (90, 'name90'),\n",
       " (91, 'name91'),\n",
       " (92, 'name92'),\n",
       " (93, 'name93'),\n",
       " (94, 'name94'),\n",
       " (95, 'name95'),\n",
       " (96, 'name96'),\n",
       " (97, 'name97'),\n",
       " (98, 'name98'),\n",
       " (99, 'name99'),\n",
       " (100, 'name100')]"
      ]
     },
     "execution_count": 24,
     "metadata": {},
     "output_type": "execute_result"
    }
   ],
   "source": [
    "cur.fetchall()"
   ]
  },
  {
   "cell_type": "code",
   "execution_count": 25,
   "metadata": {
    "collapsed": false
   },
   "outputs": [
    {
     "data": {
      "text/plain": [
       "[]"
      ]
     },
     "execution_count": 25,
     "metadata": {},
     "output_type": "execute_result"
    }
   ],
   "source": [
    "cur.fetchall()"
   ]
  },
  {
   "cell_type": "code",
   "execution_count": 26,
   "metadata": {
    "collapsed": true
   },
   "outputs": [],
   "source": [
    "query = \"select * from persons\"\n",
    "data= cur.execute(query)\n",
    "cur.execute('delete from persons where id=1')"
   ]
  },
  {
   "cell_type": "code",
   "execution_count": 27,
   "metadata": {
    "collapsed": true
   },
   "outputs": [],
   "source": [
    "con.commit()"
   ]
  },
  {
   "cell_type": "code",
   "execution_count": 28,
   "metadata": {
    "collapsed": false
   },
   "outputs": [
    {
     "ename": "ProgrammingError",
     "evalue": "no results to fetch",
     "output_type": "error",
     "traceback": [
      "\u001b[0;31m---------------------------------------------------------------------------\u001b[0m",
      "\u001b[0;31mProgrammingError\u001b[0m                          Traceback (most recent call last)",
      "\u001b[0;32m<ipython-input-28-1bb1ba5db099>\u001b[0m in \u001b[0;36m<module>\u001b[0;34m()\u001b[0m\n\u001b[0;32m----> 1\u001b[0;31m \u001b[0mcur\u001b[0m\u001b[1;33m.\u001b[0m\u001b[0mfetchall\u001b[0m\u001b[1;33m(\u001b[0m\u001b[1;33m)\u001b[0m\u001b[1;33m\u001b[0m\u001b[0m\n\u001b[0m",
      "\u001b[0;31mProgrammingError\u001b[0m: no results to fetch"
     ]
    }
   ],
   "source": [
    "cur.fetchall()"
   ]
  },
  {
   "cell_type": "code",
   "execution_count": 29,
   "metadata": {
    "collapsed": true
   },
   "outputs": [],
   "source": [
    "import urllib2"
   ]
  },
  {
   "cell_type": "code",
   "execution_count": 30,
   "metadata": {
    "collapsed": true
   },
   "outputs": [],
   "source": [
    "resp  = urllib2.urlopen('http://www.w3schools.com/html/html_tables.asp')"
   ]
  },
  {
   "cell_type": "code",
   "execution_count": 31,
   "metadata": {
    "collapsed": false
   },
   "outputs": [
    {
     "data": {
      "text/plain": [
       "<addinfourl at 68041224L whose fp = <socket._fileobject object at 0x00000000040CE228>>"
      ]
     },
     "execution_count": 31,
     "metadata": {},
     "output_type": "execute_result"
    }
   ],
   "source": [
    "resp"
   ]
  },
  {
   "cell_type": "code",
   "execution_count": 32,
   "metadata": {
    "collapsed": false
   },
   "outputs": [
    {
     "data": {
      "text/plain": [
       "['__doc__',\n",
       " '__init__',\n",
       " '__iter__',\n",
       " '__module__',\n",
       " '__repr__',\n",
       " 'close',\n",
       " 'code',\n",
       " 'fileno',\n",
       " 'fp',\n",
       " 'getcode',\n",
       " 'geturl',\n",
       " 'headers',\n",
       " 'info',\n",
       " 'msg',\n",
       " 'next',\n",
       " 'read',\n",
       " 'readline',\n",
       " 'readlines',\n",
       " 'url']"
      ]
     },
     "execution_count": 32,
     "metadata": {},
     "output_type": "execute_result"
    }
   ],
   "source": [
    "dir(resp)"
   ]
  },
  {
   "cell_type": "code",
   "execution_count": 33,
   "metadata": {
    "collapsed": true
   },
   "outputs": [],
   "source": [
    "data = resp.read()"
   ]
  },
  {
   "cell_type": "code",
   "execution_count": 34,
   "metadata": {
    "collapsed": false
   },
   "outputs": [
    {
     "data": {
      "text/plain": [
       "'\\r\\n<!DOCTYPE html>\\r\\n<html lang=\"en-US\">\\r\\n<head>\\r\\n<title>HTML Tables</title>\\r\\n<meta charset=\"utf-8\">\\r\\n<meta name=\"viewport\" content=\"width=device-width, initial-scale=1\">\\r\\n<meta name=\"Keywords\" content=\"HTML,CSS,JavaScript,SQL,PHP,jQuery,XML,DOM,Bootstrap,Web development,W3C,tutorials,programming,training,learning,quiz,primer,lessons,references,examples,source code,colors,demos,tips\">\\r\\n<meta name=\"Description\" content=\"Well organized and easy to understand Web building tutorials with lots of examples of how to use HTML, CSS, JavaScript, SQL, PHP, and XML.\">\\r\\n<link rel=\"icon\" href=\"/favicon.ico\" type=\"image/x-icon\">\\r\\n<link rel=\"stylesheet\" href=\"/lib/w3.css\">\\r\\n<style>\\r\\na:hover,a:active{color:#4CAF50}\\r\\ntable.w3-table-all{margin:20px 0}\\r\\n/*OPPSETT AV TOP, TOPNAV, SIDENAV, MAIN, RIGHT OG FOOTER:*/\\r\\n.top {\\r\\nposition:relative;\\r\\nbackground-color:#ffffff;\\r\\nheight:68px;\\r\\npadding-top:20px;\\r\\nline-height:50px;\\r\\noverflow:hidden;\\r\\nz-index:2;\\r\\n}\\r\\n.w3schools-logo {\\r\\nfont-family:fontawesome;\\r\\ntext-decoration:none;\\r\\nline-height:1;\\r\\n-webkit-font-smoothing:antialiased;\\r\\n-moz-osx-font-smoothing:grayscale;\\r\\nfont-size:37px;\\r\\nletter-spacing:3px;\\r\\ncolor:#555555;\\r\\ndisplay:block;\\r\\nposition:absolute;\\r\\ntop:17px;\\r\\n}\\r\\n.w3schools-logo .dotcom {color:#4CAF50}\\r\\n.topnav {\\r\\nposition:relative;\\r\\nz-index:2;\\r\\nfont-size:17px;\\r\\nbackground-color:#5f5f5f;\\r\\ncolor:#f1f1f1;\\r\\nwidth:100%;\\r\\npadding:0;\\r\\nletter-spacing:1px;\\r\\n}\\r\\n.topnav a{\\r\\npadding:10px 15px 9px 15px !important;\\r\\ndisplay:inline-block;\\r\\n}\\r\\n.topnav li a:hover{\\r\\nbackground-color:#000000;\\r\\ncolor:#ffffff;\\r\\n}\\r\\n.topnav li a.active {\\r\\nbackground-color:#4CAF50;  \\r\\ncolor:#ffffff;\\r\\n}\\r\\na.topnav-icons {\\r\\nwidth:52px;\\r\\nfont-size:20px !important;\\r\\npadding-top:11px !important;\\r\\npadding-bottom:13px !important;\\r\\n}\\r\\na.topnav-icons.fa-home {font-size:22px !important}\\r\\na.topnav-localicons {\\r\\nfont-size:20px !important;\\r\\npadding-top:6px !important;\\r\\npadding-bottom:12px !important;\\r\\n}\\r\\ni.fa-caret-down,i.fa-caret-up{width:10px}\\r\\n#sidenav h2 {\\r\\nfont-size:21px;\\r\\npadding-left:16px;\\r\\nmargin:-4px 0 4px 0;\\r\\nwidth:204px;\\r\\n}\\r\\n#sidenav a {padding:2px 1px 1px 16px}\\r\\n#sidenav a:hover {color:#000000}\\r\\n#sidenav a.active {background-color:#4CAF50;color:#ffffff}\\r\\n#sidenav .w3-closebtn {\\r\\nposition:absolute;\\r\\nright:16px;\\r\\ntop:0;\\r\\n}\\r\\n#leftmenuinner {\\r\\nposition:fixed;\\r\\ntop:0;\\r\\npadding-top:112px;\\r\\npadding-bottom:0;    \\r\\nheight:100%;\\r\\nwidth:220px;\\r\\nbackground-color:transparent;\\r\\n}\\r\\n#leftmenuinnerinner {\\r\\nheight:100%;\\r\\nwidth:100%;\\r\\noverflow-y:scroll;\\r\\noverflow-x:hidden;\\r\\npadding-top:20px;\\r\\n}\\r\\n#main {padding:16px}\\r\\n#mainLeaderboard {height:90px}\\r\\n#right {text-align:center;padding:16px 16px 0 0}\\r\\n#right a {text-decoration:none}\\r\\n#right a:hover {text-decoration:underline}\\r\\n#skyscraper {min-height:600px}\\r\\n.sidesection {margin-bottom:32px;}\\r\\n.bottomad {padding:0 16px 16px 0;float:left;width:auto;}\\r\\n.footer a {text-decoration:none;}\\r\\n.footer a:hover{text-decoration:underline;}\\r\\n#nav_tutorials,#nav_references,#nav_examples{-webkit-overflow-scrolling:touch;overflow:auto;}\\r\\n#nav_tutorials::-webkit-scrollbar,#nav_references::-webkit-scrollbar,#nav_examples::-webkit-scrollbar {width: 12px;}\\r\\n#nav_tutorials::-webkit-scrollbar-track,#nav_references::-webkit-scrollbar-track,#nav_examples::-webkit-scrollbar-track {background:#555555;}\\r\\n#nav_tutorials::-webkit-scrollbar-thumb,#nav_references::-webkit-scrollbar-thumb,#nav_examples::-webkit-scrollbar-thumb {background: #999999;}\\r\\n.w3-dropnav {\\r\\ndisplay:none;\\r\\nletter-spacing:0;\\r\\nmargin-top:44px;\\r\\n}\\r\\n.w3-dropnav .w3-closebtn {\\r\\npadding:0 16px 16px 16px !important;\\r\\nposition:absolute;\\r\\nright:0;\\r\\n}\\r\\n.w3-dropnav a{display:block;padding:2px 0!important}\\r\\n.w3-dropnav a:hover{background-color:transparent;color:#fff;text-decoration:underline!important}\\r\\n.nextprev a {font-size:17px;border:1px solid #cccccc;}\\r\\n.nextprev a:link,.nextprev a:visited {background-color:#ffffff;color:#000000;}\\r\\n.nextprev a.w3-right {background-color:#4CAF50;color:#ffffff;border-color:#4CAF50}\\r\\n.w3-theme {color:#fff !important;background-color:#73AD21 !important;background-color:#4CAF50 !important}\\r\\n.w3-theme-border {border-color:#4CAF50 !important}\\r\\n.fa-facebook-square,.fa-twitter-square,.fa-google-plus-square {padding:0 8px;}\\r\\n.fa-facebook-square:hover, .fa-thumbs-o-up:hover {color:#3B5998;}\\r\\n.fa-twitter-square:hover {color:#55acee;}\\r\\n.fa-google-plus-square:hover {color:#dd4b39;}\\r\\n#google_translate_element img {margin-bottom:-1px;}\\r\\n#googleSearch {color:#000000;}\\r\\n#googleSearch a {padding:0 !important;}\\r\\n.searchdiv {max-width:400px;margin:auto;text-align:left;font-size:16px}\\r\\ndiv.cse .gsc-control-cse, div.gsc-control-cse {background-color:transparent;border:none;padding:6px;margin:0px}\\r\\ntd.gsc-search-button input.gsc-search-button {background-color:#4CAF50;border-color:#4CAF50}\\r\\ntd.gsc-search-button input.gsc-search-button:hover {background-color:#46a049;}\\r\\ninput.gsc-input, .gsc-input-box, .gsc-input-box-hover, .gsc-input-box-focus, .gsc-search-button {\\r\\nbox-sizing:content-box; line-height:normal;}\\r\\n.gsc-tabsArea div {overflow:visible;}\\r\\n/*\"nullstille\" w3css:*/\\r\\n.w3-main{transition:margin-left 0s;}\\r\\n.w3-sidenav a {transition:background-color 0s;}\\r\\n@media screen and (max-width:601px){.w3-navbar li a{display:inline-block}.w3-navbar li a:first-child{padding:8px 16px}.w3-dropnav a{display:block;}}\\t\\r\\n@media screen and (max-width:600px){\\r\\n  .w3-navbar{text-align:left}\\r\\n  .w3-navbar li:not(.w3-opennav){float:left;width:auto!important;}\\r\\n  .w3-navbar li.w3-right {float: right!important;}\\r\\n}\\r\\n/*\"nullstilling\" slutt*/\\r\\n@media (min-width:1675px) {\\r\\n#main {width:79%}\\r\\n#right {width:21%}\\r\\n}\\r\\n@media (max-width:992px) {\\r\\n.top {height:100px}\\r\\n.top img {display:block;margin:auto;}\\r\\n.top .w3schools-logo {position:relative;top:0;width:100%;text-align:center;margin:auto}\\r\\n.toptext {width:100%;text-align:center}\\r\\n#sidenav {width:260px;}\\r\\n#sidenav h2 {font-size:26px;width:100%;}\\r\\n#sidenav a {padding:3px 2px 3px 24px;font-size:17px}\\r\\n#leftmenuinner {  \\r\\nbox-shadow:0 3px 6px rgba(0,0,0,0.16), 0 3px 6px rgba(0,0,0,0.23);\\r\\noverflow:auto;\\r\\n-webkit-overflow-scrolling:touch;\\r\\nheight:100%;\\r\\nposition:relative;\\r\\nwidth:auto;\\r\\npadding-top:0;\\r\\nbackground-color:#f1f1f1;\\r\\n}\\r\\n#leftmenuinnerinner {overflow-y:scroll}\\r\\n.bottomad {float:none;text-align:center}\\r\\n#skyscraper {min-height:60px}\\r\\n}\\r\\n@media screen and (max-width:600px) {\\r\\n.top {height:68px}\\r\\n.toptext {display:none}\\r\\n}\\r\\n@font-face {\\r\\nfont-family:\\'fontawesome\\';\\r\\nsrc: url(\\'../lib/fonts/fontawesome.eot?14663396\\');\\r\\nsrc:url(\\'../lib/fonts/fontawesome.eot?14663396#iefix\\') format(\\'embedded-opentype\\'),\\r\\nurl(\\'../lib/fonts/fontawesome.woff?14663396\\') format(\\'woff\\'),\\r\\nurl(\\'../lib/fonts/fontawesome.ttf?14663396\\') format(\\'truetype\\'),\\r\\nurl(\\'../lib/fonts/fontawesome.svg?14663396#fontawesome\\') format(\\'svg\\');\\r\\nfont-weight:normal;\\r\\nfont-style:normal;\\r\\n}\\r\\n.fa {\\r\\ndisplay:inline-block;\\r\\nfont:normal normal normal 14px/1 FontAwesome;\\r\\nfont-size:inherit;\\r\\ntext-rendering:auto;\\r\\n-webkit-font-smoothing:antialiased;\\r\\n-moz-osx-font-smoothing:grayscale;\\r\\ntransform:translate(0, 0);\\r\\n}\\r\\n.fa-2x {\\r\\n font-size:2em;\\r\\n}\\r\\n.fa-home:before {content:\\'\\\\e800\\';}\\r\\n.fa-globe:before {content:\\'\\\\e801\\';}\\r\\n.fa-search:before {content:\\'\\\\e802\\'; }\\r\\n.fa-thumbs-o-up:before {content:\\'\\\\e803\\';}\\r\\n.fa-left-open:before {content:\\'\\\\e804\\';}\\r\\n.fa-right-open:before {content:\\'\\\\e805\\';}\\r\\n.fa-facebook-square:before {content:\\'\\\\e806\\';}\\r\\n.fa-google-plus-square:before {content:\\'\\\\e807\\';}\\r\\n.fa-twitter-square:before {content:\\'\\\\e808\\';}\\r\\n.fa-caret-down:before {content:\\'\\\\e809\\';}\\r\\n.fa-caret-up:before {content:\\'\\\\e80a\\';}\\r\\nspan.marked, span.deprecated {\\r\\n color:#e80000;\\r\\n background-color:transparent;\\r\\n}\\r\\n.intro {font-size:16px}\\r\\n.w3-btn, .w3-btn:link, .w3-btn:visited {color:#FFFFFF;background-color:#4CAF50}\\r\\na.w3-btn[href*=\"exercise.asp\"] {margin:10px 5px 0 0}\\r\\na.btnplayit,a.btnplayit:link,a.btnplayit:visited {background-color:#FFAD33;padding:1px 10px 2px 10px}\\r\\na.btnplayit:hover,a.btnplayit:active {background-color:#ffffff;color:#FFAD33}\\r\\na.btnsmall:link,a.btnsmall:visited,a.btnsmall:active,a.btnsmall:hover {\\r\\nfloat:right;padding:1px 10px 2px 10px;font:15px Verdana, sans-serif}\\r\\na.btnsmall:active,a.btnsmall:hover {color:#4CAF50;background-color:#ffffff}\\r\\n@media screen and (max-width:700px) {\\r\\n#mainLeaderboard {height:60px}\\r\\n#div-gpt-ad-1422003450156-0 {float:none;margin-left:auto;margin-right:auto}\\r\\n#div-gpt-ad-1422003450156-3 {float:none;margin-left:auto;margin-right:auto}\\r\\n}\\r\\n@media (max-width:1600px) {#topnav ul:nth-of-type(1) li:nth-of-type(16){display:none;}}\\r\\n@media (max-width:1500px) {#topnav ul:nth-of-type(1) li:nth-of-type(12){display:none;}}\\r\\n@media (max-width:1410px) {#topnav ul:nth-of-type(1) li:nth-of-type(11){display:none;}}\\r\\n@media (max-width:1350px) {#topnav ul:nth-of-type(1) li:nth-of-type(10){display:none;}}\\r\\n@media (max-width:1230px) {#topnav ul:nth-of-type(1) li:nth-of-type(9){display:none;}}\\r\\n@media (max-width:1140px) {#topnav ul:nth-of-type(1) li:nth-of-type(8){display:none;}}\\r\\n@media (max-width:1000px) {#topnav ul:nth-of-type(1) li:nth-of-type(7){display:none;}}\\r\\n@media (max-width:992px) {#topnav ul:nth-of-type(1) li:nth-of-type(6){display:none;}}\\r\\n@media (max-width:930px) {#topnav ul:nth-of-type(1) li:nth-of-type(17){display:none;}}\\r\\n@media (max-width:800px) {#topnav ul:nth-of-type(1) li:nth-of-type(18){display:none;}}\\r\\n@media (max-width:650px) {#topnav ul:nth-of-type(1) li:nth-of-type(5){display:none;} #topnav ul:nth-of-type(1) li:nth-of-type(15){display:none;}}\\r\\n@media (max-width:460px) {#topnav ul:nth-of-type(1) li:nth-of-type(4){display:none;}}\\r\\n@media (max-width:400px) {#topnav ul:nth-of-type(1) li:nth-of-type(3){display:none;}}\\r\\n@media (max-width:320px) {#topnav ul:nth-of-type(2) li:nth-of-type(1){display:none;}}\\r\\n\\r\\n.w3-note{background-color:#ffffcc;border-left:6px solid #ffeb3b}\\r\\n.w3-warning{background-color:#ffdddd;border-left:6px solid #f44336}\\r\\n.w3-info{background-color:#ddffdd;border-left:6px solid #4CAF50}\\r\\n</style>\\r\\n<script>\\r\\n(function(i,s,o,g,r,a,m){i[\\'GoogleAnalyticsObject\\']=r;i[r]=i[r]||function(){\\r\\n(i[r].q=i[r].q||[]).push(arguments)},i[r].l=1*new Date();a=s.createElement(o),\\r\\nm=s.getElementsByTagName(o)[0];a.async=1;a.src=g;m.parentNode.insertBefore(a,m)\\r\\n})(window,document,\\'script\\',\\'https://www.google-analytics.com/analytics.js\\',\\'ga\\');\\r\\nga(\\'create\\', \\'UA-3855518-1\\', \\'auto\\');\\r\\nga(\\'require\\', \\'displayfeatures\\');\\r\\nga(\\'send\\', \\'pageview\\');\\r\\n</script>\\r\\n<!-- Ezoic Ad Testing Code-->\\r\\n\\r\\n<!-- Ezoic Ad Testing Code-->\\r\\n<script type=\\'text/javascript\\'>\\r\\nvar googletag = googletag || {};\\r\\ngoogletag.cmd = googletag.cmd || [];\\r\\n(function() {\\r\\nvar gads = document.createElement(\\'script\\');\\r\\ngads.async = true;\\r\\ngads.type = \\'text/javascript\\';\\r\\ngads.src = \\'https://www.googletagservices.com/tag/js/gpt.js\\';\\r\\nvar node = document.getElementsByTagName(\\'script\\')[0];\\r\\nnode.parentNode.insertBefore(gads, node);\\r\\n})();\\r\\n</script>\\r\\n<script type=\\'text/javascript\\'>\\r\\n// GPT slots\\r\\nvar gptAdSlots = [];\\r\\ngoogletag.cmd.push(function() {\\r\\nvar leaderMapping = googletag.sizeMapping().\\r\\n// Mobile ad\\r\\naddSize([0, 0], [320, 50]). \\r\\n// Vertical Tablet ad\\r\\naddSize([480, 0], [468, 60]). \\r\\n// Horizontal Tablet\\r\\naddSize([750, 0], [728, 90]).\\r\\n// Small Desktop\\r\\naddSize([993, 0], [468, 60]).\\r\\n// Normal Desktop\\r\\naddSize([1135, 0], [728, 90]).\\r\\n// Large Desktop and bigger ad\\r\\naddSize([1425, 0], [[728, 90], [970, 90]]).build();\\r\\ngptAdSlots[0] = googletag.defineSlot(\\'/16833175/MainLeaderboard\\', [[728, 90], [970, 90]], \\'div-gpt-ad-1422003450156-2\\').\\r\\ndefineSizeMapping(leaderMapping).addService(googletag.pubads());\\r\\nvar skyMapping = googletag.sizeMapping().\\r\\n// Mobile ad\\r\\naddSize([0, 0], [320, 50]). \\r\\n// Tablet ad\\r\\naddSize([975, 0], [120, 600]). \\r\\n// Desktop\\r\\naddSize([1135, 0], [160, 600]).   \\r\\n// Large Desktop\\r\\naddSize([1675, 0], [[160, 600], [300, 600], [300, 1050]]).build();\\r\\ngptAdSlots[1] = googletag.defineSlot(\\'/16833175/WideSkyScraper\\', [[160, 600], [300, 600], [300, 1050]], \\'div-gpt-ad-1422003450156-5\\').\\r\\ndefineSizeMapping(skyMapping).addService(googletag.pubads());\\r\\nvar stickyMapping = googletag.sizeMapping().\\r\\n// Mobile ad\\r\\naddSize([0, 0], []). \\r\\n// Tablet ad\\r\\naddSize([975, 0], [120, 600]). \\r\\n// Desktop\\r\\naddSize([1135, 0], [160, 600]).   \\r\\n// Large Desktop\\r\\naddSize([1675, 0], [[160, 600], [300, 600], [300, 250]]).build();\\r\\ngptAdSlots[4] = googletag.defineSlot(\\'/16833175/StickySkyScraper\\', [[300, 600], [120, 600], [300, 250], [160, 600]], \\'div-gpt-ad-1472547360578-0\\').\\r\\ndefineSizeMapping(stickyMapping).addService(googletag.pubads());\\r\\nvar bmrMapping = googletag.sizeMapping().\\r\\n// Smaller\\r\\naddSize([0, 0], [[300, 250], [336, 280]]). \\r\\n// Large Desktop\\r\\naddSize([1240, 0], [[300, 250], [336, 280], [970, 250]]).build();\\r\\ngptAdSlots[2] = googletag.defineSlot(\\'/16833175/BottomMediumRectangle\\', [[300, 250], [336, 280], [970, 250]], \\'div-gpt-ad-1422003450156-0\\').\\r\\ndefineSizeMapping(bmrMapping).setCollapseEmptyDiv(true).addService(googletag.pubads());\\r\\nvar rbmrMapping = googletag.sizeMapping().\\r\\n// Smaller\\r\\naddSize([0, 0], []). \\r\\n// Large Desktop\\r\\naddSize([975, 0], [[300, 250], [336, 280]]).build();\\r\\ngptAdSlots[3] = googletag.defineSlot(\\'/16833175/RightBottomMediumRectangle\\', [[300, 250], [336, 280]], \\'div-gpt-ad-1422003450156-3\\').\\r\\ndefineSizeMapping(rbmrMapping).setCollapseEmptyDiv(true).addService(googletag.pubads());\\r\\ngoogletag.pubads().setTargeting(\"content\",(function () {\\r\\n  var folder = location.pathname;\\r\\n  folder = folder.replace(\"/\", \"\");\\r\\n  folder = folder.substr(0, folder.indexOf(\"/\"));\\r\\n  return folder;\\r\\n})()\\r\\n);\\r\\ngoogletag.enableServices();\\r\\n});\\r\\n</script>\\r\\n<!-- EZOIC_REMOVE_END -->\\r\\n<script type=\\'text/javascript\\'>\\r\\nvar stickyadstatus = \"\";\\r\\nfunction fix_stickyad() {\\r\\n  var elem = document.getElementById(\"stickyadcontainer\");\\r\\n  var skyWidth = Number(w3_getStyleValue(document.getElementById(\"skyscraper\"), \"width\").replace(\"px\", \"\"));  \\r\\n  elem.style.width = skyWidth + \"px\";\\r\\n  if (window.innerWidth <= 992) {\\r\\n    elem.style.position = \"\";\\r\\n    elem.style.top = stickypos + \"px\";\\r\\n    return false;\\r\\n  }\\r\\n  var stickypos = document.getElementById(\"stickypos\").offsetTop;\\r\\n  var docTop = window.pageYOffset || document.documentElement.scrollTop || document.body.scrollTop;\\r\\n  var adHeight = Number(w3_getStyleValue(elem, \"height\").replace(\"px\", \"\"));\\r\\n  if (stickyadstatus == \"\") {\\r\\n    if ((stickypos - docTop) < 60) {\\r\\n      elem.style.position = \"fixed\";\\r\\n      elem.style.top = \"60px\";\\r\\n      stickyadstatus = \"sticky\";\\r\\n    }\\r\\n  } else {\\r\\n    if ((docTop + 60) - stickypos < 0) {  \\r\\n      elem.style.position = \"\";\\r\\n      elem.style.top = stickypos + \"px\";\\r\\n      stickyadstatus = \"\";\\r\\n    }\\r\\n  }\\r\\n  if (stickyadstatus == \"sticky\") {\\r\\n    if ((docTop + adHeight + 60) > document.getElementById(\"footer\").offsetTop) {\\r\\n      elem.style.position = \"absolute\";\\r\\n      elem.style.top = (document.getElementById(\"footer\").offsetTop - adHeight) + \"px\";\\r\\n    } else {\\r\\n        elem.style.position = \"fixed\";\\r\\n        elem.style.top = \"60px\";\\r\\n        stickyadstatus = \"sticky\";\\r\\n    }\\r\\n  }\\r\\n}\\r\\nfunction w3_getStyleValue(elmnt,style) {\\r\\n  if (window.getComputedStyle) {\\r\\n    return window.getComputedStyle(elmnt,null).getPropertyValue(style);\\r\\n  } else {\\r\\n    return elmnt.currentStyle[style];\\r\\n  }\\r\\n}\\r\\n</script>\\r\\n\\r\\n<style>\\r\\ntable#customers {\\r\\n    font-family: arial, sans-serif;\\r\\n    border-collapse: collapse;\\r\\n    width: 100%;\\r\\n}\\r\\n\\r\\n#customers td, #customers th {\\r\\n    border: 1px solid #dddddd;\\r\\n    text-align: left;\\r\\n    padding: 8px;\\r\\n}\\r\\n\\r\\n#customers tr:nth-child(even) {\\r\\n    background-color: #dddddd;\\r\\n}\\r\\n\\r\\n\\r\\n.htmltut_table, .htmltut_table th, .htmltut_table td\\r\\n{\\r\\nborder:1px solid black;\\r\\n}\\r\\n.htmltut_table1, .htmltut_table1 th, .htmltut_table1 td\\r\\n{\\r\\nborder:1px solid black;\\r\\n}\\r\\n.htmltut_table1 th, .htmltut_table1 td\\r\\n{\\r\\npadding:5px;\\r\\n}\\r\\n</style>\\r\\n<link rel=\\'canonical\\' href=\\'http://www.w3schools.com/html/html_tables.asp\\' />\\n<script data-cfasync=\"false\" type=\"text/javascript\">window.google_analytics_uacct = \"UA-80950036-41\";</script>\\n<script data-cfasync=\"false\" type=\"text/javascript\">\\nvar _gaq = _gaq || [];\\n_gaq.push([\\'e._setAccount\\', \\'UA-80950036-41\\']);\\n_gaq.push([\\'f._setAccount\\', \\'UA-38339005-1\\']);\\n_gaq.push([\\'e._setDomainName\\', \\'w3schools.com\\']);\\n_gaq.push([\\'f._setDomainName\\', \\'w3schools.com\\']);\\n_gaq.push([\\'e._setCustomVar\\',1,\\'template\\',\\'old_site_gc\\',3]);\\n_gaq.push([\\'e._setCustomVar\\',2,\\'t\\',\\'126\\',3]);\\n_gaq.push([\\'e._setCustomVar\\',3,\\'rid\\',\\'0\\',2]);\\n_gaq.push([\\'e._setCustomVar\\',4,\\'bra\\',\\'mod11\\',3]);\\n_gaq.push([\\'f._setSampleRate\\', \\'5\\']);\\n_gaq.push([\\'e._setSampleRate\\', \\'5\\']);\\n_gaq.push([\\'e._setAllowAnchor\\',true]);\\n_gaq.push([\\'e._setSiteSpeedSampleRate\\', 10]);\\n_gaq.push([\\'f._setCustomVar\\',1,\\'template\\',\\'old_site_gc\\',3]);\\n_gaq.push([\\'f._setCustomVar\\',2,\\'domain\\',\\'w3schools.com\\',3]);\\n_gaq.push([\\'f._setSiteSpeedSampleRate\\', 20]);\\n_gaq.push([\\'e._trackPageview\\']);\\n_gaq.push([\\'f._trackPageview\\']);\\n\\n\\n(function() {\\n var ga = document.createElement(\\'script\\'); ga.type = \\'text/javascript\\'; ga.async = true;\\n ga.src = (\\'https:\\' == document.location.protocol ? \\'https://ssl\\' : \\'http://www\\') + \\'.google-analytics.com/ga.js\\';\\n var s = document.getElementsByTagName(\\'script\\')[0]; s.parentNode.insertBefore(ga, s);\\n})();\\n\\nvar ez_tos_track_count = 0;\\nvar ez_last_activity_count = 0;\\n(function (__ez_tos) {\\n  window.setInterval(function () {\\n    __ez_tos = (function (t) {\\n      return t[0] == 45 ? (parseInt(t[1]) + 1) + \\':00\\' : (t[1] || \\'0\\') + \\':\\' + (parseInt(t[0]) + 15);\\n    })(__ez_tos.split(\\':\\').reverse());\\n\\n    ez_tos_track_count++;\\n    if(ez_tos_track_count > 1 && ez_tos_track_count < (ez_last_activity_count + 4) && ez_tos_track_count < 240)\\n    {\\n        if(window.pageTracker)\\n        {\\n            pageTracker._trackEvent(\\'Time\\', \\'Log\\', __ez_tos);\\n\\n        }\\n        else\\n        {\\n           _gaq.push([\\'e._trackEvent\\', \\'Time\\', \\'Log\\', __ez_tos]);\\n           _gaq.push([\\'f._trackEvent\\', \\'Time\\', \\'Log\\', __ez_tos]);\\n\\n        }\\n\\n\\t\\tif(typeof(_paq) != \\'undefined\\')\\n        {\\n            _paq.push([\\'trackEvent\\', \\'Time\\', __ez_tos, \\'TimeOnPage\\']);\\n        }\\n\\n    }\\n  }, 15000);\\n})(\\'00\\');\\n\\n</script>\\n<script type=\"text/javascript\">var ezouid = \"1678930017\";</script><base href=\"http://www.w3schools.com/html/html_tables.asp\"><script type=\\'text/javascript\\'>\\nvar ezoTemplate = \\'old_site_gc\\';\\nif(typeof ezouid == \\'undefined\\')\\n{\\n    var ezouid = \\'none\\';\\n}\\nvar ezoFormfactor = \\'1\\';\\nvar ezo_elements_to_check = Array();\\n</script><!-- START EZHEAD -->\\n<script type=\\'text/javascript\\'>\\nvar soc_app_id = \\'0\\';\\nvar did = 34890;\\nvar ezdomain = \\'w3schools.com\\';\\nvar ezoicSearchable = 1;\\n</script>\\n<!--{jquery}-->\\n<!-- END EZHEAD -->\\n<script type=\"text/javascript\" cf-async=\"false\">var _ezaq = {\"ab_test_id\":\"mod11\",\"ab_test_val\":\"\",\"adgroup_rank_id\":-1,\"country\":\"IN\",\"device_height\":528,\"device_width\":1280,\"domain_id\":34890,\"forensiq_score\":-1,\"form_factor_id\":1,\"ip\":\"111.93.24.62\",\"landing_page_url\":\"http://www.w3schools.com/html/html_tables.asp\",\"page_ad_positions\":\"\",\"page_view_id\":\"f7a91749-fb26-4350-6a0e-93bac44e0851\",\"pv_event_count\":0,\"referrer_id\":0,\"region\":\"us-east-1\",\"serverid\":\"54.157.174.228:16536\",\"t_epoch\":1485756758,\"template_id\":126,\"url\":\"http://www.w3schools.com/html/html_tables.asp\",\"user_agent\":\"Python-urllib/2.7\",\"user_id\":1678930017,\"visit_id\":1142486042,\"visit_uuid\":\"3108cd93-5cf2-4619-6d54-55fdc7922c69\"};var _ezExtraQueries = \"&ez_orig=1\";</script><script data-cfasync=\\'false\\' type=\"text/javascript\" src=\"/ezoic/imp2.js?cb=143-1&v=9\"></script></head>\\r\\n<body>\\r\\n<div class=\\'w3-container top\\'>\\r\\n  <a class=\\'w3schools-logo\\' href=\\'//www.w3schools.com\\'>w3schools<span class=\\'dotcom\\'>.com</span></a>\\r\\n  <div class=\\'w3-right w3-hide-small w3-wide toptext\\'>THE WORLD\\'S LARGEST WEB DEVELOPER SITE</div>\\r\\n</div>\\r\\n\\r\\n<div style=\\'display:none;position:absolute;z-index:4;right:52px;height:44px;background-color:#5f5f5f;letter-spacing:normal;\\' id=\\'googleSearch\\'>\\r\\n  <div class=\\'gcse-search\\'></div>\\r\\n</div>\\r\\n<div style=\\'display:none;position:absolute;z-index:3;right:111px;height:44px;background-color:#5f5f5f;text-align:right;padding-top:9px;\\' id=\\'google_translate_element\\'></div>\\r\\n\\r\\n<div class=\\'w3-card-2 w3-slim topnav\\' id=\\'topnav\\'>\\r\\n  <div style=\"overflow:auto;\">\\r\\n    <ul class=\"w3-navbar w3-left\" style=\"width:100%;overflow:hidden;height:44px\">\\r\\n      <li><a href=\\'javascript:void(0);\\' class=\\'topnav-localicons w3-hide-large w3-left\\' onclick=\\'open_menu()\\' title=\\'Menu\\'>&#9776;</a></li>\\r\\n      <li><a href=\\'/default.asp\\' class=\\'topnav-icons fa fa-home w3-left\\' title=\\'Home\\'></a></li>\\r\\n      <li><a href=\\'/html/default.asp\\' title=\\'HTML Tutorial\\'>HTML</a></li>\\r\\n      <li><a href=\\'/css/default.asp\\' title=\\'CSS Tutorial\\'>CSS</a></li>\\r\\n      <li><a href=\\'/js/default.asp\\' title=\\'JavaScript Tutorial\\'>JAVASCRIPT</a></li>\\r\\n      <li><a href=\\'/sql/default.asp\\' title=\\'SQL Tutorial\\'>SQL</a></li>\\r\\n      <li><a href=\\'/php/default.asp\\' title=\\'PHP Tutorial\\'>PHP</a></li>\\r\\n      <li><a href=\\'/bootstrap/default.asp\\' title=\\'Bootstrap Tutorial\\'>BOOTSTRAP</a></li>\\r\\n      <li><a href=\\'/jquery/default.asp\\' title=\\'jQuery Tutorial\\'>JQUERY</a></li>\\r\\n      <li><a href=\\'/angular/default.asp\\' title=\\'Angular Tutorial\\'>ANGULAR</a></li>\\r\\n      <li><a href=\\'/w3css/default.asp\\' title=\\'W3.CSS Tutorial\\'>W3.CSS</a></li>\\r\\n      <li><a href=\\'/xml/default.asp\\' title=\\'XML Tutorial\\'>XML</a></li>\\r\\n      <li><a id=\\'topnavbtn_tutorials\\' href=\\'javascript:void(0);\\' onclick=\\'w3_open_nav(\"tutorials\")\\' title=\\'Tutorials\\'>MORE <i class=\\'fa fa-caret-down\\'></i><i class=\\'fa fa-caret-up\\' style=\\'display:none\\'></i></a></li>\\r\\n      <li class=\"w3-right\"><a href=\\'javascript:void(0);\\' class=\\'topnav-icons fa w3-right\\' onclick=\\'open_search(this)\\' title=\\'Search W3Schools\\'>&#xe802;</a></li>\\r\\n      <li class=\"w3-right\"><a href=\\'javascript:void(0);\\' class=\\'topnav-icons fa w3-right\\' onclick=\\'open_translate(this)\\' title=\\'Translate W3Schools\\'>&#xe801;</a></li>\\r\\n      <li class=\"w3-right\"><a href=\\'/forum/default.asp\\'>FORUM</a></li>\\r\\n      <li class=\"w3-right\"><a id=\\'topnavbtn_examples\\' href=\\'javascript:void(0);\\' onclick=\\'w3_open_nav(\"examples\")\\' title=\\'Examples\\'>EXAMPLES <i class=\\'fa fa-caret-down\\'></i><i class=\\'fa fa-caret-up\\' style=\\'display:none\\'></i></a></li>\\r\\n      <li class=\"w3-right\"><a id=\\'topnavbtn_references\\' href=\\'javascript:void(0);\\' onclick=\\'w3_open_nav(\"references\")\\' title=\\'References\\'>REFERENCES <i class=\\'fa fa-caret-down\\'></i><i class=\\'fa fa-caret-up\\' style=\\'display:none\\'></i></a></li>\\r\\n    </ul>\\r\\n    <div id=\\'nav_tutorials\\' class=\\'w3-dropnav w3-card-2\\'>\\r\\n      <span onclick=\\'w3_close_nav(\"tutorials\")\\' class=\\'w3-closebtn w3-xlarge w3-hover-text-white\\' style=\"right:12px;\">&times;</span>\\r\\n      <div class=\\'w3-row-padding w3-padding-xxlarge\\'>\\r\\n        <div class=\\'w3-col l3 m6\\'>\\r\\n          <h3>HTML and CSS</h3>\\r\\n          <a href=\\'/html/default.asp\\'>Learn HTML</a>\\r\\n          <a href=\\'/css/default.asp\\'>Learn CSS</a>\\r\\n          <a href=\\'/w3css/default.asp\\'>Learn W3.CSS</a>\\r\\n          <a href=\\'/colors/default.asp\\'>Learn Colors</a>\\r\\n          <a href=\\'/bootstrap/default.asp\\'>Learn Bootstrap</a>\\r\\n          <a href=\\'/graphics/default.asp\\'>Learn Graphics</a>\\r\\n          <a href=\\'/icons/default.asp\\'>Learn Icons</a>\\r\\n          <a href=\\'/howto/default.asp\\'>Learn How To</a>\\r\\n        </div>\\r\\n        <div class=\\'w3-col l3 m6\\'>  \\r\\n          <h3>JavaScript</h3>\\r\\n          <a href=\\'/js/default.asp\\'>Learn JavaScript</a>\\r\\n          <a href=\\'/w3js/default.asp\\'>Learn W3.JS</a>\\r\\n          <a href=\\'/jquery/default.asp\\'>Learn jQuery</a>\\r\\n          <a href=\\'/jquerymobile/default.asp\\'>Learn jQueryMobile</a>\\r\\n          <a href=\\'/appml/default.asp\\'>Learn AppML</a>\\r\\n          <a href=\\'/angular/default.asp\\'>Learn AngularJS</a>\\r\\n          <a href=\"/js/js_json_intro.asp\">Learn JSON</a>\\r\\n          <a href=\\'/js/js_ajax_intro.asp\\'>Learn AJAX</a>\\r\\n          <div class=\"w3-hide-small\"><br><br></div>\\r\\n        </div>\\r\\n        <div class=\\'w3-col l3 m6\\'>\\r\\n          <h3>Server Side</h3>\\r\\n          <a href=\\'/sql/default.asp\\'>Learn SQL</a>\\r\\n          <a href=\\'/php/default.asp\\'>Learn PHP</a>\\r\\n          <a href=\\'/asp/default.asp\\'>Learn ASP</a>\\r\\n          <h3>Web Building</h3>\\r\\n          <a href=\"/w3css/w3css_templates.asp\">Web Templates</a>\\r\\n          <a href=\\'/browsers/default.asp\\'>Web Statistics</a>\\r\\n          <a href=\\'/cert/default.asp\\'>Web Certificates</a>\\r\\n        </div>\\r\\n        <div class=\\'w3-col l3 m6\\'>\\r\\n          <h3>XML</h3>\\r\\n          <a href=\\'/xml/default.asp\\'>Learn XML</a>\\r\\n          <a href=\\'/xml/ajax_intro.asp\\'>Learn XML AJAX</a>\\r\\n          <a href=\"/xml/dom_intro.asp\">Learn XML DOM</a>\\r\\n          <a href=\\'/xml/xml_dtd_intro.asp\\'>Learn XML DTD</a>\\r\\n          <a href=\\'/xml/schema_intro.asp\\'>Learn XML Schema</a>\\r\\n          <a href=\\'/xml/xsl_intro.asp\\'>Learn XSLT</a>\\r\\n          <a href=\\'/xml/xpath_intro.asp\\'>Learn XPath</a>\\r\\n          <a href=\\'/xml/xquery_intro.asp\\'>Learn XQuery</a>\\r\\n        </div>\\r\\n      </div>\\r\\n      <br>\\r\\n    </div>\\r\\n    <div id=\\'nav_references\\' class=\\'w3-dropnav w3-card-2\\'>\\r\\n      <span onclick=\\'w3_close_nav(\"references\")\\' class=\\'w3-closebtn w3-xlarge w3-hover-text-white\\' style=\"right:12px;\">&times;</span>\\r\\n      <div class=\\'w3-row-padding w3-padding-xxlarge\\'>\\r\\n        <div class=\\'w3-col m4\\'>\\r\\n          <h3>HTML</h3>\\r\\n          <a href=\\'/tags/default.asp\\'>HTML Tag Reference</a>\\r\\n          <a href=\\'/tags/ref_eventattributes.asp\\'>HTML Event Reference</a>\\r\\n          <a href=\\'/colors/default.asp\\'>HTML Color Reference</a>\\r\\n          <a href=\\'/tags/ref_attributes.asp\\'>HTML Attribute Reference</a>\\r\\n          <a href=\\'/tags/ref_canvas.asp\\'>HTML Canvas Reference</a>\\r\\n          <a href=\\'/graphics/svg_reference.asp\\'>HTML SVG Reference</a>\\r\\n          <a href=\\'/graphics/google_maps_reference.asp\\'>Google Maps Reference</a>\\r\\n          <h3>CSS</h3>\\r\\n          <a href=\\'/cssref/default.asp\\'>CSS Reference</a>\\r\\n          <a href=\\'/cssref/css_selectors.asp\\'>CSS Selector Reference</a>\\r\\n          <a href=\\'/w3css/w3css_references.asp\\'>W3.CSS Reference</a>\\r\\n          <a href=\\'/bootstrap/bootstrap_ref_all_classes.asp\\'>Bootstrap Reference</a>\\r\\n          <a href=\\'/icons/icons_reference.asp\\'>Icon Reference</a>\\r\\n        </div>\\r\\n        <div class=\\'w3-col m4\\'>\\r\\n          <h3>JavaScript</h3>\\r\\n          <a href=\\'/jsref/default.asp\\'>JavaScript Reference</a>\\r\\n          <a href=\\'/jsref/default.asp\\'>HTML DOM Reference</a>\\r\\n          <a href=\\'/w3js/w3js_references.asp\\'>W3.JS Reference</a>\\r\\n          <a href=\\'/jquery/jquery_ref_selectors.asp\\'>jQuery Reference</a>\\r\\n          <a href=\\'/jquerymobile/jquerymobile_ref_data.asp\\'>jQuery Mobile Reference</a>\\r\\n          <a href=\\'/angular/angular_ref_directives.asp\\'>AngularJS Reference</a>\\r\\n          <h3>XML</h3>\\r\\n          <a href=\\'/xml/dom_nodetype.asp\\'>XML Reference</a>\\r\\n          <a href=\\'/xml/dom_http.asp\\'>XML Http Reference</a>\\r\\n          <a href=\\'/xml/xsl_elementref.asp\\'>XSLT Reference</a>\\r\\n          <a href=\\'/xml/schema_elements_ref.asp\\'>XML Schema Reference</a>\\r\\n        </div>\\r\\n        <div class=\\'w3-col m4\\'>\\r\\n          <h3>Charsets</h3>\\r\\n          <a href=\\'/charsets/default.asp\\'>HTML Character Sets</a>\\r\\n          <a href=\\'/charsets/ref_html_ascii.asp\\'>HTML ASCII</a>\\r\\n          <a href=\\'/charsets/ref_html_ansi.asp\\'>HTML ANSI</a>\\r\\n          <a href=\\'/charsets/ref_html_ansi.asp\\'>HTML Windows-1252</a>\\r\\n          <a href=\\'/charsets/ref_html_8859.asp\\'>HTML ISO-8859-1</a>\\r\\n          <a href=\\'/charsets/ref_html_symbols.asp\\'>HTML Symbols</a>\\r\\n          <a href=\\'/charsets/ref_html_utf8.asp\\'>HTML UTF-8</a>\\r\\n          <h3>Server Side</h3>\\r\\n          <a href=\\'/php/php_ref_array.asp\\'>PHP Reference</a>\\r\\n          <a href=\\'/sql/sql_quickref.asp\\'>SQL Reference</a>\\r\\n          <a href=\\'/asp/asp_ref_response.asp\\'>ASP Reference</a>\\r\\n        </div>\\r\\n      </div>\\r\\n      <br>\\r\\n    </div>\\r\\n    <div id=\\'nav_examples\\' class=\\'w3-dropnav w3-card-2\\'>\\r\\n      <span onclick=\\'w3_close_nav(\"examples\")\\' class=\\'w3-closebtn w3-xlarge w3-hover-text-white\\' style=\"right:12px;\">&times;</span>\\r\\n      <div class=\\'w3-row-padding w3-padding-xxlarge\\'>\\r\\n        <div class=\\'w3-col l3 m6\\'>\\r\\n          <h3>HTML/CSS</h3>\\r\\n          <a href=\\'/html/html_examples.asp\\'>HTML Examples</a>\\r\\n          <a href=\\'/css/css_examples.asp\\'>CSS Examples</a>\\r\\n          <a href=\\'/w3css/w3css_examples.asp\\'>W3.CSS Examples</a>\\r\\n          <a href=\\'/w3css/w3css_templates.asp\\'>W3.CSS Templates</a>\\r\\n          <a href=\\'/bootstrap/bootstrap_examples.asp\\'>Bootstrap Examples</a>\\r\\n        </div>\\r\\n        <div class=\\'w3-col l3 m6\\'>\\r\\n          <h3>JavaScript</h3>\\r\\n          <a href=\\'/js/js_examples.asp\\' target=\\'_top\\'>JavaScript Examples</a>\\r\\n          <a href=\\'/js/js_dom_examples.asp\\' target=\\'_top\\'>HTML DOM Examples</a>\\r\\n          <a href=\\'/w3js/w3js_examples.asp\\'>W3.JS Examples</a>\\r\\n          <a href=\\'/jquery/jquery_examples.asp\\' target=\\'_top\\'>jQuery Examples</a>\\r\\n          <a href=\\'/jquerymobile/jquerymobile_examples.asp\\' target=\\'_top\\'>jQuery Mobile Examples</a>\\r\\n          <a href=\\'/angular/angular_examples.asp\\' target=\\'_top\\'>AngularJS Examples</a>\\r\\n          <a href=\\'/js/js_ajax_examples.asp\\' target=\\'_top\\'>AJAX Examples</a>\\r\\n        </div>\\r\\n        <div class=\\'w3-col l3 m6\\'>\\r\\n          <h3>Server Side</h3>\\r\\n          <a href=\\'/php/php_examples.asp\\' target=\\'_top\\'>PHP Examples</a>\\r\\n          <a href=\"/asp/asp_examples.asp\" target=\"_top\">ASP Examples</a>\\r\\n          <h3>XML</h3>\\r\\n          <a href=\\'/xml/xml_examples.asp\\' target=\\'_top\\'>XML Examples</a>\\r\\n          <a href=\\'/xml/xsl_examples.asp\\' target=\\'_top\\'>XSLT Examples</a>\\r\\n          <a href=\\'/xml/xpath_examples.asp\\' target=\\'_top\\'>XPath Examples</a>\\r\\n          <a href=\\'/xml/schema_example.asp\\' target=\\'_top\\'>XML Schema Examples</a>\\r\\n          <a href=\\'/graphics/svg_examples.asp\\' target=\\'_top\\'>SVG Examples</a>\\r\\n        </div>\\r\\n        <div class=\\'w3-col l3 m6\\'>\\r\\n          <h3>Quizzes</h3>\\r\\n          <a href=\\'/quiztest/quiztest.asp?Qtest=HTML\\' target=\\'_top\\'>HTML Quiz</a>\\r\\n          <a href=\\'/quiztest/quiztest.asp?Qtest=CSS\\' target=\\'_top\\'>CSS Quiz</a>\\r\\n          <a href=\\'/quiztest/quiztest.asp?Qtest=JavaScript\\' target=\\'_top\\'>JavaScript Quiz</a>\\r\\n          <a href=\\'/quiztest/quiztest.asp?Qtest=Bootstrap\\' target=\\'_top\\'>Bootstrap Quiz</a>\\r\\n          <a href=\\'/quiztest/quiztest.asp?Qtest=jQuery\\' target=\\'_top\\'>jQuery Quiz</a>\\r\\n          <a href=\\'/quiztest/quiztest.asp?Qtest=PHP\\' target=\\'_top\\'>PHP Quiz</a>\\r\\n          <a href=\"/quiztest/quiztest.asp?Qtest=SQL\" target=\"_top\">SQL Quiz</a>\\r\\n          <a href=\\'/quiztest/quiztest.asp?Qtest=XML\\' target=\\'_top\\'>XML Quiz</a>\\r\\n        </div>\\r\\n      </div>\\r\\n      <br>\\r\\n    </div>\\r\\n  </div>\\r\\n</div>\\r\\n\\r\\n<div class=\\'w3-sidenav w3-collapse w3-slim\\' id=\\'sidenav\\'>\\r\\n  <div id=\\'leftmenuinner\\'>\\r\\n    <div class=\\'w3-light-grey\\' id=\\'leftmenuinnerinner\\'>\\r\\n      <a href=\\'javascript:void(0)\\' onclick=\\'close_menu()\\' class=\\'w3-closebtn w3-hide-large w3-large\\' style=\\'padding:3px 12px;\\'>&times;</a>\\r\\n<h2 class=\"left\"><span class=\"left_h2\">HTML5</span> Tutorial</h2>\\r\\n<a target=\"_top\" href=\"default.asp\">HTML HOME</a>\\r\\n<a target=\"_top\" href=\"html_intro.asp\">HTML Introduction</a>\\r\\n<a target=\"_top\" href=\"html_editors.asp\">HTML Editors</a>\\r\\n<a target=\"_top\" href=\"html_basic.asp\">HTML Basic</a>\\r\\n<a target=\"_top\" href=\"html_elements.asp\">HTML Elements</a>\\r\\n<a target=\"_top\" href=\"html_attributes.asp\">HTML Attributes</a>\\r\\n<a target=\"_top\" href=\"html_headings.asp\">HTML Headings</a>\\r\\n<a target=\"_top\" href=\"html_paragraphs.asp\">HTML Paragraphs</a>\\r\\n<a target=\"_top\" href=\"html_styles.asp\">HTML Styles</a>\\r\\n<a target=\"_top\" href=\"html_formatting.asp\">HTML Formatting</a>\\r\\n<a target=\"_top\" href=\"html_quotation_elements.asp\">HTML Quotations</a>\\r\\n<a target=\"_top\" href=\"html_computercode_elements.asp\">HTML Computercode</a>\\r\\n<a target=\"_top\" href=\"html_comments.asp\">HTML Comments</a>\\r\\n<a target=\"_top\" href=\"html_colors.asp\">HTML Colors</a>\\r\\n<a target=\"_top\" href=\"html_css.asp\">HTML CSS</a>\\r\\n<a target=\"_top\" href=\"html_links.asp\">HTML Links</a>\\r\\n<a target=\"_top\" href=\"html_images.asp\">HTML Images</a>\\r\\n<a target=\"_top\" href=\"html_tables.asp\">HTML Tables</a>\\r\\n<a target=\"_top\" href=\"html_lists.asp\">HTML Lists</a>\\r\\n<a target=\"_top\" href=\"html_blocks.asp\">HTML Blocks</a>\\r\\n<a target=\"_top\" href=\"html_classes.asp\">HTML Classes</a>\\r\\n<a target=\"_top\" href=\"html_iframe.asp\">HTML Iframes</a>\\r\\n<a target=\"_top\" href=\"html_scripts.asp\">HTML JavaScript</a>\\r\\n<a target=\"_top\" href=\"html_filepaths.asp\">HTML File Paths</a>\\r\\n<a target=\"_top\" href=\"html_head.asp\">HTML Head</a>\\r\\n<a target=\"_top\" href=\"html_layout.asp\">HTML Layout</a>\\r\\n<a target=\"_top\" href=\"html_responsive.asp\">HTML Responsive</a>\\r\\n<a target=\"_top\" href=\"html_entities.asp\">HTML Entities</a>\\r\\n<a target=\"_top\" href=\"html_symbols.asp\">HTML Symbols</a>\\r\\n<a target=\"_top\" href=\"html_charset.asp\">HTML Charset</a>\\r\\n<a target=\"_top\" href=\"html_urlencode.asp\">HTML URL Encode</a>\\r\\n<a target=\"_top\" href=\"html_xhtml.asp\">HTML XHTML</a>\\r\\n<br>\\r\\n<h2 class=\"left\"><span class=\"left_h2\">HTML</span> Forms</h2>\\r\\n<a target=\"_top\" href=\"html_forms.asp\">HTML Forms</a>\\r\\n<a target=\"_top\" href=\"html_form_elements.asp\">HTML Form Elements</a>\\r\\n<a target=\"_top\" href=\"html_form_input_types.asp\">HTML Input Types</a>\\r\\n<a target=\"_top\" href=\"html_form_attributes.asp\">HTML Input Attributes</a>\\r\\n<br>\\r\\n<h2 class=\"left\"><span class=\"left_h2\">HTML5</span></h2>\\r\\n<a target=\"_top\" href=\"html5_intro.asp\">HTML5 Intro</a>\\r\\n<a target=\"_top\" href=\"html5_browsers.asp\">HTML5 Support</a>\\r\\n<a target=\"_top\" href=\"html5_new_elements.asp\">HTML5 Elements</a>\\r\\n<a target=\"_top\" href=\"html5_semantic_elements.asp\">HTML5 Semantics</a>\\r\\n<a target=\"_top\" href=\"html5_migration.asp\">HTML5 Migration</a>\\r\\n<a target=\"_top\" href=\"html5_syntax.asp\">HTML5 Style Guide</a>\\r\\n<br>\\r\\n<h2 class=\"left\"><span class=\"left_h2\">HTML</span> Graphics</h2>\\r\\n<a target=\"_top\" href=\"html5_canvas.asp\">HTML Canvas</a>\\r\\n<a target=\"_top\" href=\"html5_svg.asp\">HTML SVG</a>\\r\\n<a target=\"_top\" href=\"html_googlemaps.asp\">HTML Google Maps</a>\\r\\n<br>\\r\\n<h2 class=\"left\"><span class=\"left_h2\">HTML</span> Media</h2>\\r\\n<a target=\"_top\" href=\"html_media.asp\">HTML Media</a>\\r\\n<a target=\"_top\" href=\"html5_video.asp\">HTML Video</a>\\r\\n<a target=\"_top\" href=\"html5_audio.asp\">HTML Audio</a>\\r\\n<a target=\"_top\" href=\"html_object.asp\">HTML Plug-ins</a>\\r\\n<a target=\"_top\" href=\"html_youtube.asp\">HTML YouTube</a>\\r\\n<br>\\r\\n<h2 class=\"left\"><span class=\"left_h2\">HTML</span> APIs</h2>\\r\\n<a target=\"_top\" href=\"html5_geolocation.asp\">HTML Geolocation</a>\\r\\n<a target=\"_top\" href=\"html5_draganddrop.asp\">HTML Drag/Drop</a>\\r\\n<a target=\"_top\" href=\"html5_webstorage.asp\">HTML Local Storage</a>\\r\\n<a target=\"_top\" href=\"html5_app_cache.asp\">HTML App Cache</a>\\r\\n<a target=\"_top\" href=\"html5_webworkers.asp\">HTML Web Workers</a>\\r\\n<a target=\"_top\" href=\"html5_serversentevents.asp\">HTML SSE</a>\\r\\n<br>\\r\\n<h2 class=\"left\"><span class=\"left_h2\">HTML</span> Examples</h2>\\r\\n<a target=\"_top\" href=\"html_examples.asp\">HTML Examples</a>\\r\\n<a target=\"_top\" href=\"html_quiz.asp\">HTML Quiz</a>\\r\\n<a target=\"_top\" href=\"html_exercises.asp\">HTML Exercises</a>\\r\\n<a target=\"_top\" href=\"html_exam.asp\">HTML Certificate</a>\\r\\n<a target=\"_top\" href=\"html_summary.asp\">HTML Summary</a>\\r\\n<br>\\r\\n<h2 class=\"left\"><span class=\"left_h2\">HTML</span> References</h2>\\r\\n<a target=\"_top\" href=\"/tags/default.asp\">HTML Tag List</a>\\r\\n<a target=\"_top\" href=\"/tags/ref_standardattributes.asp\">HTML Attributes</a>\\r\\n<a target=\"_top\" href=\"/tags/ref_eventattributes.asp\">HTML Events</a>\\r\\n<a target=\"_top\" href=\"/tags/ref_colornames.asp\">HTML Colors</a>\\r\\n<a target=\"_top\" href=\"/tags/ref_canvas.asp\">HTML Canvas</a>\\r\\n<a target=\"_top\" href=\"/tags/ref_av_dom.asp\">HTML Audio/Video</a>\\r\\n<a target=\"_top\" href=\"/tags/ref_html_dtd.asp\">HTML Doctypes</a>\\r\\n<a target=\"_top\" href=\"/tags/ref_charactersets.asp\">HTML Character Sets</a>\\r\\n<a target=\"_top\" href=\"/tags/ref_urlencode.asp\">HTML URL Encode</a>\\r\\n<a target=\"_top\" href=\"/tags/ref_language_codes.asp\">HTML Lang Codes</a>\\r\\n<a target=\"_top\" href=\"/tags/ref_httpmessages.asp\">HTTP Messages</a>\\r\\n<a target=\"_top\" href=\"/tags/ref_httpmethods.asp\">HTTP Methods</a>\\r\\n<a target=\"_top\" href=\"/tags/ref_pxtoemconversion.asp\">PX to EM Converter</a>\\r\\n<a target=\"_top\" href=\"/tags/ref_keyboardshortcuts.asp\">Keyboard Shortcuts</a>\\r\\n      <br><br>\\r\\n    </div>\\r\\n  </div>\\r\\n</div>\\r\\n<div class=\\'w3-main w3-light-grey\\' id=\\'belowtopnav\\' style=\\'margin-left:220px;\\'>\\r\\n  <div class=\\'w3-row w3-white\\'>\\r\\n    <div class=\\'w3-col l10 m12\\' id=\\'main\\'>\\r\\n      <div id=\\'mainLeaderboard\\' style=\\'overflow:hidden;\\'>\\r\\n      <!-- Ezoic - Leaderboard - top_of_page -->\\r\\n      <div id=\"ezoic-pub-ad-placeholder-103\">\\r\\n        <!-- MainLeaderboard-->\\r\\n        <div id=\\'div-gpt-ad-1422003450156-2\\'>\\r\\n          <script type=\\'text/javascript\\'>googletag.cmd.push(function() { googletag.display(\\'div-gpt-ad-1422003450156-2\\'); });</script>\\r\\n        </div>\\r\\n      </div>\\r\\n      <!-- End Ezoic - Leaderboard - top_of_page -->\\r\\n      </div>\\r\\n<h1>HTML <span class=\"color_h1\">Tables</span></h1>\\r\\n<div class=\"w3-clear nextprev\">\\r\\n<a class=\"w3-left w3-btn\" href=\"html_images.asp\">&#10094; Previous</a>\\r\\n<a class=\"w3-right w3-btn\" href=\"html_lists.asp\">Next &#10095;</a>\\r\\n</div>\\r\\n<hr>\\r\\n\\r\\n<div class=\"w3-example\">\\r\\n<h3>HTML Table Example</h3>\\r\\n<div class=\"w3-white w3-padding notranslate\">\\r\\n<table id=\"customers\">\\r\\n  <tr>\\r\\n    <th>Company</th>\\r\\n    <th>Contact</th>\\r\\n    <th>Country</th>\\r\\n  </tr>\\r\\n  <tr>\\r\\n    <td>Alfreds Futterkiste</td>\\r\\n    <td>Maria Anders</td>\\r\\n    <td>Germany</td>\\r\\n  </tr>\\r\\n  <tr>\\r\\n    <td>Centro comercial Moctezuma</td>\\r\\n    <td>Francisco Chang</td>\\r\\n    <td>Mexico</td>\\r\\n  </tr>\\r\\n  <tr>\\r\\n    <td>Ernst Handel</td>\\r\\n    <td>Roland Mendel</td>\\r\\n    <td>Austria</td>\\r\\n  </tr>\\r\\n  <tr>\\r\\n    <td>Island Trading</td>\\r\\n    <td>Helen Bennett</td>\\r\\n    <td>UK</td>\\r\\n  </tr>\\r\\n  <tr>\\r\\n    <td>Laughing Bacchus Winecellars</td>\\r\\n    <td>Yoshi Tannamuri</td>\\r\\n    <td>Canada</td>\\r\\n  </tr>\\r\\n  <tr>\\r\\n    <td>Magazzini Alimentari Riuniti</td>\\r\\n    <td>Giovanni Rovelli</td>\\r\\n    <td>Italy</td>\\r\\n  </tr>\\r\\n</table>\\r\\n</div>\\r\\n<a class=\"w3-btn w3-margin-top w3-margin-bottom\" href=\"tryit.asp?filename=tryhtml_table_intro\" target=\"_blank\">Try it Yourself &raquo;</a>\\r\\n</div>\\r\\n<hr>\\r\\n\\r\\n<h2>Defining an HTML Table</h2>\\r\\n<p>An HTML table is defined with the <strong>&lt;table&gt;</strong> tag.</p>\\r\\n<p>Each table row is defined with the <strong>&lt;tr&gt;</strong> tag. A table header is \\r\\ndefined with the <strong>&lt;th&gt;</strong> tag. By default, table headings are \\r\\nbold and centered. A table data/cell is defined with the\\r\\n<strong>&lt;td&gt;</strong> tag.</p>\\r\\n<div class=\"w3-example\">\\r\\n <h3>Example</h3>\\r\\n<div class=\"w3-code notranslate htmlHigh\">\\r\\n&lt;table style=&quot;width:100%&quot;&gt;<br>&nbsp;\\r\\n&lt;tr&gt;<br>&nbsp;&nbsp;&nbsp; &lt;th&gt;Firstname&lt;/th&gt;<br>\\r\\n&nbsp;&nbsp;&nbsp; &lt;th&gt;Lastname&lt;/th&gt; <br>&nbsp;&nbsp;&nbsp; &lt;th&gt;Age&lt;/th&gt;<br>\\r\\n&nbsp;\\r\\n&lt;/tr&gt;<br>&nbsp;\\r\\n&lt;tr&gt;<br>&nbsp; &nbsp; &lt;td&gt;Jill&lt;/td&gt;<br>\\r\\n&nbsp;&nbsp;&nbsp; &lt;td&gt;Smith&lt;/td&gt; <br>&nbsp;&nbsp;&nbsp; &lt;td&gt;50&lt;/td&gt;<br>\\r\\n&nbsp;\\r\\n&lt;/tr&gt;<br>&nbsp; &lt;tr&gt;<br>&nbsp;&nbsp;&nbsp; &lt;td&gt;Eve&lt;/td&gt;<br>\\r\\n&nbsp;&nbsp;&nbsp; &lt;td&gt;Jackson&lt;/td&gt; <br>&nbsp;&nbsp;&nbsp; &lt;td&gt;94&lt;/td&gt;<br>\\r\\n&nbsp; &lt;/tr&gt;<br>&lt;/table&gt;\\r\\n</div>\\r\\n<a target=\"_blank\" href=\"tryit.asp?filename=tryhtml_table\" class=\"w3-btn w3-margin-bottom\">Try it Yourself &raquo;</a>\\r\\n</div>\\r\\n\\r\\n<div class=\"w3-panel w3-note\">\\r\\n<p><strong>Note:</strong> The &lt;td&gt; elements are the data containers of the table.<br>They can contain \\r\\nall sorts of HTML elements; text, images, lists, other tables, etc.</p>\\r\\n</div>\\r\\n<hr>\\r\\n\\r\\n<h2>HTML Table - Adding a Border</h2>\\r\\n<p>If you do not specify a border for the table, it will be displayed without borders.</p>\\r\\n<p>A border is set using the CSS <strong>border</strong> property:</p>\\r\\n<div class=\"w3-example\">\\r\\n<h3>Example</h3>\\r\\n<div class=\"w3-code notranslate cssHigh\">\\r\\ntable, th, td\\r\\n{<br>\\r\\n&nbsp;&nbsp;&nbsp;\\r\\nborder: 1px solid black;<br>\\r\\n}</div>\\r\\n<a class=\"w3-btn w3-margin-bottom\" href=\"tryit.asp?filename=tryhtml_table_border\" target=\"_blank\">Try it Yourself &raquo;</a>\\r\\n</div>\\r\\n<div class=\"w3-panel w3-note\">\\r\\n<p>Remember to define borders for both the table and the table cells.</p>\\r\\n</div>\\r\\n<hr>\\r\\n\\r\\n<h2>HTML Table - Collapsed Borders</h2>\\r\\n<p>If you want the borders to collapse into one border, add the CSS <strong>border-collapse</strong> \\r\\nproperty:</p>\\r\\n<div class=\"w3-example\">\\r\\n<h3>Example</h3>\\r\\n<div class=\"w3-code notranslate cssHigh\">\\r\\n table, th, td {<br>&nbsp;&nbsp;&nbsp; border: 1px solid black;<br>\\r\\n &nbsp;&nbsp;&nbsp;\\r\\n border-collapse: collapse;<br>}</div>\\r\\n<a class=\"w3-btn w3-margin-bottom\" href=\"tryit.asp?filename=tryhtml_table_collapse\" target=\"_blank\">Try it Yourself &raquo;</a>\\r\\n</div>\\r\\n<hr>\\r\\n\\r\\n<h2>HTML Table - Adding Cell Padding</h2>\\r\\n<p>Cell padding specifies the space between the cell content and its borders.</p>\\r\\n<p>If you do not specify a padding, the table cells will be displayed without padding.</p>\\r\\n<p>To set the padding, use the CSS <strong>padding</strong> property:</p>\\r\\n<div class=\"w3-example\">\\r\\n<h3>Example</h3>\\r\\n<div class=\"w3-code notranslate cssHigh\">\\r\\n th, td {<br>&nbsp;&nbsp;&nbsp; padding: 15px;<br>}</div>\\r\\n<a class=\"w3-btn w3-margin-bottom\" href=\"tryit.asp?filename=tryhtml_table_cellpadding\" target=\"_blank\">Try it Yourself &raquo;</a>\\r\\n\\r\\n</div>\\r\\n<hr>\\r\\n\\r\\n<h2>HTML Table - Left-align Headings</h2>\\r\\n<p>By default, table headings are bold and centered.</p>\\r\\n<p>To left-align the table headings, use the CSS <strong>text-align</strong> property:</p>\\r\\n<div class=\"w3-example\">\\r\\n<h3>Example</h3>\\r\\n<div class=\"w3-code notranslate cssHigh\">\\r\\n th {<br>&nbsp;&nbsp;&nbsp; text-align: left;<br>}\\r\\n</div>\\r\\n<a class=\"w3-btn w3-margin-bottom\" href=\"tryit.asp?filename=tryhtml_table_headings_left\" target=\"_blank\">Try it Yourself &raquo;</a>\\r\\n</div>\\r\\n<hr>\\r\\n\\r\\n<h2>HTML Table - Adding Border Spacing</h2>\\r\\n<p>Border spacing specifies the space between the cells.</p>\\r\\n<p>To set the border spacing for a table, use the CSS <strong>border-spacing</strong> property:</p>\\r\\n<div class=\"w3-example\">\\r\\n<h3>Example</h3>\\r\\n<div class=\"w3-code notranslate cssHigh\">\\r\\n table {<br>&nbsp;&nbsp;&nbsp; border-spacing: 5px;<br>}</div>\\r\\n<a class=\"w3-btn w3-margin-bottom\" href=\"tryit.asp?filename=tryhtml_table_cellspacing\" target=\"_blank\">Try it Yourself &raquo;</a>\\r\\n</div>\\r\\n\\r\\n<div class=\"w3-panel w3-note\">\\r\\n<p><strong>Note:</strong> If the table has collapsed borders, border-spacing has no effect.</p>\\r\\n</div>\\r\\n<hr>\\r\\n\\r\\n<h2>HTML Table - Cells that Span Many Columns</h2>\\r\\n<p>To make a cell span more than one column, use the <strong>colspan</strong> attribute:</p>\\r\\n<div class=\"w3-example\">\\r\\n<h3>Example</h3>\\r\\n<div class=\"w3-code notranslate htmlHigh\">\\r\\n&lt;table style=&quot;width:100%&quot;&gt;<br>&nbsp; &lt;tr&gt;<br>\\r\\n&nbsp;&nbsp;&nbsp; &lt;th&gt;Name&lt;/th&gt;<br>\\r\\n&nbsp;&nbsp;&nbsp; \\r\\n&lt;th colspan=&quot;2&quot;&gt;Telephone&lt;/th&gt;<br>&nbsp; &lt;/tr&gt;<br>\\r\\n&nbsp; &lt;tr&gt;<br>&nbsp;&nbsp;&nbsp; \\r\\n&lt;td&gt;Bill Gates&lt;/td&gt;<br>&nbsp;&nbsp;&nbsp; &lt;td&gt;55577854&lt;/td&gt;<br>&nbsp;&nbsp;&nbsp; \\r\\n&lt;td&gt;55577855&lt;/td&gt;<br>&nbsp; &lt;/tr&gt;<br>&lt;/table&gt;</div>\\r\\n<a class=\"w3-btn w3-margin-bottom\" href=\"tryit.asp?filename=tryhtml_table_colspan\" target=\"_blank\">Try it Yourself &raquo;</a>\\r\\n</div>\\r\\n<hr>\\r\\n\\r\\n<h2>HTML Table - Cells that Span Many Rows</h2>\\r\\n<p>To make a cell span more than one row, use the <strong>rowspan</strong> attribute:</p>\\r\\n<div class=\"w3-example\">\\r\\n<h3>Example</h3>\\r\\n<div class=\"w3-code notranslate htmlHigh\">\\r\\n&lt;table style=&quot;width:100%&quot;&gt;<br>&nbsp; &lt;tr&gt;<br>&nbsp;&nbsp;&nbsp; &lt;th&gt;Name:&lt;/th&gt;<br>&nbsp;&nbsp;&nbsp; &lt;td&gt;Bill Gates&lt;/td&gt;<br>&nbsp; &lt;/tr&gt;<br>&nbsp; \\r\\n&lt;tr&gt;<br>&nbsp;&nbsp;&nbsp; &lt;th rowspan=&quot;2&quot;&gt;Telephone:&lt;/th&gt;<br>&nbsp;&nbsp;&nbsp; \\r\\n&lt;td&gt;55577854&lt;/td&gt;<br>&nbsp; &lt;/tr&gt;<br>&nbsp; &lt;tr&gt;<br>&nbsp;&nbsp;&nbsp; \\r\\n&lt;td&gt;55577855&lt;/td&gt;<br>&nbsp; &lt;/tr&gt;<br>&lt;/table&gt;</div>\\r\\n<a class=\"w3-btn w3-margin-bottom\" href=\"tryit.asp?filename=tryhtml_table_rowspan\" target=\"_blank\">Try it Yourself &raquo;</a>\\r\\n</div>\\r\\n<hr>\\r\\n\\r\\n<h2>HTML Table - Adding a Caption</h2>\\r\\n<p>To add a caption to a table, use the <strong>&lt;caption&gt;</strong> tag:</p>\\r\\n<div class=\"w3-example\">\\r\\n<h3>Example</h3>\\r\\n<div class=\"w3-code notranslate htmlHigh\">\\r\\n &lt;table style=&quot;width:100%&quot;&gt;<br>&nbsp; &lt;caption&gt;Monthly savings&lt;/caption&gt;<br>&nbsp; &lt;tr&gt;<br>&nbsp;&nbsp;&nbsp; &lt;th&gt;Month&lt;/th&gt;<br>&nbsp;&nbsp;&nbsp; &lt;th&gt;Savings&lt;/th&gt;<br>&nbsp; &lt;/tr&gt;<br>&nbsp; &lt;tr&gt;<br>&nbsp;&nbsp;&nbsp; &lt;td&gt;January&lt;/td&gt;<br>&nbsp;&nbsp;&nbsp; &lt;td&gt;$100&lt;/td&gt;<br>&nbsp; &lt;/tr&gt;<br>&nbsp; &lt;tr&gt;<br>&nbsp;&nbsp;&nbsp; &lt;td&gt;February&lt;/td&gt;<br>&nbsp;&nbsp;&nbsp; &lt;td&gt;$50&lt;/td&gt;<br>&nbsp; &lt;/tr&gt;<br>\\r\\n &lt;/table&gt;</div>\\r\\n<a class=\"w3-btn w3-margin-bottom\" href=\"tryit.asp?filename=tryhtml_tables2\" target=\"_blank\">Try it Yourself &raquo;</a>\\r\\n</div>\\r\\n\\r\\n<div class=\"w3-panel w3-note\">\\r\\n<p><strong>Note:</strong> The &lt;caption&gt; tag must be inserted immediately after the &lt;table&gt; tag.</p>\\r\\n</div>\\r\\n<hr>\\r\\n\\r\\n<h2>A Special Style for One Table</h2>\\r\\n<p>To define a special style for a special table, add an <strong>id</strong> \\r\\nattribute to the table:</p>\\r\\n<div class=\"w3-example\">\\r\\n<h3>Example</h3>\\r\\n<div class=\"w3-code notranslate htmlHigh\">\\r\\n&lt;table id=&quot;t01&quot;&gt;<br>\\r\\n&nbsp; &lt;tr&gt;<br>&nbsp;&nbsp;&nbsp; &lt;th&gt;Firstname&lt;/th&gt;<br>\\r\\n&nbsp;&nbsp;&nbsp; &lt;th&gt;Lastname&lt;/th&gt; <br>&nbsp;&nbsp;&nbsp; &lt;th&gt;Age&lt;/th&gt;<br>\\r\\n&nbsp; &lt;/tr&gt;<br>&nbsp; &lt;tr&gt;<br>&nbsp;&nbsp;&nbsp; &lt;td&gt;Eve&lt;/td&gt;<br>\\r\\n&nbsp;&nbsp;&nbsp; &lt;td&gt;Jackson&lt;/td&gt; <br>&nbsp;&nbsp;&nbsp; &lt;td&gt;94&lt;/td&gt;<br>\\r\\n&nbsp; &lt;/tr&gt;<br>&lt;/table&gt;\\r\\n</div>\\r\\n</div>\\r\\n\\r\\n<div class=\"w3-example\">\\r\\n<h3>Now you can define a special style for this table:</h3>\\r\\n<div class=\"w3-code notranslate cssHigh\">\\r\\ntable#t01 {<br>&nbsp;&nbsp;&nbsp; width: 100%; <br>\\r\\n&nbsp;&nbsp;&nbsp; background-color: #f1f1c1;<br>}\\r\\n</div>\\r\\n<a class=\"w3-btn w3-margin-bottom\" href=\"tryit.asp?filename=tryhtml_table_id1\" target=\"_blank\">Try it Yourself &raquo;</a>\\r\\n</div>\\r\\n\\r\\n<div class=\"w3-example\">\\r\\n<h3>And add more styles:</h3>\\r\\n<div class=\"w3-code notranslate cssHigh\">\\r\\ntable#t01 tr:nth-child(even) {<br>\\r\\n&nbsp;&nbsp;&nbsp; background-color: #eee;<br>}<br>\\r\\ntable#t01 tr:nth-child(odd) {<br>\\r\\n&nbsp;&nbsp;&nbsp; background-color: #fff;<br>}<br>\\r\\ntable#t01 th {<br>&nbsp;&nbsp;&nbsp; \\r\\ncolor: white;<br>&nbsp;&nbsp;&nbsp; background-color: black;<br>}\\r\\n</div>\\r\\n<a class=\"w3-btn w3-margin-bottom\" href=\"tryit.asp?filename=tryhtml_table_id2\" target=\"_blank\">Try it Yourself &raquo;</a>\\r\\n</div>\\r\\n<hr>\\r\\n\\r\\n<h2>Chapter Summary</h2>\\r\\n<ul>\\r\\n<li>Use the HTML <strong>&lt;table&gt;</strong> element to define a table</li>\\r\\n  <li>Use the HTML <strong>&lt;tr&gt;</strong> element to define a table row</li>\\r\\n  <li>Use the HTML <strong>&lt;td&gt;</strong> element to define a table data</li>\\r\\n  <li>Use the HTML <strong>&lt;th&gt;</strong> element to define a table heading</li>\\r\\n  <li>Use the HTML <strong>&lt;caption&gt;</strong> element to define a table caption</li>\\r\\n  <li>Use the CSS <strong>border</strong> property to define a border</li>\\r\\n  <li>Use the CSS <strong>border-collapse</strong> property to collapse cell borders</li>\\r\\n  <li>Use the CSS <strong>padding</strong> property to add padding to cells</li>\\r\\n  <li>Use the CSS <strong>text-align</strong> property to align cell text</li>\\r\\n  <li>Use the CSS <strong>border-spacing</strong> property to set the spacing between cells</li>\\r\\n  <li>Use the <strong>colspan</strong> attribute to make a cell span many columns</li>\\r\\n  <li>Use the <strong>rowspan</strong> attribute to make a cell span many rows</li>\\r\\n  <li>Use the <strong>id</strong> attribute to uniquely define one table</li>\\r\\n</ul>\\r\\n<hr>\\r\\n\\r\\n<h2>Test Yourself with Exercises!</h2>\\r\\n<p>\\r\\n<a class=\"w3-btn\" href=\"exercise.asp?filename=exercise_tables1\" target=\"_blank\">Exercise 1 &raquo;</a>&nbsp;\\r\\n<a class=\"w3-btn\" href=\"exercise.asp?filename=exercise_tables2\" target=\"_blank\">Exercise 2 &raquo;</a>&nbsp;\\r\\n<a class=\"w3-btn\" href=\"exercise.asp?filename=exercise_tables3\" target=\"_blank\">Exercise 3 &raquo;</a>&nbsp;\\r\\n<a class=\"w3-btn\" href=\"exercise.asp?filename=exercise_tables4\" target=\"_blank\">Exercise 4 &raquo;</a>&nbsp;\\r\\n<a class=\"w3-btn\" href=\"exercise.asp?filename=exercise_tables5\" target=\"_blank\">Exercise 5 &raquo;</a>&nbsp;\\r\\n<a class=\"w3-btn\" href=\"exercise.asp?filename=exercise_tables6\" target=\"_blank\">Exercise 6 &raquo;</a>\\r\\n</p>\\r\\n<hr>\\r\\n\\r\\n<h2>HTML Table Tags</h2>\\r\\n<table class=\"w3-table-all notranslate\">\\r\\n<tr>\\r\\n<th>Tag</th>\\r\\n<th>Description</th>\\r\\n</tr>\\r\\n<tr>\\r\\n<td><a href=\"/tags/tag_table.asp\">&lt;table&gt;</a></td>\\r\\n<td>Defines a table</td>\\r\\n</tr>\\r\\n<tr>\\r\\n<td><a href=\"/tags/tag_th.asp\">&lt;th&gt;</a></td>\\r\\n<td>Defines a header cell in a table</td>\\r\\n</tr>\\r\\n<tr>\\r\\n<td><a href=\"/tags/tag_tr.asp\">&lt;tr&gt;</a></td>\\r\\n<td>Defines a row in a table</td>\\r\\n</tr>\\r\\n<tr>\\r\\n<td><a href=\"/tags/tag_td.asp\">&lt;td&gt;</a></td>\\r\\n<td>Defines a cell in a table</td>\\r\\n</tr>\\r\\n<tr>\\r\\n<td><a href=\"/tags/tag_caption.asp\">&lt;caption&gt;</a></td>\\r\\n<td>Defines a table caption</td>\\r\\n</tr>\\r\\n<tr>\\r\\n<td><a href=\"/tags/tag_colgroup.asp\">&lt;colgroup&gt;</a></td>\\r\\n<td>Specifies a group of one or more columns in a table for formatting</td>\\r\\n</tr>\\r\\n<tr>\\r\\n<td><a href=\"/tags/tag_col.asp\">&lt;col&gt;</a></td>\\r\\n<td>Specifies column properties for each column within a &lt;colgroup&gt; element</td>\\r\\n</tr>\\r\\n<tr>\\r\\n<td><a href=\"/tags/tag_thead.asp\">&lt;thead&gt;</a></td>\\r\\n<td>Groups the header content in a table</td>\\r\\n</tr>\\r\\n<tr>\\r\\n<td><a href=\"/tags/tag_tbody.asp\">&lt;tbody&gt;</a></td>\\r\\n<td>Groups the body content in a table</td>\\r\\n</tr>\\r\\n<tr>\\r\\n<td><a href=\"/tags/tag_tfoot.asp\">&lt;tfoot&gt;</a></td>\\r\\n<td>Groups the footer content in a table</td>\\r\\n</tr>\\r\\n</table>\\r\\n\\r\\n<br>\\r\\n<div class=\"w3-clear nextprev\">\\r\\n<a class=\"w3-left w3-btn\" href=\"html_images.asp\">&#10094; Previous</a>\\r\\n<a class=\"w3-right w3-btn\" href=\"html_lists.asp\">Next &#10095;</a>\\r\\n</div>\\r\\n</div>\\r\\n<div class=\"w3-col l2 m12\" id=\"right\">\\r\\n\\r\\n<div class=\"sidesection\">\\r\\n<div id=\"skyscraper\">\\r\\n<!-- Ezoic - WideSkyScraper - sidebar -->\\r\\n<div id=\"ezoic-pub-ad-placeholder-104\">\\r\\n  <div id=\"div-gpt-ad-1422003450156-5\">\\r\\n  <script>\\r\\n   googletag.cmd.push(function() {\\r\\n   googletag.display(\\'div-gpt-ad-1422003450156-5\\');\\r\\n   });\\r\\n  </script> \\r\\n  </div>\\r\\n</div>\\r\\n<!-- End Ezoic - WideSkyScraper - sidebar -->\\r\\n</div>\\r\\n</div>\\r\\n\\r\\n<div class=\"sidesection\">\\r\\n<h4><a href=\"/colors/colors_picker.asp\">COLOR PICKER</a></h4>\\r\\n<a href=\"/colors/colors_picker.asp\">\\r\\n<img src=\"/images/colorpicker.gif\" alt=\"colorpicker\"></a>\\r\\n</div>\\r\\n\\r\\n<div class=\"sidesection\">\\r\\n<h4><a href=\"/howto/default.asp\">LEARN MORE</a></h4>\\r\\n<p>\\r\\n<a href=\"/howto/howto_js_tabs.asp\">Tabs</a><br>\\r\\n<a href=\"/howto/howto_css_dropdown.asp\">Dropdowns</a><br>\\r\\n<a href=\"/howto/howto_js_accordion.asp\">Accordions</a><br>\\r\\n<a href=\"/howto/howto_js_weight_converter.asp\">Convert Weights</a><br>\\r\\n<a href=\"/howto/howto_css_animate_buttons.asp\">Animated Buttons</a><br>\\r\\n<a href=\"/howto/howto_js_sidenav.asp\">Side Navigation</a><br>\\r\\n<a href=\"/howto/howto_js_topnav.asp\">Top Navigation</a><br>\\r\\n<a href=\"/howto/howto_js_animate.asp\">JS Animations</a><br>\\r\\n<a href=\"/howto/howto_css_modals.asp\">Modal Boxes</a><br>\\r\\n<a href=\"/howto/howto_js_progressbar.asp\">Progress Bars</a><br>\\r\\n<a href=\"/howto/howto_css_login_form.asp\">Login Form</a><br>\\r\\n<a href=\"/howto/howto_html_include.asp\">HTML Includes</a><br>\\r\\n<a href=\"/howto/howto_google_maps.asp\">Google Maps</a><br>\\r\\n<a href=\"/howto/howto_css_loader.asp\">Loaders</a><br>\\r\\n<a href=\"/howto/howto_css_tooltip.asp\">Tooltips</a><br>\\r\\n<a href=\"/howto/howto_js_slideshow.asp\">Slideshow</a><br>\\r\\n<a href=\"/howto/howto_js_filter_lists.asp\">Filter List</a><br>\\r\\n<a href=\"/howto/howto_js_sort_list.asp\">Sort List</a><br>\\r\\n</p>\\r\\n</div>\\r\\n\\r\\n<div class=\"sidesection\">\\r\\n<h4>SHARE</h4>\\r\\n<div class=\"w3-text-grey sharethis\">\\r\\n<script>\\r\\n<!--\\r\\ntry{\\r\\nloc=location.pathname;\\r\\nif (loc.toUpperCase().indexOf(\".ASP\")<0) loc=loc+\"default.asp\";\\r\\ntxt=\\'<a href=\"http://www.facebook.com/sharer.php?u=http://www.w3schools.com\\'+loc+\\'\" target=\"_blank\" title=\"Facebook\"><span class=\"fa fa-facebook-square fa-2x\"></span></a>\\';\\r\\ntxt=txt+\\'<a href=\"https://twitter.com/home?status=Currently reading http://www.w3schools.com\\'+loc+\\'\" target=\"_blank\" title=\"Twitter\"><span class=\"fa fa-twitter-square fa-2x\"></span></a>\\';\\r\\ntxt=txt+\\'<a href=\"https://plus.google.com/share?url=http://www.w3schools.com\\'+loc+\\'\" target=\"_blank\" title=\"Google+\"><span class=\"fa fa-google-plus-square fa-2x\"></span></a>\\';\\r\\ndocument.write(txt);\\r\\n} catch(e) {}\\r\\n//-->\\r\\n</script>\\r\\n<br><br>\\r\\n<a href=\"javascript:void(0);\" onclick=\"clickFBLike()\" title=\"Like W3Schools on Facebook\">\\r\\n<span class=\"fa fa-thumbs-o-up fa-2x\"></span></a>\\r\\n<div id=\"fblikeframe\" class=\"w3-modal\">\\r\\n<div class=\"w3-modal-content w3-padding-64 w3-animate-zoom\" id=\"popupDIV\"></div>\\r\\n</div>\\r\\n</div>\\r\\n</div>\\r\\n\\r\\n<div class=\"sidesection\">\\r\\n<h4><a target=\"_blank\" href=\"//www.w3schools.com/cert/default.asp\">CERTIFICATES</a></h4>\\r\\n<p>HTML, CSS, JavaScript, PHP, jQuery, Bootstrap and XML.</p>\\r\\n<a target=\"_blank\" href=\"//www.w3schools.com/cert/default.asp\" class=\"w3-btn w3-dark-grey\">\\r\\nRead More &raquo;</a>\\r\\n</div>\\r\\n<!-- Ezoic - MiddleNativeVertical - native_side_mid -->\\r\\n<div id=\"ezoic-pub-ad-placeholder-112\"></div>\\r\\n<!-- End Ezoic - MiddleNativeVertical - native_side_mid -->\\r\\n<div id=\"stickypos\" class=\"sidesection\" style=\"text-align:center;\">\\r\\n<div id=\"stickyadcontainer\">\\r\\n<div style=\"position:relative;margin:auto;\">\\r\\n<!-- Ezoic - StickySkyScraper - sidebar -->\\r\\n<div id=\"ezoic-pub-ad-placeholder-105\">\\r\\n  <div id=\\'div-gpt-ad-1472547360578-0\\'>\\r\\n  <script>\\r\\n    if (Number(w3_getStyleValue(document.getElementById(\"main\"), \"height\").replace(\"px\", \"\")) > 2200) {\\r\\n      googletag.cmd.push(function() { googletag.display(\\'div-gpt-ad-1472547360578-0\\'); });\\r\\n    }\\r\\n  </script>\\r\\n  </div>\\r\\n</div>\\r\\n<!-- End Ezoic - StickySkyScraper - sidebar -->\\r\\n<script>\\r\\n  window.addEventListener(\"scroll\", fix_stickyad);\\r\\n  window.addEventListener(\"resize\", fix_stickyad);\\r\\n</script>\\r\\n</div>\\r\\n</div>\\r\\n</div>\\r\\n\\r\\n</div>\\r\\n</div>\\r\\n<div id=\"footer\" class=\"footer w3-container w3-white\">\\r\\n\\r\\n<hr>\\r\\n<div style=\"overflow:auto\">\\r\\n<!-- BottomMediumRectangle -->\\r\\n<!-- Ezoic - BottomMediumRectangle - bottom_of_page -->\\r\\n<div id=\"ezoic-pub-ad-placeholder-106\">\\r\\n<div class=\"bottomad\" id=\\'div-gpt-ad-1422003450156-0\\'>\\r\\n<script type=\\'text/javascript\\'>\\r\\ngoogletag.cmd.push(function() { googletag.display(\\'div-gpt-ad-1422003450156-0\\'); });\\r\\n</script>\\r\\n</div>\\r\\n</div>\\r\\n<!-- End Ezoic - BottomMediumRectangle - bottom_of_page -->\\r\\n<!-- RightBottomMediumRectangle -->\\r\\n<!-- Ezoic - RightBottomMediumRectangle - bottom_of_page -->\\r\\n<div id=\"ezoic-pub-ad-placeholder-107\">\\r\\n<div class=\"bottomad\" id=\\'div-gpt-ad-1422003450156-3\\'>\\r\\n<script type=\\'text/javascript\\'>\\r\\ngoogletag.cmd.push(function() { googletag.display(\\'div-gpt-ad-1422003450156-3\\'); });\\r\\n</script>\\r\\n</div>\\r\\n</div>\\r\\n<!-- End Ezoic - RightBottomMediumRectangle - bottom_of_page -->\\r\\n</div>\\r\\n<!-- Ezoic - BottomNativeAd - native_bottom -->\\r\\n<div id=\"ezoic-pub-ad-placeholder-110\"></div>\\r\\n<!-- End Ezoic - BottomNativeAd - native_bottom -->\\r\\n<hr>\\r\\n<div class=\"w3-row w3-center w3-small\">\\r\\n<div class=\"w3-col l3 m3 s12\">\\r\\n<a href=\"javascript:void(0);\" onclick=\"displayError();return false\" style=\"white-space:nowrap;\">REPORT ERROR</a>\\r\\n</div>\\r\\n<div class=\"w3-col l3 m3 s12\">\\r\\n<a href=\"javascript:void(0);\" target=\"_blank\" onclick=\"printPage();return false;\">PRINT PAGE</a>\\r\\n</div>\\r\\n<div class=\"w3-col l3 m3 s12\">\\r\\n<a href=\"/forum/default.asp\" target=\"_blank\">FORUM</a>\\r\\n</div>\\r\\n<div class=\"w3-col l3 m3 s12\">\\r\\n<a href=\"/about/default.asp\" target=\"_top\">ABOUT</a>\\r\\n</div>\\r\\n</div>\\r\\n<hr>\\r\\n<div class=\"w3-light-grey w3-padding w3-center\" id=\"err_form\" style=\"display:none;\">\\r\\n<span onclick=\"this.parentElement.style.display=\\'none\\'\" class=\"w3-closebtn\">&times;</span>     \\r\\n<h2>Your Suggestion:</h2>\\r\\n<form>\\r\\n<div class=\"w3-group\">      \\r\\n<label for=\"err_email\">Your E-mail:</label>\\r\\n<input class=\"w3-input\" type=\"text\" style=\"width:100%\" id=\"err_email\" name=\"err_email\">\\r\\n</div>\\r\\n<div class=\"w3-group\">      \\r\\n<label for=\"err_email\">Page address:</label>\\r\\n<input class=\"w3-input\" type=\"text\" style=\"width:100%\" id=\"err_url\" name=\"err_url\" disabled=\"disabled\">\\r\\n</div>\\r\\n<div class=\"w3-group\">\\r\\n<label for=\"err_email\">Description:</label>\\r\\n<textarea rows=\"10\" class=\"w3-input\" id=\"err_desc\" name=\"err_desc\" style=\"width:100%;\"></textarea>\\r\\n</div>\\r\\n<div class=\"form-group\">        \\r\\n<button type=\"button\" onclick=\"sendErr()\">Submit</button>\\r\\n</div>\\r\\n<br>\\r\\n</form>\\r\\n</div>\\r\\n<div class=\"w3-container w3-light-grey w3-padding\" id=\"err_sent\" style=\"display:none;\">\\r\\n<span onclick=\"this.parentElement.style.display=\\'none\\'\" class=\"w3-closebtn\">&times;</span>     \\r\\n<h2>Thank You For Helping Us!</h2>\\r\\n<p>Your message has been sent to W3Schools.</p>\\r\\n</div>\\r\\n\\r\\n<div class=\"w3-row w3-center w3-small\">\\r\\n<div class=\"w3-col l3 m6 s12\">\\r\\n<div class=\"top10\">\\r\\n<h4>Top 10 Tutorials</h4>\\r\\n<a href=\"/html/default.asp\">HTML Tutorial</a><br>\\r\\n<a href=\"/css/default.asp\">CSS Tutorial</a><br>\\r\\n<a href=\"/js/default.asp\">JavaScript Tutorial</a><br>\\r\\n<a href=\"/w3css/default.asp\">W3.CSS Tutorial</a><br>\\r\\n<a href=\"/bootstrap/default.asp\">Bootstrap Tutorial</a><br>\\r\\n<a href=\"/sql/default.asp\">SQL Tutorial</a><br>\\r\\n<a href=\"/php/default.asp\">PHP Tutorial</a><br>\\r\\n<a href=\"/jquery/default.asp\">jQuery Tutorial</a><br>\\r\\n<a href=\"/angular/default.asp\">Angular Tutorial</a><br>\\r\\n<a href=\"/xml/default.asp\">XML Tutorial</a><br>\\r\\n</div>\\r\\n</div>\\r\\n<div class=\"w3-col l3 m6 s12\">\\r\\n<div class=\"top10\">\\r\\n<h4>Top 10 References</h4>\\r\\n<a href=\"/tags/default.asp\">HTML Reference</a><br>\\r\\n<a href=\"/cssref/default.asp\">CSS Reference</a><br>\\r\\n<a href=\"/jsref/default.asp\">JavaScript Reference</a><br>\\r\\n<a href=\"/w3css/w3css_references.asp\">W3.CSS Reference</a><br>\\r\\n<a href=\"/browsers/default.asp\">Browser Statistics</a><br>\\r\\n<a href=\"/php/php_ref_array.asp\">PHP Reference</a><br>\\r\\n<a href=\"/colors/colors_names.asp\">HTML Colors</a><br>\\r\\n<a href=\"/charsets/default.asp\">HTML Character Sets</a><br>\\r\\n<a href=\"/jquery/jquery_ref_selectors.asp\">jQuery Reference</a><br>\\r\\n<a href=\"/angular/angular_ref_directives.asp\">AngularJS Reference</a><br>\\r\\n</div>\\r\\n</div>\\r\\n<div class=\"w3-col l3 m6 s12\">\\r\\n<div class=\"top10\">\\r\\n<h4>Top 10 Examples</h4>\\r\\n<a href=\"/html/html_examples.asp\">HTML Examples</a><br>\\r\\n<a href=\"/css/css_examples.asp\">CSS Examples</a><br>\\r\\n<a href=\"/js/js_examples.asp\">JavaScript Examples</a><br>\\r\\n<a href=\"/w3css/w3css_examples.asp\">W3.CSS Examples</a><br>\\r\\n<a href=\"/js/js_dom_examples.asp\">HTML DOM Examples</a><br>\\r\\n<a href=\"/php/php_examples.asp\">PHP Examples</a><br>\\r\\n<a href=\"/asp/asp_examples.asp\">ASP Examples</a><br>\\r\\n<a href=\"/jquery/jquery_examples.asp\">jQuery Examples</a><br>\\r\\n<a href=\"/angular/angular_examples.asp\">Angular Examples</a><br>\\r\\n<a href=\"/xml/xml_examples.asp\">XML Examples</a><br>\\r\\n</div>\\r\\n</div>\\r\\n<div class=\"w3-col l3 m6 s12\">\\r\\n<div class=\"top10\">\\r\\n<h4>Web Certificates</h4>\\r\\n<a href=\"/cert/default.asp\">HTML Certificate</a><br>\\r\\n<a href=\"/cert/default.asp\">CSS Certificate</a><br>\\r\\n<a href=\"/cert/default.asp\">JavaScript Certificate</a><br>\\r\\n<a href=\"/cert/default.asp\">jQuery Certificate</a><br>\\r\\n<a href=\"/cert/default.asp\">PHP Certificate</a><br>\\r\\n<a href=\"/cert/default.asp\">Bootstrap Certificate</a><br>\\r\\n<a href=\"/cert/default.asp\">XML Certificate</a><br>\\r\\n</div>\\r\\n</div>        \\r\\n</div>        \\r\\n\\r\\n<hr>\\r\\n<div class=\"w3-center w3-small w3-opacity\">\\r\\nW3Schools is optimized for learning, testing, and training. Examples might be simplified to improve reading and basic understanding.\\r\\nTutorials, references, and examples are constantly reviewed to avoid errors, but we cannot warrant full correctness of all content.\\r\\nWhile using this site, you agree to have read and accepted our <a href=\"/about/about_copyright.asp\">terms of use</a>,\\r\\n<a href=\"/about/about_privacy.asp\">cookie and privacy policy</a>.\\r\\n<a href=\"/about/about_copyright.asp\">Copyright 1999-2017</a> by Refsnes Data. All Rights Reserved.<br>\\r\\n <a href=\"//www.w3schools.com/w3css/\">Powered by W3.CSS</a>.<br><br>\\r\\n<a href=\"//www.w3schools.com\">\\r\\n<img style=\"width:150px;height:28px;border:0\" src=\"/images/w3schoolscom_gray.gif\" alt=\"W3Schools.com\"></a>\\r\\n</div>\\r\\n<br><br>\\r\\n</div>\\r\\n\\r\\n</div>\\r\\n\\r\\n<script src=\"/lib/w3schools_footer.js\"></script>\\r\\n<script src=\"https://translate.google.com/translate_a/element.js?cb=googleTranslateElementInit\"></script>\\r\\n<!--[if lt IE 9]>\\r\\n<script src=\"https://oss.maxcdn.com/libs/html5shiv/3.7.0/html5shiv.js\"></script>\\r\\n<script src=\"https://oss.maxcdn.com/libs/respond.js/1.4.2/respond.min.js\"></script>  \\r\\n<![endif]-->\\r\\n<script type=\\'text/javascript\\' src=\\'//www.w3schools.com/utilcave_com/inc/ezf-min.php?a=a&cb=1&shcb=5\\' style=\\'display:none;\\'></script>\\n</body>\\r\\n</html>\\r\\n'"
      ]
     },
     "execution_count": 34,
     "metadata": {},
     "output_type": "execute_result"
    }
   ],
   "source": [
    "data"
   ]
  },
  {
   "cell_type": "code",
   "execution_count": null,
   "metadata": {
    "collapsed": true
   },
   "outputs": [],
   "source": [
    "import pandas"
   ]
  }
 ],
 "metadata": {
  "anaconda-cloud": {},
  "kernelspec": {
   "display_name": "Python [default]",
   "language": "python",
   "name": "python2"
  },
  "language_info": {
   "codemirror_mode": {
    "name": "ipython",
    "version": 2
   },
   "file_extension": ".py",
   "mimetype": "text/x-python",
   "name": "python",
   "nbconvert_exporter": "python",
   "pygments_lexer": "ipython2",
   "version": "2.7.12"
  }
 },
 "nbformat": 4,
 "nbformat_minor": 1
}
