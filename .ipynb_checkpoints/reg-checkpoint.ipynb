{
 "cells": [
  {
   "cell_type": "code",
   "execution_count": 1,
   "metadata": {
    "collapsed": true
   },
   "outputs": [],
   "source": [
    "data = open('data1.txt').read()"
   ]
  },
  {
   "cell_type": "code",
   "execution_count": 2,
   "metadata": {
    "collapsed": false
   },
   "outputs": [
    {
     "name": "stdout",
     "output_type": "stream",
     "text": [
      "name1,1,2345678967,email1@gamil.com\n",
      "2,name2,email2@yahoo.com,7654324567\n",
      "emai3@outlook.co.in,3,2436758902,name3\n",
      "NAME4,EMAIL4@gmail.com,7659876543,4\n"
     ]
    }
   ],
   "source": [
    "print data"
   ]
  },
  {
   "cell_type": "code",
   "execution_count": 3,
   "metadata": {
    "collapsed": false
   },
   "outputs": [
    {
     "data": {
      "text/plain": [
       "'name1,1,2345678967,email1@gamil.com\\n2,name2,email2@yahoo.com,7654324567\\nemai3@outlook.co.in,3,2436758902,name3\\nNAME4,EMAIL4@gmail.com,7659876543,4'"
      ]
     },
     "execution_count": 3,
     "metadata": {},
     "output_type": "execute_result"
    }
   ],
   "source": [
    "data"
   ]
  },
  {
   "cell_type": "code",
   "execution_count": 4,
   "metadata": {
    "collapsed": true
   },
   "outputs": [],
   "source": [
    "# grep only phone numbers from above data"
   ]
  },
  {
   "cell_type": "code",
   "execution_count": 5,
   "metadata": {
    "collapsed": true
   },
   "outputs": [],
   "source": [
    "import re"
   ]
  },
  {
   "cell_type": "code",
   "execution_count": 6,
   "metadata": {
    "collapsed": false
   },
   "outputs": [
    {
     "data": {
      "text/plain": [
       "['2345678967', '7654324567', '2436758902', '7659876543']"
      ]
     },
     "execution_count": 6,
     "metadata": {},
     "output_type": "execute_result"
    }
   ],
   "source": [
    "re.findall(\"[0-9]{10}\",data)"
   ]
  },
  {
   "cell_type": "code",
   "execution_count": 7,
   "metadata": {
    "collapsed": true
   },
   "outputs": [],
   "source": [
    "# [],{},.*?+$^"
   ]
  },
  {
   "cell_type": "code",
   "execution_count": 8,
   "metadata": {
    "collapsed": false
   },
   "outputs": [
    {
     "data": {
      "text/plain": [
       "['name', 'name', 'name']"
      ]
     },
     "execution_count": 8,
     "metadata": {},
     "output_type": "execute_result"
    }
   ],
   "source": [
    "re.findall(\"name\",data)"
   ]
  },
  {
   "cell_type": "code",
   "execution_count": 9,
   "metadata": {
    "collapsed": false
   },
   "outputs": [
    {
     "data": {
      "text/plain": [
       "['a', 'a', 'a', 'c', 'a', 'a', 'a', 'c', 'a', 'c', 'a', 'a', 'c']"
      ]
     },
     "execution_count": 9,
     "metadata": {},
     "output_type": "execute_result"
    }
   ],
   "source": [
    "re.findall(\"[abcd]\",data)"
   ]
  },
  {
   "cell_type": "code",
   "execution_count": 11,
   "metadata": {
    "collapsed": false
   },
   "outputs": [
    {
     "data": {
      "text/plain": [
       "['me', 'em', 'me', 'em', 'em', 'me']"
      ]
     },
     "execution_count": 11,
     "metadata": {},
     "output_type": "execute_result"
    }
   ],
   "source": [
    "re.findall(\"[me]{2}\",data)"
   ]
  },
  {
   "cell_type": "code",
   "execution_count": 12,
   "metadata": {
    "collapsed": false
   },
   "outputs": [
    {
     "data": {
      "text/plain": [
       "['e1', 'l1', 'e2', 'l2', 'i3', 'e3']"
      ]
     },
     "execution_count": 12,
     "metadata": {},
     "output_type": "execute_result"
    }
   ],
   "source": [
    "re.findall(\"[a-z][0-9]\",data)"
   ]
  },
  {
   "cell_type": "code",
   "execution_count": 13,
   "metadata": {
    "collapsed": false
   },
   "outputs": [
    {
     "data": {
      "text/plain": [
       "['na',\n",
       " 'me',\n",
       " '23',\n",
       " '45',\n",
       " '67',\n",
       " '89',\n",
       " '67',\n",
       " 'em',\n",
       " 'ai',\n",
       " 'l1',\n",
       " 'ga',\n",
       " 'mi',\n",
       " 'co',\n",
       " 'na',\n",
       " 'me',\n",
       " 'em',\n",
       " 'ai',\n",
       " 'l2',\n",
       " 'ya',\n",
       " 'ho',\n",
       " 'co',\n",
       " '76',\n",
       " '54',\n",
       " '32',\n",
       " '45',\n",
       " '67',\n",
       " 'em',\n",
       " 'ai',\n",
       " 'ou',\n",
       " 'tl',\n",
       " 'oo',\n",
       " 'co',\n",
       " 'in',\n",
       " '24',\n",
       " '36',\n",
       " '75',\n",
       " '89',\n",
       " '02',\n",
       " 'na',\n",
       " 'me',\n",
       " 'gm',\n",
       " 'ai',\n",
       " 'co',\n",
       " '76',\n",
       " '59',\n",
       " '87',\n",
       " '65',\n",
       " '43']"
      ]
     },
     "execution_count": 13,
     "metadata": {},
     "output_type": "execute_result"
    }
   ],
   "source": [
    "re.findall(\"[a-z0-9]{2}\",data)"
   ]
  },
  {
   "cell_type": "code",
   "execution_count": 14,
   "metadata": {
    "collapsed": false
   },
   "outputs": [
    {
     "data": {
      "text/plain": [
       "['na',\n",
       " 'me',\n",
       " '23',\n",
       " '45',\n",
       " '67',\n",
       " '89',\n",
       " '67',\n",
       " 'em',\n",
       " 'ai',\n",
       " 'l1',\n",
       " 'ga',\n",
       " 'mi',\n",
       " 'co',\n",
       " 'na',\n",
       " 'me',\n",
       " 'em',\n",
       " 'ai',\n",
       " 'l2',\n",
       " 'ya',\n",
       " 'ho',\n",
       " 'co',\n",
       " '76',\n",
       " '54',\n",
       " '32',\n",
       " '45',\n",
       " '67',\n",
       " 'em',\n",
       " 'ai',\n",
       " 'ou',\n",
       " 'tl',\n",
       " 'oo',\n",
       " 'co',\n",
       " 'in',\n",
       " '24',\n",
       " '36',\n",
       " '75',\n",
       " '89',\n",
       " '02',\n",
       " 'na',\n",
       " 'me',\n",
       " 'NA',\n",
       " 'ME',\n",
       " 'EM',\n",
       " 'AI',\n",
       " 'L4',\n",
       " 'gm',\n",
       " 'ai',\n",
       " 'co',\n",
       " '76',\n",
       " '59',\n",
       " '87',\n",
       " '65',\n",
       " '43']"
      ]
     },
     "execution_count": 14,
     "metadata": {},
     "output_type": "execute_result"
    }
   ],
   "source": [
    "re.findall(\"[a-z0-9]{2}\",data,re.I)"
   ]
  },
  {
   "cell_type": "code",
   "execution_count": 15,
   "metadata": {
    "collapsed": false
   },
   "outputs": [
    {
     "data": {
      "text/plain": [
       "['na',\n",
       " 'me',\n",
       " '23',\n",
       " '45',\n",
       " '67',\n",
       " '89',\n",
       " '67',\n",
       " 'em',\n",
       " 'ai',\n",
       " 'l1',\n",
       " 'ga',\n",
       " 'mi',\n",
       " 'co',\n",
       " 'na',\n",
       " 'me',\n",
       " 'em',\n",
       " 'ai',\n",
       " 'l2',\n",
       " 'ya',\n",
       " 'ho',\n",
       " 'co',\n",
       " '76',\n",
       " '54',\n",
       " '32',\n",
       " '45',\n",
       " '67',\n",
       " 'em',\n",
       " 'ai',\n",
       " 'ou',\n",
       " 'tl',\n",
       " 'oo',\n",
       " 'co',\n",
       " 'in',\n",
       " '24',\n",
       " '36',\n",
       " '75',\n",
       " '89',\n",
       " '02',\n",
       " 'na',\n",
       " 'me',\n",
       " 'NA',\n",
       " 'ME',\n",
       " 'EM',\n",
       " 'AI',\n",
       " 'L4',\n",
       " 'gm',\n",
       " 'ai',\n",
       " 'co',\n",
       " '76',\n",
       " '59',\n",
       " '87',\n",
       " '65',\n",
       " '43']"
      ]
     },
     "execution_count": 15,
     "metadata": {},
     "output_type": "execute_result"
    }
   ],
   "source": [
    "re.findall(\"[a-zA-Z0-9]{2}\",data)"
   ]
  },
  {
   "cell_type": "code",
   "execution_count": 16,
   "metadata": {
    "collapsed": false
   },
   "outputs": [
    {
     "data": {
      "text/plain": [
       "['n',\n",
       " 'a',\n",
       " 'm',\n",
       " 'e',\n",
       " '1',\n",
       " ',',\n",
       " '1',\n",
       " ',',\n",
       " '2',\n",
       " '3',\n",
       " '4',\n",
       " '5',\n",
       " '6',\n",
       " '7',\n",
       " '8',\n",
       " '9',\n",
       " '6',\n",
       " '7',\n",
       " ',',\n",
       " 'e',\n",
       " 'm',\n",
       " 'a',\n",
       " 'i',\n",
       " 'l',\n",
       " '1',\n",
       " '@',\n",
       " 'g',\n",
       " 'a',\n",
       " 'm',\n",
       " 'i',\n",
       " 'l',\n",
       " '.',\n",
       " 'c',\n",
       " 'o',\n",
       " 'm',\n",
       " '2',\n",
       " ',',\n",
       " 'n',\n",
       " 'a',\n",
       " 'm',\n",
       " 'e',\n",
       " '2',\n",
       " ',',\n",
       " 'e',\n",
       " 'm',\n",
       " 'a',\n",
       " 'i',\n",
       " 'l',\n",
       " '2',\n",
       " '@',\n",
       " 'y',\n",
       " 'a',\n",
       " 'h',\n",
       " 'o',\n",
       " 'o',\n",
       " '.',\n",
       " 'c',\n",
       " 'o',\n",
       " 'm',\n",
       " ',',\n",
       " '7',\n",
       " '6',\n",
       " '5',\n",
       " '4',\n",
       " '3',\n",
       " '2',\n",
       " '4',\n",
       " '5',\n",
       " '6',\n",
       " '7',\n",
       " 'e',\n",
       " 'm',\n",
       " 'a',\n",
       " 'i',\n",
       " '3',\n",
       " '@',\n",
       " 'o',\n",
       " 'u',\n",
       " 't',\n",
       " 'l',\n",
       " 'o',\n",
       " 'o',\n",
       " 'k',\n",
       " '.',\n",
       " 'c',\n",
       " 'o',\n",
       " '.',\n",
       " 'i',\n",
       " 'n',\n",
       " ',',\n",
       " '3',\n",
       " ',',\n",
       " '2',\n",
       " '4',\n",
       " '3',\n",
       " '6',\n",
       " '7',\n",
       " '5',\n",
       " '8',\n",
       " '9',\n",
       " '0',\n",
       " '2',\n",
       " ',',\n",
       " 'n',\n",
       " 'a',\n",
       " 'm',\n",
       " 'e',\n",
       " '3',\n",
       " 'N',\n",
       " 'A',\n",
       " 'M',\n",
       " 'E',\n",
       " '4',\n",
       " ',',\n",
       " 'E',\n",
       " 'M',\n",
       " 'A',\n",
       " 'I',\n",
       " 'L',\n",
       " '4',\n",
       " '@',\n",
       " 'g',\n",
       " 'm',\n",
       " 'a',\n",
       " 'i',\n",
       " 'l',\n",
       " '.',\n",
       " 'c',\n",
       " 'o',\n",
       " 'm',\n",
       " ',',\n",
       " '7',\n",
       " '6',\n",
       " '5',\n",
       " '9',\n",
       " '8',\n",
       " '7',\n",
       " '6',\n",
       " '5',\n",
       " '4',\n",
       " '3',\n",
       " ',',\n",
       " '4']"
      ]
     },
     "execution_count": 16,
     "metadata": {},
     "output_type": "execute_result"
    }
   ],
   "source": [
    "re.findall(\".\",data)"
   ]
  },
  {
   "cell_type": "code",
   "execution_count": 17,
   "metadata": {
    "collapsed": false
   },
   "outputs": [
    {
     "data": {
      "text/plain": [
       "'name1,1,2345678967,email1@gamil.com\\n2,name2,email2@yahoo.com,7654324567\\nemai3@outlook.co.in,3,2436758902,name3\\nNAME4,EMAIL4@gmail.com,7659876543,4'"
      ]
     },
     "execution_count": 17,
     "metadata": {},
     "output_type": "execute_result"
    }
   ],
   "source": [
    "data"
   ]
  },
  {
   "cell_type": "code",
   "execution_count": 18,
   "metadata": {
    "collapsed": false
   },
   "outputs": [
    {
     "data": {
      "text/plain": [
       "['n',\n",
       " 'a',\n",
       " 'm',\n",
       " 'e',\n",
       " '1',\n",
       " ',',\n",
       " '1',\n",
       " ',',\n",
       " '2',\n",
       " '3',\n",
       " '4',\n",
       " '5',\n",
       " '6',\n",
       " '7',\n",
       " '8',\n",
       " '9',\n",
       " '6',\n",
       " '7',\n",
       " ',',\n",
       " 'e',\n",
       " 'm',\n",
       " 'a',\n",
       " 'i',\n",
       " 'l',\n",
       " '1',\n",
       " '@',\n",
       " 'g',\n",
       " 'a',\n",
       " 'm',\n",
       " 'i',\n",
       " 'l',\n",
       " '.',\n",
       " 'c',\n",
       " 'o',\n",
       " 'm',\n",
       " '\\n',\n",
       " '2',\n",
       " ',',\n",
       " 'n',\n",
       " 'a',\n",
       " 'm',\n",
       " 'e',\n",
       " '2',\n",
       " ',',\n",
       " 'e',\n",
       " 'm',\n",
       " 'a',\n",
       " 'i',\n",
       " 'l',\n",
       " '2',\n",
       " '@',\n",
       " 'y',\n",
       " 'a',\n",
       " 'h',\n",
       " 'o',\n",
       " 'o',\n",
       " '.',\n",
       " 'c',\n",
       " 'o',\n",
       " 'm',\n",
       " ',',\n",
       " '7',\n",
       " '6',\n",
       " '5',\n",
       " '4',\n",
       " '3',\n",
       " '2',\n",
       " '4',\n",
       " '5',\n",
       " '6',\n",
       " '7',\n",
       " '\\n',\n",
       " 'e',\n",
       " 'm',\n",
       " 'a',\n",
       " 'i',\n",
       " '3',\n",
       " '@',\n",
       " 'o',\n",
       " 'u',\n",
       " 't',\n",
       " 'l',\n",
       " 'o',\n",
       " 'o',\n",
       " 'k',\n",
       " '.',\n",
       " 'c',\n",
       " 'o',\n",
       " '.',\n",
       " 'i',\n",
       " 'n',\n",
       " ',',\n",
       " '3',\n",
       " ',',\n",
       " '2',\n",
       " '4',\n",
       " '3',\n",
       " '6',\n",
       " '7',\n",
       " '5',\n",
       " '8',\n",
       " '9',\n",
       " '0',\n",
       " '2',\n",
       " ',',\n",
       " 'n',\n",
       " 'a',\n",
       " 'm',\n",
       " 'e',\n",
       " '3',\n",
       " '\\n',\n",
       " 'N',\n",
       " 'A',\n",
       " 'M',\n",
       " 'E',\n",
       " '4',\n",
       " ',',\n",
       " 'E',\n",
       " 'M',\n",
       " 'A',\n",
       " 'I',\n",
       " 'L',\n",
       " '4',\n",
       " '@',\n",
       " 'g',\n",
       " 'm',\n",
       " 'a',\n",
       " 'i',\n",
       " 'l',\n",
       " '.',\n",
       " 'c',\n",
       " 'o',\n",
       " 'm',\n",
       " ',',\n",
       " '7',\n",
       " '6',\n",
       " '5',\n",
       " '9',\n",
       " '8',\n",
       " '7',\n",
       " '6',\n",
       " '5',\n",
       " '4',\n",
       " '3',\n",
       " ',',\n",
       " '4']"
      ]
     },
     "execution_count": 18,
     "metadata": {},
     "output_type": "execute_result"
    }
   ],
   "source": [
    "re.findall(\".\",data,re.DOTALL)"
   ]
  },
  {
   "cell_type": "code",
   "execution_count": 19,
   "metadata": {
    "collapsed": false
   },
   "outputs": [
    {
     "data": {
      "text/plain": [
       "['na',\n",
       " 'me',\n",
       " '1,',\n",
       " '1,',\n",
       " '23',\n",
       " '45',\n",
       " '67',\n",
       " '89',\n",
       " '67',\n",
       " ',e',\n",
       " 'ma',\n",
       " 'il',\n",
       " '1@',\n",
       " 'ga',\n",
       " 'mi',\n",
       " 'l.',\n",
       " 'co',\n",
       " 'm\\n',\n",
       " '2,',\n",
       " 'na',\n",
       " 'me',\n",
       " '2,',\n",
       " 'em',\n",
       " 'ai',\n",
       " 'l2',\n",
       " '@y',\n",
       " 'ah',\n",
       " 'oo',\n",
       " '.c',\n",
       " 'om',\n",
       " ',7',\n",
       " '65',\n",
       " '43',\n",
       " '24',\n",
       " '56',\n",
       " '7\\n',\n",
       " 'em',\n",
       " 'ai',\n",
       " '3@',\n",
       " 'ou',\n",
       " 'tl',\n",
       " 'oo',\n",
       " 'k.',\n",
       " 'co',\n",
       " '.i',\n",
       " 'n,',\n",
       " '3,',\n",
       " '24',\n",
       " '36',\n",
       " '75',\n",
       " '89',\n",
       " '02',\n",
       " ',n',\n",
       " 'am',\n",
       " 'e3',\n",
       " '\\nN',\n",
       " 'AM',\n",
       " 'E4',\n",
       " ',E',\n",
       " 'MA',\n",
       " 'IL',\n",
       " '4@',\n",
       " 'gm',\n",
       " 'ai',\n",
       " 'l.',\n",
       " 'co',\n",
       " 'm,',\n",
       " '76',\n",
       " '59',\n",
       " '87',\n",
       " '65',\n",
       " '43',\n",
       " ',4']"
      ]
     },
     "execution_count": 19,
     "metadata": {},
     "output_type": "execute_result"
    }
   ],
   "source": [
    "re.findall(\".{2}\",data,re.DOTALL)"
   ]
  },
  {
   "cell_type": "code",
   "execution_count": 20,
   "metadata": {
    "collapsed": false
   },
   "outputs": [
    {
     "data": {
      "text/plain": [
       "['name1',\n",
       " ',1,23',\n",
       " '45678',\n",
       " '967,e',\n",
       " 'mail1',\n",
       " '@gami',\n",
       " 'l.com',\n",
       " '\\n2,na',\n",
       " 'me2,e',\n",
       " 'mail2',\n",
       " '@yaho',\n",
       " 'o.com',\n",
       " ',7654',\n",
       " '32456',\n",
       " '7\\nema',\n",
       " 'i3@ou',\n",
       " 'tlook',\n",
       " '.co.i',\n",
       " 'n,3,2',\n",
       " '43675',\n",
       " '8902,',\n",
       " 'name3',\n",
       " '\\nNAME',\n",
       " '4,EMA',\n",
       " 'IL4@g',\n",
       " 'mail.',\n",
       " 'com,7',\n",
       " '65987',\n",
       " '6543,']"
      ]
     },
     "execution_count": 20,
     "metadata": {},
     "output_type": "execute_result"
    }
   ],
   "source": [
    "re.findall(\".{2,5}\",data,re.DOTALL)"
   ]
  },
  {
   "cell_type": "code",
   "execution_count": 21,
   "metadata": {
    "collapsed": false
   },
   "outputs": [
    {
     "data": {
      "text/plain": [
       "['name',\n",
       " 'email',\n",
       " 'gamil',\n",
       " 'com',\n",
       " 'name',\n",
       " 'email',\n",
       " 'yahoo',\n",
       " 'com',\n",
       " 'emai',\n",
       " 'outlo',\n",
       " 'ok',\n",
       " 'co',\n",
       " 'in',\n",
       " 'name',\n",
       " 'gmail',\n",
       " 'com']"
      ]
     },
     "execution_count": 21,
     "metadata": {},
     "output_type": "execute_result"
    }
   ],
   "source": [
    "re.findall(\"[a-z]{2,5}\",data,re.DOTALL)"
   ]
  },
  {
   "cell_type": "code",
   "execution_count": 22,
   "metadata": {
    "collapsed": false
   },
   "outputs": [
    {
     "data": {
      "text/plain": [
       "['1,',\n",
       " '1,',\n",
       " '23',\n",
       " '45',\n",
       " '67',\n",
       " '89',\n",
       " '67',\n",
       " '1@',\n",
       " '\\n2',\n",
       " '2,',\n",
       " '2@',\n",
       " ',7',\n",
       " '65',\n",
       " '43',\n",
       " '24',\n",
       " '56',\n",
       " '7\\n',\n",
       " '3@',\n",
       " ',3',\n",
       " ',2',\n",
       " '43',\n",
       " '67',\n",
       " '58',\n",
       " '90',\n",
       " '2,',\n",
       " '3\\n',\n",
       " 'NA',\n",
       " 'ME',\n",
       " '4,',\n",
       " 'EM',\n",
       " 'AI',\n",
       " 'L4',\n",
       " ',7',\n",
       " '65',\n",
       " '98',\n",
       " '76',\n",
       " '54',\n",
       " '3,']"
      ]
     },
     "execution_count": 22,
     "metadata": {},
     "output_type": "execute_result"
    }
   ],
   "source": [
    "re.findall(\"[^a-z]{2}\",data,re.DOTALL)"
   ]
  },
  {
   "cell_type": "code",
   "execution_count": 23,
   "metadata": {
    "collapsed": false
   },
   "outputs": [
    {
     "data": {
      "text/plain": [
       "'name1,1,2345678967,email1@gamil.com\\n2,name2,email2@yahoo.com,7654324567\\nemai3@outlook.co.in,3,2436758902,name3\\nNAME4,EMAIL4@gmail.com,7659876543,4'"
      ]
     },
     "execution_count": 23,
     "metadata": {},
     "output_type": "execute_result"
    }
   ],
   "source": [
    "data"
   ]
  },
  {
   "cell_type": "code",
   "execution_count": 24,
   "metadata": {
    "collapsed": false
   },
   "outputs": [
    {
     "data": {
      "text/plain": [
       "['na']"
      ]
     },
     "execution_count": 24,
     "metadata": {},
     "output_type": "execute_result"
    }
   ],
   "source": [
    "re.findall(\"^[a-z]{2}\",data,re.DOTALL)"
   ]
  },
  {
   "cell_type": "code",
   "execution_count": 25,
   "metadata": {
    "collapsed": false
   },
   "outputs": [
    {
     "data": {
      "text/plain": [
       "[]"
      ]
     },
     "execution_count": 25,
     "metadata": {},
     "output_type": "execute_result"
    }
   ],
   "source": [
    "re.findall(\"[a-z]{2}$\",data,re.DOTALL)"
   ]
  },
  {
   "cell_type": "code",
   "execution_count": 26,
   "metadata": {
    "collapsed": false
   },
   "outputs": [
    {
     "data": {
      "text/plain": [
       "'name1,1,2345678967,email1@gamil.com\\n2,name2,email2@yahoo.com,7654324567\\nemai3@outlook.co.in,3,2436758902,name3\\nNAME4,EMAIL4@gmail.com,7659876543,4'"
      ]
     },
     "execution_count": 26,
     "metadata": {},
     "output_type": "execute_result"
    }
   ],
   "source": [
    "data"
   ]
  },
  {
   "cell_type": "code",
   "execution_count": 27,
   "metadata": {
    "collapsed": false
   },
   "outputs": [
    {
     "name": "stdout",
     "output_type": "stream",
     "text": [
      "name1,1,2345678967,email1@gamil.com\n",
      "2,name2,email2@yahoo.com,7654324567\n",
      "emai3@outlook.co.in,3,2436758902,name3\n",
      "NAME4,EMAIL4@gmail.com,7659876543,4\n"
     ]
    }
   ],
   "source": [
    "print data"
   ]
  },
  {
   "cell_type": "code",
   "execution_count": 28,
   "metadata": {
    "collapsed": false
   },
   "outputs": [
    {
     "data": {
      "text/plain": [
       "['om']"
      ]
     },
     "execution_count": 28,
     "metadata": {},
     "output_type": "execute_result"
    }
   ],
   "source": [
    "re.findall(\"[a-z]{2}$\",data,re.M)"
   ]
  },
  {
   "cell_type": "code",
   "execution_count": 29,
   "metadata": {
    "collapsed": false
   },
   "outputs": [
    {
     "data": {
      "text/plain": [
       "['name',\n",
       " '',\n",
       " '',\n",
       " '',\n",
       " '',\n",
       " '',\n",
       " '',\n",
       " '',\n",
       " '',\n",
       " '',\n",
       " '',\n",
       " '',\n",
       " '',\n",
       " '',\n",
       " '',\n",
       " '',\n",
       " 'email',\n",
       " '',\n",
       " '',\n",
       " 'gamil',\n",
       " '',\n",
       " 'com',\n",
       " '',\n",
       " '',\n",
       " '',\n",
       " 'name',\n",
       " '',\n",
       " '',\n",
       " 'email',\n",
       " '',\n",
       " '',\n",
       " 'yahoo',\n",
       " '',\n",
       " 'com',\n",
       " '',\n",
       " '',\n",
       " '',\n",
       " '',\n",
       " '',\n",
       " '',\n",
       " '',\n",
       " '',\n",
       " '',\n",
       " '',\n",
       " '',\n",
       " '',\n",
       " 'emai',\n",
       " '',\n",
       " '',\n",
       " 'outlook',\n",
       " '',\n",
       " 'co',\n",
       " '',\n",
       " 'in',\n",
       " '',\n",
       " '',\n",
       " '',\n",
       " '',\n",
       " '',\n",
       " '',\n",
       " '',\n",
       " '',\n",
       " '',\n",
       " '',\n",
       " '',\n",
       " '',\n",
       " '',\n",
       " '',\n",
       " 'name',\n",
       " '',\n",
       " '',\n",
       " '',\n",
       " '',\n",
       " '',\n",
       " '',\n",
       " '',\n",
       " '',\n",
       " '',\n",
       " '',\n",
       " '',\n",
       " '',\n",
       " '',\n",
       " '',\n",
       " '',\n",
       " 'gmail',\n",
       " '',\n",
       " 'com',\n",
       " '',\n",
       " '',\n",
       " '',\n",
       " '',\n",
       " '',\n",
       " '',\n",
       " '',\n",
       " '',\n",
       " '',\n",
       " '',\n",
       " '',\n",
       " '',\n",
       " '',\n",
       " '']"
      ]
     },
     "execution_count": 29,
     "metadata": {},
     "output_type": "execute_result"
    }
   ],
   "source": [
    "re.findall(\"[a-z]*\",data)"
   ]
  },
  {
   "cell_type": "code",
   "execution_count": 30,
   "metadata": {
    "collapsed": false
   },
   "outputs": [
    {
     "data": {
      "text/plain": [
       "['name',\n",
       " 'email',\n",
       " 'gamil',\n",
       " 'com',\n",
       " 'name',\n",
       " 'email',\n",
       " 'yahoo',\n",
       " 'com',\n",
       " 'emai',\n",
       " 'outlook',\n",
       " 'co',\n",
       " 'in',\n",
       " 'name',\n",
       " 'gmail',\n",
       " 'com']"
      ]
     },
     "execution_count": 30,
     "metadata": {},
     "output_type": "execute_result"
    }
   ],
   "source": [
    "re.findall(\"[a-z]+\",data)"
   ]
  },
  {
   "cell_type": "code",
   "execution_count": 31,
   "metadata": {
    "collapsed": false
   },
   "outputs": [
    {
     "data": {
      "text/plain": [
       "['n',\n",
       " 'a',\n",
       " 'm',\n",
       " 'e',\n",
       " '',\n",
       " '',\n",
       " '',\n",
       " '',\n",
       " '',\n",
       " '',\n",
       " '',\n",
       " '',\n",
       " '',\n",
       " '',\n",
       " '',\n",
       " '',\n",
       " '',\n",
       " '',\n",
       " '',\n",
       " 'e',\n",
       " 'm',\n",
       " 'a',\n",
       " 'i',\n",
       " 'l',\n",
       " '',\n",
       " '',\n",
       " 'g',\n",
       " 'a',\n",
       " 'm',\n",
       " 'i',\n",
       " 'l',\n",
       " '',\n",
       " 'c',\n",
       " 'o',\n",
       " 'm',\n",
       " '',\n",
       " '',\n",
       " '',\n",
       " 'n',\n",
       " 'a',\n",
       " 'm',\n",
       " 'e',\n",
       " '',\n",
       " '',\n",
       " 'e',\n",
       " 'm',\n",
       " 'a',\n",
       " 'i',\n",
       " 'l',\n",
       " '',\n",
       " '',\n",
       " 'y',\n",
       " 'a',\n",
       " 'h',\n",
       " 'o',\n",
       " 'o',\n",
       " '',\n",
       " 'c',\n",
       " 'o',\n",
       " 'm',\n",
       " '',\n",
       " '',\n",
       " '',\n",
       " '',\n",
       " '',\n",
       " '',\n",
       " '',\n",
       " '',\n",
       " '',\n",
       " '',\n",
       " '',\n",
       " '',\n",
       " 'e',\n",
       " 'm',\n",
       " 'a',\n",
       " 'i',\n",
       " '',\n",
       " '',\n",
       " 'o',\n",
       " 'u',\n",
       " 't',\n",
       " 'l',\n",
       " 'o',\n",
       " 'o',\n",
       " 'k',\n",
       " '',\n",
       " 'c',\n",
       " 'o',\n",
       " '',\n",
       " 'i',\n",
       " 'n',\n",
       " '',\n",
       " '',\n",
       " '',\n",
       " '',\n",
       " '',\n",
       " '',\n",
       " '',\n",
       " '',\n",
       " '',\n",
       " '',\n",
       " '',\n",
       " '',\n",
       " '',\n",
       " '',\n",
       " 'n',\n",
       " 'a',\n",
       " 'm',\n",
       " 'e',\n",
       " '',\n",
       " '',\n",
       " '',\n",
       " '',\n",
       " '',\n",
       " '',\n",
       " '',\n",
       " '',\n",
       " '',\n",
       " '',\n",
       " '',\n",
       " '',\n",
       " '',\n",
       " '',\n",
       " '',\n",
       " 'g',\n",
       " 'm',\n",
       " 'a',\n",
       " 'i',\n",
       " 'l',\n",
       " '',\n",
       " 'c',\n",
       " 'o',\n",
       " 'm',\n",
       " '',\n",
       " '',\n",
       " '',\n",
       " '',\n",
       " '',\n",
       " '',\n",
       " '',\n",
       " '',\n",
       " '',\n",
       " '',\n",
       " '',\n",
       " '',\n",
       " '',\n",
       " '']"
      ]
     },
     "execution_count": 31,
     "metadata": {},
     "output_type": "execute_result"
    }
   ],
   "source": [
    "re.findall(\"[a-z]?\",data)"
   ]
  },
  {
   "cell_type": "code",
   "execution_count": 32,
   "metadata": {
    "collapsed": false
   },
   "outputs": [
    {
     "data": {
      "text/plain": [
       "'name1,1,2345678967,email1@gamil.com\\n2,name2,email2@yahoo.com,7654324567\\nemai3@outlook.co.in,3,2436758902,name3\\nNAME4,EMAIL4@gmail.com,7659876543,4'"
      ]
     },
     "execution_count": 32,
     "metadata": {},
     "output_type": "execute_result"
    }
   ],
   "source": [
    "data"
   ]
  },
  {
   "cell_type": "code",
   "execution_count": 33,
   "metadata": {
    "collapsed": true
   },
   "outputs": [],
   "source": [
    "data = open('data1.txt').read()"
   ]
  },
  {
   "cell_type": "code",
   "execution_count": 34,
   "metadata": {
    "collapsed": false
   },
   "outputs": [
    {
     "data": {
      "text/plain": [
       "'name1e,1e,2345678967,email1@gamil.com\\n2,name2,email2@yahoo.com,7654324567\\nemai3@outlook.co.in,3,2436758902,name3\\nNAME4,EMAIL4@gmail.com,7659876543,4'"
      ]
     },
     "execution_count": 34,
     "metadata": {},
     "output_type": "execute_result"
    }
   ],
   "source": [
    "data"
   ]
  },
  {
   "cell_type": "code",
   "execution_count": 35,
   "metadata": {
    "collapsed": false
   },
   "outputs": [
    {
     "data": {
      "text/plain": [
       "['name',\n",
       " '',\n",
       " 'e',\n",
       " '',\n",
       " '',\n",
       " 'e',\n",
       " '',\n",
       " '',\n",
       " '',\n",
       " '',\n",
       " '',\n",
       " '',\n",
       " '',\n",
       " '',\n",
       " '',\n",
       " '',\n",
       " '',\n",
       " '',\n",
       " 'email',\n",
       " '',\n",
       " '',\n",
       " 'gamil',\n",
       " '',\n",
       " 'com',\n",
       " '',\n",
       " '',\n",
       " '',\n",
       " 'name',\n",
       " '',\n",
       " '',\n",
       " 'email',\n",
       " '',\n",
       " '',\n",
       " 'yahoo',\n",
       " '',\n",
       " 'com',\n",
       " '',\n",
       " '',\n",
       " '',\n",
       " '',\n",
       " '',\n",
       " '',\n",
       " '',\n",
       " '',\n",
       " '',\n",
       " '',\n",
       " '',\n",
       " '',\n",
       " 'emai',\n",
       " '',\n",
       " '',\n",
       " 'outlook',\n",
       " '',\n",
       " 'co',\n",
       " '',\n",
       " 'in',\n",
       " '',\n",
       " '',\n",
       " '',\n",
       " '',\n",
       " '',\n",
       " '',\n",
       " '',\n",
       " '',\n",
       " '',\n",
       " '',\n",
       " '',\n",
       " '',\n",
       " '',\n",
       " '',\n",
       " 'name',\n",
       " '',\n",
       " '',\n",
       " '',\n",
       " '',\n",
       " '',\n",
       " '',\n",
       " '',\n",
       " '',\n",
       " '',\n",
       " '',\n",
       " '',\n",
       " '',\n",
       " '',\n",
       " '',\n",
       " '',\n",
       " 'gmail',\n",
       " '',\n",
       " 'com',\n",
       " '',\n",
       " '',\n",
       " '',\n",
       " '',\n",
       " '',\n",
       " '',\n",
       " '',\n",
       " '',\n",
       " '',\n",
       " '',\n",
       " '',\n",
       " '',\n",
       " '',\n",
       " '']"
      ]
     },
     "execution_count": 35,
     "metadata": {},
     "output_type": "execute_result"
    }
   ],
   "source": [
    "re.findall(\"[a-z]*\",data)"
   ]
  },
  {
   "cell_type": "code",
   "execution_count": 36,
   "metadata": {
    "collapsed": false
   },
   "outputs": [
    {
     "data": {
      "text/plain": [
       "['name',\n",
       " 'e',\n",
       " 'e',\n",
       " 'email',\n",
       " 'gamil',\n",
       " 'com',\n",
       " 'name',\n",
       " 'email',\n",
       " 'yahoo',\n",
       " 'com',\n",
       " 'emai',\n",
       " 'outlook',\n",
       " 'co',\n",
       " 'in',\n",
       " 'name',\n",
       " 'gmail',\n",
       " 'com']"
      ]
     },
     "execution_count": 36,
     "metadata": {},
     "output_type": "execute_result"
    }
   ],
   "source": [
    "re.findall(\"[a-z]+\",data)"
   ]
  },
  {
   "cell_type": "code",
   "execution_count": 37,
   "metadata": {
    "collapsed": false
   },
   "outputs": [
    {
     "data": {
      "text/plain": [
       "['n',\n",
       " 'a',\n",
       " 'm',\n",
       " 'e',\n",
       " '',\n",
       " 'e',\n",
       " '',\n",
       " '',\n",
       " 'e',\n",
       " '',\n",
       " '',\n",
       " '',\n",
       " '',\n",
       " '',\n",
       " '',\n",
       " '',\n",
       " '',\n",
       " '',\n",
       " '',\n",
       " '',\n",
       " '',\n",
       " 'e',\n",
       " 'm',\n",
       " 'a',\n",
       " 'i',\n",
       " 'l',\n",
       " '',\n",
       " '',\n",
       " 'g',\n",
       " 'a',\n",
       " 'm',\n",
       " 'i',\n",
       " 'l',\n",
       " '',\n",
       " 'c',\n",
       " 'o',\n",
       " 'm',\n",
       " '',\n",
       " '',\n",
       " '',\n",
       " 'n',\n",
       " 'a',\n",
       " 'm',\n",
       " 'e',\n",
       " '',\n",
       " '',\n",
       " 'e',\n",
       " 'm',\n",
       " 'a',\n",
       " 'i',\n",
       " 'l',\n",
       " '',\n",
       " '',\n",
       " 'y',\n",
       " 'a',\n",
       " 'h',\n",
       " 'o',\n",
       " 'o',\n",
       " '',\n",
       " 'c',\n",
       " 'o',\n",
       " 'm',\n",
       " '',\n",
       " '',\n",
       " '',\n",
       " '',\n",
       " '',\n",
       " '',\n",
       " '',\n",
       " '',\n",
       " '',\n",
       " '',\n",
       " '',\n",
       " '',\n",
       " 'e',\n",
       " 'm',\n",
       " 'a',\n",
       " 'i',\n",
       " '',\n",
       " '',\n",
       " 'o',\n",
       " 'u',\n",
       " 't',\n",
       " 'l',\n",
       " 'o',\n",
       " 'o',\n",
       " 'k',\n",
       " '',\n",
       " 'c',\n",
       " 'o',\n",
       " '',\n",
       " 'i',\n",
       " 'n',\n",
       " '',\n",
       " '',\n",
       " '',\n",
       " '',\n",
       " '',\n",
       " '',\n",
       " '',\n",
       " '',\n",
       " '',\n",
       " '',\n",
       " '',\n",
       " '',\n",
       " '',\n",
       " '',\n",
       " 'n',\n",
       " 'a',\n",
       " 'm',\n",
       " 'e',\n",
       " '',\n",
       " '',\n",
       " '',\n",
       " '',\n",
       " '',\n",
       " '',\n",
       " '',\n",
       " '',\n",
       " '',\n",
       " '',\n",
       " '',\n",
       " '',\n",
       " '',\n",
       " '',\n",
       " '',\n",
       " 'g',\n",
       " 'm',\n",
       " 'a',\n",
       " 'i',\n",
       " 'l',\n",
       " '',\n",
       " 'c',\n",
       " 'o',\n",
       " 'm',\n",
       " '',\n",
       " '',\n",
       " '',\n",
       " '',\n",
       " '',\n",
       " '',\n",
       " '',\n",
       " '',\n",
       " '',\n",
       " '',\n",
       " '',\n",
       " '',\n",
       " '',\n",
       " '']"
      ]
     },
     "execution_count": 37,
     "metadata": {},
     "output_type": "execute_result"
    }
   ],
   "source": [
    "re.findall(\"[a-z]?\",data)"
   ]
  },
  {
   "cell_type": "code",
   "execution_count": 38,
   "metadata": {
    "collapsed": false
   },
   "outputs": [
    {
     "data": {
      "text/plain": [
       "'name1e,1e,2345678967,email1@gamil.com\\n2,name2,email2@yahoo.com,7654324567\\nemai3@outlook.co.in,3,2436758902,name3\\nNAME4,EMAIL4@gmail.com,7659876543,4'"
      ]
     },
     "execution_count": 38,
     "metadata": {},
     "output_type": "execute_result"
    }
   ],
   "source": [
    "data"
   ]
  },
  {
   "cell_type": "code",
   "execution_count": 39,
   "metadata": {
    "collapsed": false
   },
   "outputs": [
    {
     "data": {
      "text/plain": [
       "['email1@gamil.com', 'email2@yahoo.com', 'emai3@outlook.co.in', '4@gmail.com']"
      ]
     },
     "execution_count": 39,
     "metadata": {},
     "output_type": "execute_result"
    }
   ],
   "source": [
    "re.findall(\"[a-z0-9]+@[a-z]+\\.[com]{2,3}\\.*[in]*\",data)"
   ]
  },
  {
   "cell_type": "code",
   "execution_count": 40,
   "metadata": {
    "collapsed": false
   },
   "outputs": [
    {
     "data": {
      "text/plain": [
       "['email1@gamil.com',\n",
       " 'email2@yahoo.com',\n",
       " 'emai3@outlook.co.in',\n",
       " 'EMAIL4@gmail.com']"
      ]
     },
     "execution_count": 40,
     "metadata": {},
     "output_type": "execute_result"
    }
   ],
   "source": [
    "re.findall(\"[a-z0-9]+@[a-z]+\\.[com]{2,3}\\.*[in]*\",data,re.I)"
   ]
  },
  {
   "cell_type": "code",
   "execution_count": 41,
   "metadata": {
    "collapsed": false
   },
   "outputs": [
    {
     "data": {
      "text/plain": [
       "['emai3@outlook.co.in']"
      ]
     },
     "execution_count": 41,
     "metadata": {},
     "output_type": "execute_result"
    }
   ],
   "source": [
    "re.findall(\"^[a-z0-9]+@[a-z]+\\.[com]{2,3}\\.*[in]*\",data,re.I|re.M)"
   ]
  },
  {
   "cell_type": "code",
   "execution_count": 42,
   "metadata": {
    "collapsed": false
   },
   "outputs": [
    {
     "data": {
      "text/plain": [
       "[]"
      ]
     },
     "execution_count": 42,
     "metadata": {},
     "output_type": "execute_result"
    }
   ],
   "source": [
    "re.findall(\"^[a-z0-9]+@[a-z]+\\.[com]{2,3}\\.*[in]*\",data,re.I)"
   ]
  },
  {
   "cell_type": "code",
   "execution_count": 43,
   "metadata": {
    "collapsed": true
   },
   "outputs": [],
   "source": [
    "email_reg = re.compile('[a-z0-9]+@[a-z]+\\.[com]{2,3}\\.*[in]*')"
   ]
  },
  {
   "cell_type": "code",
   "execution_count": 44,
   "metadata": {
    "collapsed": false
   },
   "outputs": [
    {
     "data": {
      "text/plain": [
       "['email1@gamil.com', 'email2@yahoo.com', 'emai3@outlook.co.in', '4@gmail.com']"
      ]
     },
     "execution_count": 44,
     "metadata": {},
     "output_type": "execute_result"
    }
   ],
   "source": [
    "email_reg.findall(data)"
   ]
  },
  {
   "cell_type": "code",
   "execution_count": 45,
   "metadata": {
    "collapsed": true
   },
   "outputs": [],
   "source": [
    "re.match('[a-z0-9]+@[a-z]+\\.[com]{2,3}\\.*[in]*',data)"
   ]
  },
  {
   "cell_type": "code",
   "execution_count": 46,
   "metadata": {
    "collapsed": false
   },
   "outputs": [
    {
     "data": {
      "text/plain": [
       "'name1e,1e,2345678967,email1@gamil.com\\n2,name2,email2@yahoo.com,7654324567\\nemai3@outlook.co.in,3,2436758902,name3\\nNAME4,EMAIL4@gmail.com,7659876543,4'"
      ]
     },
     "execution_count": 46,
     "metadata": {},
     "output_type": "execute_result"
    }
   ],
   "source": [
    "data"
   ]
  },
  {
   "cell_type": "code",
   "execution_count": 47,
   "metadata": {
    "collapsed": false
   },
   "outputs": [
    {
     "data": {
      "text/plain": [
       "<_sre.SRE_Match at 0x3ddd7e8>"
      ]
     },
     "execution_count": 47,
     "metadata": {},
     "output_type": "execute_result"
    }
   ],
   "source": [
    "re.search('[a-z0-9]+@[a-z]+\\.[com]{2,3}\\.*[in]*',data)"
   ]
  },
  {
   "cell_type": "code",
   "execution_count": null,
   "metadata": {
    "collapsed": true
   },
   "outputs": [],
   "source": []
  }
 ],
 "metadata": {
  "anaconda-cloud": {},
  "kernelspec": {
   "display_name": "Python [default]",
   "language": "python",
   "name": "python2"
  },
  "language_info": {
   "codemirror_mode": {
    "name": "ipython",
    "version": 2
   },
   "file_extension": ".py",
   "mimetype": "text/x-python",
   "name": "python",
   "nbconvert_exporter": "python",
   "pygments_lexer": "ipython2",
   "version": "2.7.12"
  }
 },
 "nbformat": 4,
 "nbformat_minor": 1
}
