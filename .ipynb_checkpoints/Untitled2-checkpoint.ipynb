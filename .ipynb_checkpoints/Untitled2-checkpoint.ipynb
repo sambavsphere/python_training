{
 "cells": [
  {
   "cell_type": "code",
   "execution_count": 12,
   "metadata": {
    "collapsed": false
   },
   "outputs": [
    {
     "name": "stdout",
     "output_type": "stream",
     "text": [
      "Enter a number: 23\n",
      "a is prime number\n"
     ]
    }
   ],
   "source": [
    "a = input(\"Enter a number: \")\n",
    "count = 0\n",
    "if a>2:\n",
    "    for i in range(2,a):\n",
    "        if a%i==0:\n",
    "            count = count+1\n",
    "            break\n",
    "    if count==0:\n",
    "        print \"a is prime number\"\n",
    "    else:\n",
    "        print \"a is not a prime\"\n",
    "else:\n",
    "    print \"not a valid number\""
   ]
  },
  {
   "cell_type": "code",
   "execution_count": null,
   "metadata": {
    "collapsed": true
   },
   "outputs": [],
   "source": []
  }
 ],
 "metadata": {
  "kernelspec": {
   "display_name": "Python [default]",
   "language": "python",
   "name": "python2"
  },
  "language_info": {
   "codemirror_mode": {
    "name": "ipython",
    "version": 2
   },
   "file_extension": ".py",
   "mimetype": "text/x-python",
   "name": "python",
   "nbconvert_exporter": "python",
   "pygments_lexer": "ipython2",
   "version": "2.7.12"
  }
 },
 "nbformat": 4,
 "nbformat_minor": 1
}
